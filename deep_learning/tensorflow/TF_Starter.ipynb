{
 "cells": [
  {
   "cell_type": "code",
   "execution_count": null,
   "id": "6188b46e-aba9-40aa-a7a8-307076883f01",
   "metadata": {},
   "outputs": [],
   "source": [
    "import tensorflow as tf\n",
    "from tensorflow.keras.datasets.fashion_mnist import load_data"
   ]
  },
  {
   "cell_type": "code",
   "execution_count": null,
   "id": "2ebe2f71-f04e-4748-8b34-da65fe236d8f",
   "metadata": {},
   "outputs": [],
   "source": [
    "from matplotlib import pyplot as plt"
   ]
  },
  {
   "cell_type": "code",
   "execution_count": null,
   "id": "3b273906-f634-4d77-a6b0-4c828a8c82c7",
   "metadata": {},
   "outputs": [],
   "source": [
    "from tensorflow import keras as k\n",
    "from tensorflow.keras.models import Sequential\n",
    "from tensorflow.keras.layers import Dense, Conv2D, Dropout"
   ]
  },
  {
   "cell_type": "code",
   "execution_count": null,
   "id": "61c23021-f8d4-4512-9807-e72dafaf4ae3",
   "metadata": {},
   "outputs": [],
   "source": [
    "# https://www.tensorflow.org/api_docs/python/tf/keras/datasets/fashion_mnist/load_data\n",
    "(Xtrain, ytrain), (Xtest, ytest) = load_data()"
   ]
  },
  {
   "cell_type": "code",
   "execution_count": null,
   "id": "16a3b4b6-237d-4e48-bed9-d800156a9640",
   "metadata": {},
   "outputs": [],
   "source": [
    "Xtrain.shape, ytrain.shape"
   ]
  },
  {
   "cell_type": "code",
   "execution_count": null,
   "id": "14c90f86-052e-4406-b797-635e12f6b55e",
   "metadata": {},
   "outputs": [],
   "source": [
    "LABELS = \"t-shirt,trouser,pullover,dress,coat,sandal,shirt,sneaker,bag,boot\".split()"
   ]
  },
  {
   "cell_type": "code",
   "execution_count": null,
   "id": "2f126037-9446-47dd-aa44-cd0322ca26e1",
   "metadata": {},
   "outputs": [],
   "source": [
    "plt.figure(figsize=(3, 3))\n",
    "plt.imshow(Xtrain[5], cmap=\"gray\")\n",
    "plt.xticks([])\n",
    "plt.yticks([])"
   ]
  },
  {
   "cell_type": "code",
   "execution_count": null,
   "id": "35b4c508-2254-4682-8549-70ac00743f66",
   "metadata": {},
   "outputs": [],
   "source": [
    "X = Xtrain.reshape(60000, 28 * 28)[:1000]\n",
    "Xtest = Xtest.reshape(10000, 28 * 28)\n",
    "y = k.utils.to_categorical(ytrain[:1000], dtype='float32')\n",
    "X.shape, y.shape"
   ]
  },
  {
   "cell_type": "code",
   "execution_count": null,
   "id": "16f10632-c107-498b-bc03-e6e1e2e60dde",
   "metadata": {},
   "outputs": [],
   "source": [
    "m = Sequential([\n",
    "    k.Input(shape=(28 * 28,)),\n",
    "    Dense(units=10, activation=\"sigmoid\"),\n",
    "    Dense(units=10, activation=\"softmax\"),\n",
    "])\n",
    "m.compile(optimizer=\"adam\", loss=\"categorical_crossentropy\", metrics=[\"accuracy\"])"
   ]
  },
  {
   "cell_type": "code",
   "execution_count": null,
   "id": "0132b417-532a-47d2-9a46-3bf2c13a97c8",
   "metadata": {},
   "outputs": [],
   "source": [
    "history = m.fit(X, y, batch_size=32, epochs=10, validation_split=0.2)"
   ]
  },
  {
   "cell_type": "code",
   "execution_count": null,
   "id": "034d812e-8c8c-4441-97f0-5da296aeeabe",
   "metadata": {},
   "outputs": [],
   "source": [
    "plt.plot(history.history[\"loss\"])"
   ]
  },
  {
   "cell_type": "code",
   "execution_count": null,
   "id": "48d7c6ce-c08a-40c5-877b-6be188445090",
   "metadata": {},
   "outputs": [],
   "source": []
  }
 ],
 "metadata": {
  "kernelspec": {
   "display_name": "Python 3",
   "language": "python",
   "name": "python3"
  },
  "language_info": {
   "codemirror_mode": {
    "name": "ipython",
    "version": 3
   },
   "file_extension": ".py",
   "mimetype": "text/x-python",
   "name": "python",
   "nbconvert_exporter": "python",
   "pygments_lexer": "ipython3",
   "version": "3.9.12"
  }
 },
 "nbformat": 4,
 "nbformat_minor": 5
}
