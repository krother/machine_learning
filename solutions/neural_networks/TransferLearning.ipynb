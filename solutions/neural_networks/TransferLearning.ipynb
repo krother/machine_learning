{
 "cells": [
  {
   "cell_type": "markdown",
   "id": "81abceb6-a255-4d83-864b-871e1a44e7d7",
   "metadata": {},
   "source": [
    "## Transfer Learning"
   ]
  },
  {
   "cell_type": "code",
   "execution_count": 3,
   "id": "af4c1988-7133-45e9-90f1-b1a20d557883",
   "metadata": {},
   "outputs": [],
   "source": [
    "from tensorflow.keras.preprocessing import image\n",
    "from tensorflow.keras.applications.mobilenet_v2 import MobileNetV2, preprocess_input, decode_predictions"
   ]
  },
  {
   "cell_type": "markdown",
   "id": "f7b8b326-22f1-4408-bf9e-36b244e8f1c8",
   "metadata": {},
   "source": [
    "### 1. Load all images"
   ]
  },
  {
   "cell_type": "code",
   "execution_count": 17,
   "id": "b72c8eb8-0825-4d64-a5ce-0060996dd734",
   "metadata": {},
   "outputs": [],
   "source": [
    "import os\n",
    "import numpy as np\n",
    "\n",
    "X = []\n",
    "y = []\n",
    "path = \"train\"\n",
    "for subfolder in os.listdir(path):\n",
    "    for filename in os.listdir(path + os.sep + subfolder):\n",
    "        y.append(subfolder)\n",
    "        fn = path + os.sep + subfolder + os.sep + filename\n",
    "        im = image.load_img(fn, target_size=(224, 224))\n",
    "        a = image.img_to_array(im)\n",
    "        X.append(preprocess_input(a))\n",
    "\n",
    "X = np.array(X)\n",
    "y = np.array(y)"
   ]
  },
  {
   "cell_type": "code",
   "execution_count": 18,
   "id": "9b502cca-5368-4446-8044-5372adb8cc41",
   "metadata": {},
   "outputs": [
    {
     "data": {
      "text/plain": [
       "((85, 224, 224, 3), (85,))"
      ]
     },
     "execution_count": 18,
     "metadata": {},
     "output_type": "execute_result"
    }
   ],
   "source": [
    "X.shape, y.shape"
   ]
  },
  {
   "cell_type": "markdown",
   "id": "896d3d1f-90f6-4a5a-975e-9558e669f7d0",
   "metadata": {},
   "source": [
    "### 2. Create Mobile Net without top"
   ]
  },
  {
   "cell_type": "code",
   "execution_count": 22,
   "id": "8835bc1a-2292-42d1-9f83-1557ba215b88",
   "metadata": {},
   "outputs": [],
   "source": [
    "m = MobileNetV2(include_top=False, input_shape=(224, 224, 3))"
   ]
  },
  {
   "cell_type": "markdown",
   "id": "9a6c1a96-126a-4551-b254-8c89669562dc",
   "metadata": {},
   "source": [
    "### 3. Predict"
   ]
  },
  {
   "cell_type": "code",
   "execution_count": 24,
   "id": "5ad51303-8cf2-4d93-bd6e-2253f0036a1d",
   "metadata": {},
   "outputs": [
    {
     "name": "stdout",
     "output_type": "stream",
     "text": [
      "\u001b[1m3/3\u001b[0m \u001b[32m━━━━━━━━━━━━━━━━━━━━\u001b[0m\u001b[37m\u001b[0m \u001b[1m1s\u001b[0m 178ms/step\n"
     ]
    },
    {
     "data": {
      "text/plain": [
       "(85, 62720)"
      ]
     },
     "execution_count": 24,
     "metadata": {},
     "output_type": "execute_result"
    }
   ],
   "source": [
    "Xcnn = m.predict(X)\n",
    "Xcnn = Xcnn.reshape(85, 7 * 7 * 1280)\n",
    "Xcnn.shape"
   ]
  },
  {
   "cell_type": "markdown",
   "id": "d7e1a1f7-132a-40ff-8155-12d8b49a56cf",
   "metadata": {},
   "source": [
    "### 4. train RandomForest"
   ]
  },
  {
   "cell_type": "code",
   "execution_count": 27,
   "id": "872345ff-9c27-4660-988c-71570d552bbe",
   "metadata": {},
   "outputs": [],
   "source": [
    "#!uv add scikit-learn"
   ]
  },
  {
   "cell_type": "code",
   "execution_count": 35,
   "id": "3c383b8f-3cdd-4db9-8d52-a181da28b4c3",
   "metadata": {},
   "outputs": [
    {
     "data": {
      "text/plain": [
       "0.9764705882352941"
      ]
     },
     "execution_count": 35,
     "metadata": {},
     "output_type": "execute_result"
    }
   ],
   "source": [
    "from sklearn.ensemble import RandomForestClassifier\n",
    "\n",
    "rf = RandomForestClassifier(n_estimators=500, max_depth=3)\n",
    "rf.fit(Xcnn, y)\n",
    "rf.score(Xcnn, y)"
   ]
  },
  {
   "cell_type": "markdown",
   "id": "d9944594-9b5b-4768-a25c-9c8cba3d7118",
   "metadata": {},
   "source": [
    "### 5. Cross-validate"
   ]
  },
  {
   "cell_type": "code",
   "execution_count": 36,
   "id": "deb74096-4b0e-4ff2-afa0-d9ed8ec70601",
   "metadata": {},
   "outputs": [
    {
     "name": "stderr",
     "output_type": "stream",
     "text": [
      "C:\\Users\\team-\\Desktop\\ml_code\\.venv\\Lib\\site-packages\\sklearn\\model_selection\\_split.py:811: UserWarning: The least populated class in y has only 2 members, which is less than n_splits=5.\n",
      "  warnings.warn(\n"
     ]
    },
    {
     "data": {
      "text/plain": [
       "array([0.88235294, 0.88235294, 0.82352941, 0.76470588, 0.82352941])"
      ]
     },
     "execution_count": 36,
     "metadata": {},
     "output_type": "execute_result"
    }
   ],
   "source": [
    "from sklearn.model_selection import cross_val_score\n",
    "\n",
    "cross_val_score(rf, Xcnn, y, cv=5)"
   ]
  },
  {
   "cell_type": "markdown",
   "id": "9db9cdd3-9ea1-45d0-929f-622a1055ee73",
   "metadata": {},
   "source": [
    "### 6. Regularize"
   ]
  },
  {
   "cell_type": "markdown",
   "id": "04871703-a759-480c-8a4a-3af58f082e7e",
   "metadata": {},
   "source": [
    "### 7. Save the model"
   ]
  },
  {
   "cell_type": "code",
   "execution_count": 39,
   "id": "af93ef7b-5e57-4040-8b2a-d60807b91e55",
   "metadata": {},
   "outputs": [],
   "source": [
    "import pickle\n",
    "\n",
    "pickle.dump(rf, open(\"model.pkl\", \"wb\"))"
   ]
  },
  {
   "cell_type": "code",
   "execution_count": 40,
   "id": "5f20e959-27b7-4eee-838d-be564c5f9e73",
   "metadata": {},
   "outputs": [],
   "source": [
    "with open(\"model.pkl\", \"wb\") as f:  # context manager\n",
    "    pickle.dump(rf, f)"
   ]
  },
  {
   "cell_type": "code",
   "execution_count": 41,
   "id": "ea894af9-ca5b-4f5c-a314-b5893f6c3bf7",
   "metadata": {},
   "outputs": [
    {
     "name": "stdout",
     "output_type": "stream",
     "text": [
      " Datentr„ger in Laufwerk C: ist Windows\n",
      " Volumeseriennummer: 4696-704D\n",
      "\n",
      " Verzeichnis von C:\\Users\\team-\\Desktop\\ml_code\n",
      "\n",
      "\n",
      " Verzeichnis von C:\\Users\\team-\\Desktop\\ml_code\n",
      "\n",
      "26.06.2025  15:24           836.280 model.pkl\n",
      "               1 Datei(en),        836.280 Bytes\n",
      "               0 Verzeichnis(se), 16.613.781.504 Bytes frei\n"
     ]
    }
   ],
   "source": [
    "ls -l *.pkl"
   ]
  },
  {
   "cell_type": "code",
   "execution_count": null,
   "id": "e51244b0-eb24-4f0c-8bbf-7b6a0a176422",
   "metadata": {},
   "outputs": [],
   "source": []
  }
 ],
 "metadata": {
  "kernelspec": {
   "display_name": "Python 3 (ipykernel)",
   "language": "python",
   "name": "python3"
  },
  "language_info": {
   "codemirror_mode": {
    "name": "ipython",
    "version": 3
   },
   "file_extension": ".py",
   "mimetype": "text/x-python",
   "name": "python",
   "nbconvert_exporter": "python",
   "pygments_lexer": "ipython3",
   "version": "3.12.10"
  }
 },
 "nbformat": 4,
 "nbformat_minor": 5
}
