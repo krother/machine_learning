{
 "cells": [
  {
   "cell_type": "markdown",
   "id": "ef251daf",
   "metadata": {},
   "source": [
    "## Penguin Classification with a MLP\n",
    "**classify the species of penguins using an artificial neural network**"
   ]
  },
  {
   "cell_type": "markdown",
   "id": "cf4dd7ae",
   "metadata": {},
   "source": [
    "## steps to train a machine learning model:\n",
    "\n",
    "1. get data \n",
    "2. separate training and test data\n",
    "3. clean data\n",
    "4. data exploration\n",
    "5. feature extraction\n",
    "6. choose and train a model\n",
    "7. optimize hyperparameters\n",
    "8. evaluate the model"
   ]
  },
  {
   "cell_type": "code",
   "execution_count": 1,
   "id": "7e2d6c08",
   "metadata": {},
   "outputs": [
    {
     "data": {
      "text/html": [
       "<div>\n",
       "<style scoped>\n",
       "    .dataframe tbody tr th:only-of-type {\n",
       "        vertical-align: middle;\n",
       "    }\n",
       "\n",
       "    .dataframe tbody tr th {\n",
       "        vertical-align: top;\n",
       "    }\n",
       "\n",
       "    .dataframe thead th {\n",
       "        text-align: right;\n",
       "    }\n",
       "</style>\n",
       "<table border=\"1\" class=\"dataframe\">\n",
       "  <thead>\n",
       "    <tr style=\"text-align: right;\">\n",
       "      <th></th>\n",
       "      <th>species</th>\n",
       "      <th>island</th>\n",
       "      <th>bill_length_mm</th>\n",
       "      <th>bill_depth_mm</th>\n",
       "      <th>flipper_length_mm</th>\n",
       "      <th>body_mass_g</th>\n",
       "      <th>sex</th>\n",
       "    </tr>\n",
       "  </thead>\n",
       "  <tbody>\n",
       "    <tr>\n",
       "      <th>0</th>\n",
       "      <td>Adelie</td>\n",
       "      <td>Torgersen</td>\n",
       "      <td>39.1</td>\n",
       "      <td>18.7</td>\n",
       "      <td>181.0</td>\n",
       "      <td>3750.0</td>\n",
       "      <td>Male</td>\n",
       "    </tr>\n",
       "    <tr>\n",
       "      <th>1</th>\n",
       "      <td>Adelie</td>\n",
       "      <td>Torgersen</td>\n",
       "      <td>39.5</td>\n",
       "      <td>17.4</td>\n",
       "      <td>186.0</td>\n",
       "      <td>3800.0</td>\n",
       "      <td>Female</td>\n",
       "    </tr>\n",
       "    <tr>\n",
       "      <th>2</th>\n",
       "      <td>Adelie</td>\n",
       "      <td>Torgersen</td>\n",
       "      <td>40.3</td>\n",
       "      <td>18.0</td>\n",
       "      <td>195.0</td>\n",
       "      <td>3250.0</td>\n",
       "      <td>Female</td>\n",
       "    </tr>\n",
       "  </tbody>\n",
       "</table>\n",
       "</div>"
      ],
      "text/plain": [
       "  species     island  bill_length_mm  bill_depth_mm  flipper_length_mm  \\\n",
       "0  Adelie  Torgersen            39.1           18.7              181.0   \n",
       "1  Adelie  Torgersen            39.5           17.4              186.0   \n",
       "2  Adelie  Torgersen            40.3           18.0              195.0   \n",
       "\n",
       "   body_mass_g     sex  \n",
       "0       3750.0    Male  \n",
       "1       3800.0  Female  \n",
       "2       3250.0  Female  "
      ]
     },
     "execution_count": 1,
     "metadata": {},
     "output_type": "execute_result"
    }
   ],
   "source": [
    "# 1. get data\n",
    "import seaborn as sns\n",
    "\n",
    "data = sns.load_dataset(\"penguins\")\n",
    "data.head(3)"
   ]
  },
  {
   "cell_type": "code",
   "execution_count": 2,
   "id": "7a979cda",
   "metadata": {},
   "outputs": [
    {
     "data": {
      "text/plain": [
       "((275, 7), (69, 7))"
      ]
     },
     "execution_count": 2,
     "metadata": {},
     "output_type": "execute_result"
    }
   ],
   "source": [
    "# 2. separate training and test data\n",
    "from sklearn.model_selection import train_test_split\n",
    "\n",
    "train, test = train_test_split(data, test_size=0.2, random_state=42)\n",
    "train.shape, test.shape  # number of rows and cols"
   ]
  },
  {
   "cell_type": "code",
   "execution_count": 3,
   "id": "b086837c",
   "metadata": {},
   "outputs": [
    {
     "data": {
      "text/plain": [
       "species              0\n",
       "island               0\n",
       "bill_length_mm       0\n",
       "bill_depth_mm        0\n",
       "flipper_length_mm    0\n",
       "body_mass_g          0\n",
       "sex                  0\n",
       "dtype: int64"
      ]
     },
     "execution_count": 3,
     "metadata": {},
     "output_type": "execute_result"
    }
   ],
   "source": [
    "# 3. clean data\n",
    "train = train.dropna()  # remove rows with missing data\n",
    "test = test.dropna()\n",
    "train.isna().sum()  # .plot.bar()"
   ]
  },
  {
   "cell_type": "code",
   "execution_count": 7,
   "id": "12b47147",
   "metadata": {},
   "outputs": [],
   "source": [
    "# 4. data exploration\n",
    "#data.describe()\n",
    "#sns.scatterplot(data=data, x=\"bill_length_mm\",\n",
    "#                y=\"body_mass_g\", hue=\"species\")"
   ]
  },
  {
   "cell_type": "code",
   "execution_count": 9,
   "id": "fc7419d0",
   "metadata": {},
   "outputs": [],
   "source": [
    "# 5. feature extraction\n",
    "#    (define X and y)\n",
    "Xtrain = train[[\"bill_length_mm\", \"body_mass_g\"]]\n",
    "Xtest = test[[\"bill_length_mm\", \"body_mass_g\"]]\n",
    "ytrain = train[\"species\"]\n",
    "ytest = test[\"species\"]\n",
    "# Xtrain.head(3)"
   ]
  },
  {
   "cell_type": "code",
   "execution_count": 16,
   "id": "d62c8e62",
   "metadata": {},
   "outputs": [],
   "source": [
    "from sklearn.preprocessing import MinMaxScaler\n",
    "\n",
    "mm = MinMaxScaler()  # scales each column to 0.0 .. 1.0\n",
    "Xtrain = mm.fit_transform(Xtrain)\n",
    "Xtest = mm.transform(Xtest)"
   ]
  },
  {
   "cell_type": "code",
   "execution_count": 42,
   "id": "0ad03356",
   "metadata": {},
   "outputs": [
    {
     "name": "stderr",
     "output_type": "stream",
     "text": [
      "c:\\Users\\team-\\AppData\\Local\\Programs\\Python\\Python313\\Lib\\site-packages\\sklearn\\neural_network\\_multilayer_perceptron.py:780: ConvergenceWarning: Stochastic Optimizer: Maximum iterations (200) reached and the optimization hasn't converged yet.\n",
      "  warnings.warn(\n"
     ]
    },
    {
     "data": {
      "text/plain": [
       "0.85"
      ]
     },
     "execution_count": 42,
     "metadata": {},
     "output_type": "execute_result"
    }
   ],
   "source": [
    "# 6. train a model\n",
    "from sklearn.neural_network import MLPClassifier\n",
    "\n",
    "model = MLPClassifier(hidden_layer_sizes=(10, 10, 10), activation=\"relu\", random_state=42)\n",
    "model.fit(Xtrain, ytrain)\n",
    "round(model.score(Xtrain, ytrain), 2)  # accuracy"
   ]
  },
  {
   "cell_type": "code",
   "execution_count": 43,
   "id": "7f053661",
   "metadata": {},
   "outputs": [
    {
     "name": "stderr",
     "output_type": "stream",
     "text": [
      "c:\\Users\\team-\\AppData\\Local\\Programs\\Python\\Python313\\Lib\\site-packages\\sklearn\\neural_network\\_multilayer_perceptron.py:780: ConvergenceWarning: Stochastic Optimizer: Maximum iterations (200) reached and the optimization hasn't converged yet.\n",
      "  warnings.warn(\n",
      "c:\\Users\\team-\\AppData\\Local\\Programs\\Python\\Python313\\Lib\\site-packages\\sklearn\\neural_network\\_multilayer_perceptron.py:780: ConvergenceWarning: Stochastic Optimizer: Maximum iterations (200) reached and the optimization hasn't converged yet.\n",
      "  warnings.warn(\n",
      "c:\\Users\\team-\\AppData\\Local\\Programs\\Python\\Python313\\Lib\\site-packages\\sklearn\\neural_network\\_multilayer_perceptron.py:780: ConvergenceWarning: Stochastic Optimizer: Maximum iterations (200) reached and the optimization hasn't converged yet.\n",
      "  warnings.warn(\n",
      "c:\\Users\\team-\\AppData\\Local\\Programs\\Python\\Python313\\Lib\\site-packages\\sklearn\\neural_network\\_multilayer_perceptron.py:780: ConvergenceWarning: Stochastic Optimizer: Maximum iterations (200) reached and the optimization hasn't converged yet.\n",
      "  warnings.warn(\n",
      "c:\\Users\\team-\\AppData\\Local\\Programs\\Python\\Python313\\Lib\\site-packages\\sklearn\\neural_network\\_multilayer_perceptron.py:780: ConvergenceWarning: Stochastic Optimizer: Maximum iterations (200) reached and the optimization hasn't converged yet.\n",
      "  warnings.warn(\n"
     ]
    },
    {
     "data": {
      "text/plain": [
       "array([0.72222222, 0.81481481, 0.79245283, 0.83018868, 0.8490566 ])"
      ]
     },
     "execution_count": 43,
     "metadata": {},
     "output_type": "execute_result"
    }
   ],
   "source": [
    "# 7. optimize\n",
    "from sklearn.model_selection import cross_val_score\n",
    "\n",
    "cross_val_score(model, Xtrain, ytrain, cv=5)  # splits 5 times"
   ]
  },
  {
   "cell_type": "code",
   "execution_count": 44,
   "id": "5a5d7d1b",
   "metadata": {},
   "outputs": [
    {
     "data": {
      "text/plain": [
       "(0.85, 0.85)"
      ]
     },
     "execution_count": 44,
     "metadata": {},
     "output_type": "execute_result"
    }
   ],
   "source": [
    "# 8. evaluate the model on test data\n",
    "(\n",
    "    round(model.score(Xtrain, ytrain), 2),\n",
    "    round(model.score(Xtest, ytest), 2)\n",
    ")"
   ]
  },
  {
   "cell_type": "code",
   "execution_count": null,
   "id": "4831bd63",
   "metadata": {},
   "outputs": [],
   "source": []
  }
 ],
 "metadata": {
  "kernelspec": {
   "display_name": "Python 3",
   "language": "python",
   "name": "python3"
  },
  "language_info": {
   "codemirror_mode": {
    "name": "ipython",
    "version": 3
   },
   "file_extension": ".py",
   "mimetype": "text/x-python",
   "name": "python",
   "nbconvert_exporter": "python",
   "pygments_lexer": "ipython3",
   "version": "3.13.3"
  }
 },
 "nbformat": 4,
 "nbformat_minor": 5
}
