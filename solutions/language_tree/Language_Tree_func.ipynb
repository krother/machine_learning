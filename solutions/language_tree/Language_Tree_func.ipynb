{
 "cells": [
  {
   "cell_type": "markdown",
   "id": "d8ea6ed4",
   "metadata": {},
   "source": [
    "# Binary Tree of Languages\n",
    "an exercise in hierarchical clustering"
   ]
  },
  {
   "cell_type": "code",
   "execution_count": 1,
   "id": "dce25087",
   "metadata": {},
   "outputs": [],
   "source": [
    "import pandas as pd\n",
    "from statistics import mean\n",
    "import seaborn as sns\n",
    "from itertools import product"
   ]
  },
  {
   "cell_type": "code",
   "execution_count": 2,
   "id": "c3d13861",
   "metadata": {},
   "outputs": [
    {
     "data": {
      "text/html": [
       "<div>\n",
       "<style scoped>\n",
       "    .dataframe tbody tr th:only-of-type {\n",
       "        vertical-align: middle;\n",
       "    }\n",
       "\n",
       "    .dataframe tbody tr th {\n",
       "        vertical-align: top;\n",
       "    }\n",
       "\n",
       "    .dataframe thead th {\n",
       "        text-align: right;\n",
       "    }\n",
       "</style>\n",
       "<table border=\"1\" class=\"dataframe\">\n",
       "  <thead>\n",
       "    <tr style=\"text-align: right;\">\n",
       "      <th></th>\n",
       "      <th>English</th>\n",
       "      <th>German</th>\n",
       "      <th>French</th>\n",
       "      <th>Portuguese</th>\n",
       "      <th>Spanish</th>\n",
       "      <th>Polish</th>\n",
       "      <th>Catalan</th>\n",
       "      <th>Russian</th>\n",
       "      <th>Greek</th>\n",
       "      <th>Georgian</th>\n",
       "      <th>Finnish</th>\n",
       "      <th>Albanian</th>\n",
       "      <th>Arabic</th>\n",
       "    </tr>\n",
       "  </thead>\n",
       "  <tbody>\n",
       "    <tr>\n",
       "      <th>0</th>\n",
       "      <td>house</td>\n",
       "      <td>haus</td>\n",
       "      <td>maison</td>\n",
       "      <td>casa</td>\n",
       "      <td>casa</td>\n",
       "      <td>dom</td>\n",
       "      <td>casa</td>\n",
       "      <td>dom</td>\n",
       "      <td>spiti</td>\n",
       "      <td>sakhli</td>\n",
       "      <td>talo</td>\n",
       "      <td>shtëpi</td>\n",
       "      <td>beit</td>\n",
       "    </tr>\n",
       "    <tr>\n",
       "      <th>1</th>\n",
       "      <td>mother</td>\n",
       "      <td>mutter</td>\n",
       "      <td>mère</td>\n",
       "      <td>mãe</td>\n",
       "      <td>madre</td>\n",
       "      <td>matka</td>\n",
       "      <td>mare</td>\n",
       "      <td>mat'</td>\n",
       "      <td>mhtera</td>\n",
       "      <td>deda</td>\n",
       "      <td>aiti</td>\n",
       "      <td>mama</td>\n",
       "      <td>um</td>\n",
       "    </tr>\n",
       "    <tr>\n",
       "      <th>2</th>\n",
       "      <td>human</td>\n",
       "      <td>mensch</td>\n",
       "      <td>humain</td>\n",
       "      <td>humano</td>\n",
       "      <td>humano</td>\n",
       "      <td>czlowiek</td>\n",
       "      <td>humà</td>\n",
       "      <td>chelovek</td>\n",
       "      <td>anthropos</td>\n",
       "      <td>adamiani</td>\n",
       "      <td>ihminen</td>\n",
       "      <td>njeri</td>\n",
       "      <td>insan</td>\n",
       "    </tr>\n",
       "    <tr>\n",
       "      <th>3</th>\n",
       "      <td>school</td>\n",
       "      <td>schule</td>\n",
       "      <td>école</td>\n",
       "      <td>escola</td>\n",
       "      <td>colegio/ escuela</td>\n",
       "      <td>szkola</td>\n",
       "      <td>escola</td>\n",
       "      <td>shkola</td>\n",
       "      <td>sxoleio</td>\n",
       "      <td>skola</td>\n",
       "      <td>koulu</td>\n",
       "      <td>shkoll</td>\n",
       "      <td>madrasah</td>\n",
       "    </tr>\n",
       "    <tr>\n",
       "      <th>4</th>\n",
       "      <td>friendship</td>\n",
       "      <td>freundschaft</td>\n",
       "      <td>amitié</td>\n",
       "      <td>amizade</td>\n",
       "      <td>amistad</td>\n",
       "      <td>przyjacielstwo</td>\n",
       "      <td>amistat</td>\n",
       "      <td>drujba</td>\n",
       "      <td>filia</td>\n",
       "      <td>megobroba</td>\n",
       "      <td>ystavyys</td>\n",
       "      <td>shoqëri</td>\n",
       "      <td>sadaqah</td>\n",
       "    </tr>\n",
       "  </tbody>\n",
       "</table>\n",
       "</div>"
      ],
      "text/plain": [
       "      English        German  French Portuguese           Spanish  \\\n",
       "0       house          haus  maison       casa              casa   \n",
       "1      mother        mutter    mère        mãe             madre   \n",
       "2       human        mensch  humain     humano            humano   \n",
       "3      school        schule   école     escola  colegio/ escuela   \n",
       "4  friendship  freundschaft  amitié    amizade           amistad   \n",
       "\n",
       "           Polish  Catalan   Russian      Greek   Georgian   Finnish Albanian  \\\n",
       "0             dom     casa       dom      spiti     sakhli      talo   shtëpi   \n",
       "1           matka     mare      mat'     mhtera       deda      aiti     mama   \n",
       "2        czlowiek     humà  chelovek  anthropos   adamiani   ihminen    njeri   \n",
       "3          szkola   escola    shkola    sxoleio      skola     koulu   shkoll   \n",
       "4  przyjacielstwo  amistat    drujba      filia  megobroba  ystavyys  shoqëri   \n",
       "\n",
       "     Arabic  \n",
       "0      beit  \n",
       "1        um  \n",
       "2     insan  \n",
       "3  madrasah  \n",
       "4   sadaqah  "
      ]
     },
     "execution_count": 2,
     "metadata": {},
     "output_type": "execute_result"
    }
   ],
   "source": [
    "df = pd.read_csv(\"languages.csv\")\n",
    "df = df.applymap(str.lower)  # convert to lowercase\n",
    "df.head()"
   ]
  },
  {
   "cell_type": "code",
   "execution_count": 3,
   "id": "c20c2c67",
   "metadata": {},
   "outputs": [
    {
     "data": {
      "text/plain": [
       "(26, 13)"
      ]
     },
     "execution_count": 3,
     "metadata": {},
     "output_type": "execute_result"
    }
   ],
   "source": [
    "df.shape  # rows, cols"
   ]
  },
  {
   "cell_type": "markdown",
   "id": "c4882ba1",
   "metadata": {},
   "source": [
    "### Calculate Word Similarity"
   ]
  },
  {
   "cell_type": "code",
   "execution_count": 4,
   "id": "0de251f9",
   "metadata": {},
   "outputs": [],
   "source": [
    "def calc_word_similarity(word1: str, word2: str) -> float:\n",
    "    \"\"\"returns the similarity of two words between 0 and 1\"\"\"\n",
    "    s1, s2 = set(word1), set(word2)\n",
    "    return len(s1.intersection(s2)) / len(s1.union(s2))"
   ]
  },
  {
   "cell_type": "code",
   "execution_count": 5,
   "id": "1e459548",
   "metadata": {},
   "outputs": [],
   "source": [
    "# test code\n",
    "assert calc_word_similarity(\"hello\", \"hello\") == 1.0\n",
    "assert calc_word_similarity(\"home\", \"dome\") == 0.6\n",
    "assert calc_word_similarity(\"spam\", \"eggs\") == 1 / 6"
   ]
  },
  {
   "cell_type": "markdown",
   "id": "42f07a55",
   "metadata": {},
   "source": [
    "### Calculate Language Similarity"
   ]
  },
  {
   "cell_type": "code",
   "execution_count": 6,
   "id": "9fa87f59",
   "metadata": {},
   "outputs": [],
   "source": [
    "def calc_language_similarity(words1, words2) -> float:\n",
    "    return mean(\n",
    "        calc_word_similarity(w1, w2)\n",
    "        for w1, w2 in zip(words1, words2)\n",
    "    )"
   ]
  },
  {
   "cell_type": "code",
   "execution_count": 7,
   "id": "1a4e04b9",
   "metadata": {},
   "outputs": [
    {
     "data": {
      "text/plain": [
       "0.2889639740601279"
      ]
     },
     "execution_count": 7,
     "metadata": {},
     "output_type": "execute_result"
    }
   ],
   "source": [
    "calc_language_similarity(df[\"Russian\"], df[\"English\"])"
   ]
  },
  {
   "cell_type": "markdown",
   "id": "350fc26b",
   "metadata": {},
   "source": [
    "### Calculate a Similarity Matrix"
   ]
  },
  {
   "cell_type": "code",
   "execution_count": 8,
   "id": "419f327d",
   "metadata": {},
   "outputs": [
    {
     "data": {
      "text/html": [
       "<div>\n",
       "<style scoped>\n",
       "    .dataframe tbody tr th:only-of-type {\n",
       "        vertical-align: middle;\n",
       "    }\n",
       "\n",
       "    .dataframe tbody tr th {\n",
       "        vertical-align: top;\n",
       "    }\n",
       "\n",
       "    .dataframe thead th {\n",
       "        text-align: right;\n",
       "    }\n",
       "</style>\n",
       "<table border=\"1\" class=\"dataframe\">\n",
       "  <thead>\n",
       "    <tr style=\"text-align: right;\">\n",
       "      <th></th>\n",
       "      <th>English</th>\n",
       "      <th>German</th>\n",
       "      <th>French</th>\n",
       "      <th>Portuguese</th>\n",
       "      <th>Spanish</th>\n",
       "      <th>Polish</th>\n",
       "      <th>Catalan</th>\n",
       "      <th>Russian</th>\n",
       "      <th>Greek</th>\n",
       "      <th>Georgian</th>\n",
       "      <th>Finnish</th>\n",
       "      <th>Albanian</th>\n",
       "      <th>Arabic</th>\n",
       "    </tr>\n",
       "  </thead>\n",
       "  <tbody>\n",
       "    <tr>\n",
       "      <th>English</th>\n",
       "      <td>1.00</td>\n",
       "      <td>0.41</td>\n",
       "      <td>0.42</td>\n",
       "      <td>0.39</td>\n",
       "      <td>0.39</td>\n",
       "      <td>0.27</td>\n",
       "      <td>0.38</td>\n",
       "      <td>0.29</td>\n",
       "      <td>0.33</td>\n",
       "      <td>0.30</td>\n",
       "      <td>0.20</td>\n",
       "      <td>0.30</td>\n",
       "      <td>0.18</td>\n",
       "    </tr>\n",
       "    <tr>\n",
       "      <th>German</th>\n",
       "      <td>0.41</td>\n",
       "      <td>1.00</td>\n",
       "      <td>0.28</td>\n",
       "      <td>0.33</td>\n",
       "      <td>0.30</td>\n",
       "      <td>0.28</td>\n",
       "      <td>0.29</td>\n",
       "      <td>0.28</td>\n",
       "      <td>0.30</td>\n",
       "      <td>0.26</td>\n",
       "      <td>0.22</td>\n",
       "      <td>0.35</td>\n",
       "      <td>0.19</td>\n",
       "    </tr>\n",
       "    <tr>\n",
       "      <th>French</th>\n",
       "      <td>0.42</td>\n",
       "      <td>0.28</td>\n",
       "      <td>1.00</td>\n",
       "      <td>0.50</td>\n",
       "      <td>0.49</td>\n",
       "      <td>0.23</td>\n",
       "      <td>0.52</td>\n",
       "      <td>0.21</td>\n",
       "      <td>0.31</td>\n",
       "      <td>0.28</td>\n",
       "      <td>0.24</td>\n",
       "      <td>0.30</td>\n",
       "      <td>0.15</td>\n",
       "    </tr>\n",
       "    <tr>\n",
       "      <th>Portuguese</th>\n",
       "      <td>0.39</td>\n",
       "      <td>0.33</td>\n",
       "      <td>0.50</td>\n",
       "      <td>1.00</td>\n",
       "      <td>0.63</td>\n",
       "      <td>0.26</td>\n",
       "      <td>0.55</td>\n",
       "      <td>0.28</td>\n",
       "      <td>0.34</td>\n",
       "      <td>0.27</td>\n",
       "      <td>0.22</td>\n",
       "      <td>0.32</td>\n",
       "      <td>0.20</td>\n",
       "    </tr>\n",
       "    <tr>\n",
       "      <th>Spanish</th>\n",
       "      <td>0.39</td>\n",
       "      <td>0.30</td>\n",
       "      <td>0.49</td>\n",
       "      <td>0.63</td>\n",
       "      <td>1.00</td>\n",
       "      <td>0.28</td>\n",
       "      <td>0.62</td>\n",
       "      <td>0.28</td>\n",
       "      <td>0.33</td>\n",
       "      <td>0.27</td>\n",
       "      <td>0.20</td>\n",
       "      <td>0.32</td>\n",
       "      <td>0.17</td>\n",
       "    </tr>\n",
       "    <tr>\n",
       "      <th>Polish</th>\n",
       "      <td>0.27</td>\n",
       "      <td>0.28</td>\n",
       "      <td>0.23</td>\n",
       "      <td>0.26</td>\n",
       "      <td>0.28</td>\n",
       "      <td>1.00</td>\n",
       "      <td>0.26</td>\n",
       "      <td>0.58</td>\n",
       "      <td>0.28</td>\n",
       "      <td>0.31</td>\n",
       "      <td>0.26</td>\n",
       "      <td>0.35</td>\n",
       "      <td>0.18</td>\n",
       "    </tr>\n",
       "    <tr>\n",
       "      <th>Catalan</th>\n",
       "      <td>0.38</td>\n",
       "      <td>0.29</td>\n",
       "      <td>0.52</td>\n",
       "      <td>0.55</td>\n",
       "      <td>0.62</td>\n",
       "      <td>0.26</td>\n",
       "      <td>1.00</td>\n",
       "      <td>0.25</td>\n",
       "      <td>0.29</td>\n",
       "      <td>0.27</td>\n",
       "      <td>0.20</td>\n",
       "      <td>0.30</td>\n",
       "      <td>0.18</td>\n",
       "    </tr>\n",
       "    <tr>\n",
       "      <th>Russian</th>\n",
       "      <td>0.29</td>\n",
       "      <td>0.28</td>\n",
       "      <td>0.21</td>\n",
       "      <td>0.28</td>\n",
       "      <td>0.28</td>\n",
       "      <td>0.58</td>\n",
       "      <td>0.25</td>\n",
       "      <td>1.00</td>\n",
       "      <td>0.31</td>\n",
       "      <td>0.31</td>\n",
       "      <td>0.28</td>\n",
       "      <td>0.34</td>\n",
       "      <td>0.19</td>\n",
       "    </tr>\n",
       "    <tr>\n",
       "      <th>Greek</th>\n",
       "      <td>0.33</td>\n",
       "      <td>0.30</td>\n",
       "      <td>0.31</td>\n",
       "      <td>0.34</td>\n",
       "      <td>0.33</td>\n",
       "      <td>0.28</td>\n",
       "      <td>0.29</td>\n",
       "      <td>0.31</td>\n",
       "      <td>1.00</td>\n",
       "      <td>0.27</td>\n",
       "      <td>0.25</td>\n",
       "      <td>0.34</td>\n",
       "      <td>0.24</td>\n",
       "    </tr>\n",
       "    <tr>\n",
       "      <th>Georgian</th>\n",
       "      <td>0.30</td>\n",
       "      <td>0.26</td>\n",
       "      <td>0.28</td>\n",
       "      <td>0.27</td>\n",
       "      <td>0.27</td>\n",
       "      <td>0.31</td>\n",
       "      <td>0.27</td>\n",
       "      <td>0.31</td>\n",
       "      <td>0.27</td>\n",
       "      <td>1.00</td>\n",
       "      <td>0.28</td>\n",
       "      <td>0.31</td>\n",
       "      <td>0.24</td>\n",
       "    </tr>\n",
       "    <tr>\n",
       "      <th>Finnish</th>\n",
       "      <td>0.20</td>\n",
       "      <td>0.22</td>\n",
       "      <td>0.24</td>\n",
       "      <td>0.22</td>\n",
       "      <td>0.20</td>\n",
       "      <td>0.26</td>\n",
       "      <td>0.20</td>\n",
       "      <td>0.28</td>\n",
       "      <td>0.25</td>\n",
       "      <td>0.28</td>\n",
       "      <td>1.00</td>\n",
       "      <td>0.22</td>\n",
       "      <td>0.22</td>\n",
       "    </tr>\n",
       "    <tr>\n",
       "      <th>Albanian</th>\n",
       "      <td>0.30</td>\n",
       "      <td>0.35</td>\n",
       "      <td>0.30</td>\n",
       "      <td>0.32</td>\n",
       "      <td>0.32</td>\n",
       "      <td>0.35</td>\n",
       "      <td>0.30</td>\n",
       "      <td>0.34</td>\n",
       "      <td>0.34</td>\n",
       "      <td>0.31</td>\n",
       "      <td>0.22</td>\n",
       "      <td>1.00</td>\n",
       "      <td>0.24</td>\n",
       "    </tr>\n",
       "    <tr>\n",
       "      <th>Arabic</th>\n",
       "      <td>0.18</td>\n",
       "      <td>0.19</td>\n",
       "      <td>0.15</td>\n",
       "      <td>0.20</td>\n",
       "      <td>0.17</td>\n",
       "      <td>0.18</td>\n",
       "      <td>0.18</td>\n",
       "      <td>0.19</td>\n",
       "      <td>0.24</td>\n",
       "      <td>0.24</td>\n",
       "      <td>0.22</td>\n",
       "      <td>0.24</td>\n",
       "      <td>1.00</td>\n",
       "    </tr>\n",
       "  </tbody>\n",
       "</table>\n",
       "</div>"
      ],
      "text/plain": [
       "            English  German  French  Portuguese  Spanish  Polish  Catalan  \\\n",
       "English        1.00    0.41    0.42        0.39     0.39    0.27     0.38   \n",
       "German         0.41    1.00    0.28        0.33     0.30    0.28     0.29   \n",
       "French         0.42    0.28    1.00        0.50     0.49    0.23     0.52   \n",
       "Portuguese     0.39    0.33    0.50        1.00     0.63    0.26     0.55   \n",
       "Spanish        0.39    0.30    0.49        0.63     1.00    0.28     0.62   \n",
       "Polish         0.27    0.28    0.23        0.26     0.28    1.00     0.26   \n",
       "Catalan        0.38    0.29    0.52        0.55     0.62    0.26     1.00   \n",
       "Russian        0.29    0.28    0.21        0.28     0.28    0.58     0.25   \n",
       "Greek          0.33    0.30    0.31        0.34     0.33    0.28     0.29   \n",
       "Georgian       0.30    0.26    0.28        0.27     0.27    0.31     0.27   \n",
       "Finnish        0.20    0.22    0.24        0.22     0.20    0.26     0.20   \n",
       "Albanian       0.30    0.35    0.30        0.32     0.32    0.35     0.30   \n",
       "Arabic         0.18    0.19    0.15        0.20     0.17    0.18     0.18   \n",
       "\n",
       "            Russian  Greek  Georgian  Finnish  Albanian  Arabic  \n",
       "English        0.29   0.33      0.30     0.20      0.30    0.18  \n",
       "German         0.28   0.30      0.26     0.22      0.35    0.19  \n",
       "French         0.21   0.31      0.28     0.24      0.30    0.15  \n",
       "Portuguese     0.28   0.34      0.27     0.22      0.32    0.20  \n",
       "Spanish        0.28   0.33      0.27     0.20      0.32    0.17  \n",
       "Polish         0.58   0.28      0.31     0.26      0.35    0.18  \n",
       "Catalan        0.25   0.29      0.27     0.20      0.30    0.18  \n",
       "Russian        1.00   0.31      0.31     0.28      0.34    0.19  \n",
       "Greek          0.31   1.00      0.27     0.25      0.34    0.24  \n",
       "Georgian       0.31   0.27      1.00     0.28      0.31    0.24  \n",
       "Finnish        0.28   0.25      0.28     1.00      0.22    0.22  \n",
       "Albanian       0.34   0.34      0.31     0.22      1.00    0.24  \n",
       "Arabic         0.19   0.24      0.24     0.22      0.24    1.00  "
      ]
     },
     "execution_count": 8,
     "metadata": {},
     "output_type": "execute_result"
    }
   ],
   "source": [
    "languages = df.columns\n",
    "sims = [\n",
    "    [\n",
    "        calc_language_similarity(df[lang1], df[lang2])\n",
    "        for lang2 in languages\n",
    "    ]\n",
    "    for lang1 in languages\n",
    "]\n",
    "\n",
    "sim_matrix = pd.DataFrame(sims, index=languages, columns=languages)\n",
    "sim_matrix.round(2)"
   ]
  },
  {
   "cell_type": "code",
   "execution_count": 9,
   "id": "81ce096f",
   "metadata": {},
   "outputs": [
    {
     "data": {
      "text/plain": [
       "<AxesSubplot: >"
      ]
     },
     "execution_count": 9,
     "metadata": {},
     "output_type": "execute_result"
    },
    {
     "data": {
      "image/png": "[encoded data removed]",
      "text/plain": [
       "<Figure size 640x480 with 2 Axes>"
      ]
     },
     "metadata": {},
     "output_type": "display_data"
    }
   ],
   "source": [
    "sns.heatmap(sim_matrix)"
   ]
  },
  {
   "cell_type": "markdown",
   "id": "c03f0cb0",
   "metadata": {},
   "source": [
    "### Hierarchical Clustering\n",
    "\n",
    "1. create a list of leaf nodes E from all elements you want to cluster\n",
    "2. find the pair of most similar elements (e1, e2) in E\n",
    "3. create a new internal node that contains e1 and e2\n",
    "4. add the new node to E\n",
    "5. remove e1 and e2 from E\n",
    "6. repeat from step 2. until there is only one node in E"
   ]
  },
  {
   "cell_type": "code",
   "execution_count": 10,
   "id": "f52182f6",
   "metadata": {},
   "outputs": [],
   "source": [
    "def get_similarity(node1, node2) -> float:\n",
    "    \"\"\"recursively calculate node similarity\"\"\"\n",
    "    if isinstance(node1, list):\n",
    "        # linkage rule: mean of two branches\n",
    "        return (\n",
    "            get_similarity(node1[0], node2) +\n",
    "            get_similarity(node1[1], node2)\n",
    "        ) / 2\n",
    "    elif isinstance(node2, list):\n",
    "        return get_similarity(node2, node1)\n",
    "    else:\n",
    "        # both are leaf nodes: look up similarity\n",
    "        return sim_matrix.loc[node1, node2]"
   ]
  },
  {
   "cell_type": "code",
   "execution_count": 11,
   "id": "eab19163",
   "metadata": {},
   "outputs": [],
   "source": [
    "def find_most_similar_pair(nodes):\n",
    "    similarities = []\n",
    "    for i, n1 in enumerate(nodes, start=1):\n",
    "        for n2 in nodes[i:]:  # only consider one triangle of matrix\n",
    "            sim = get_similarity(n1, n2)\n",
    "            similarities.append((sim, n1, n2))\n",
    "    similarities.sort(reverse=True)\n",
    "    return similarities[0]"
   ]
  },
  {
   "cell_type": "code",
   "execution_count": 12,
   "id": "de3a7753",
   "metadata": {},
   "outputs": [
    {
     "name": "stdout",
     "output_type": "stream",
     "text": [
      "[['Arabic', [[[['French', ['Catalan', ['Portuguese', 'Spanish']]], ['English', 'German']], ['Greek', ['Albanian', ['Polish', 'Russian']]]], ['Georgian', 'Finnish']]]]\n"
     ]
    }
   ],
   "source": [
    "# core algorithm\n",
    "nodes = list(df.columns)\n",
    "\n",
    "while len(nodes) > 1:\n",
    "    sim, n1, n2 = find_most_similar_pair(nodes)\n",
    "    nodes.append([n1, n2])\n",
    "    nodes.remove(n1)\n",
    "    nodes.remove(n2)\n",
    "\n",
    "print(nodes)"
   ]
  },
  {
   "cell_type": "markdown",
   "id": "d477f403",
   "metadata": {},
   "source": [
    "### Use Graphviz to draw a tree on screen"
   ]
  },
  {
   "cell_type": "code",
   "execution_count": 13,
   "id": "b38905a6",
   "metadata": {},
   "outputs": [],
   "source": [
    "def draw_tree(node, graph):\n",
    "    if isinstance(node, list):\n",
    "        draw_tree(node[0], graph)\n",
    "        draw_tree(node[1], graph)\n",
    "        name = str(node)\n",
    "        graph.node(name, '', shape='point')\n",
    "        graph.edge(name, str(node[0]), dir='none')\n",
    "        graph.edge(name, str(node[1]), dir='none')\n",
    "    else:\n",
    "        graph.node(node, node)"
   ]
  },
  {
   "cell_type": "code",
   "execution_count": 14,
   "id": "4a9ff7be",
   "metadata": {},
   "outputs": [
    {
     "data": {
      "text/plain": [
       "'languages.gv.pdf'"
      ]
     },
     "execution_count": 14,
     "metadata": {},
     "output_type": "execute_result"
    }
   ],
   "source": [
    "from graphviz import Digraph\n",
    "\n",
    "tree = nodes[0]\n",
    "graph = Digraph(\n",
    "    edge_attr={'dir': 'back', 'color': 'black'},\n",
    "    node_attr={'fontname': 'arial', 'color': 'lightblue', 'style': 'filled'}\n",
    ")\n",
    "draw_tree(nodes[0], graph)\n",
    "graph.render('languages.gv', view=True)"
   ]
  },
  {
   "cell_type": "code",
   "execution_count": null,
   "id": "6bbdd166",
   "metadata": {},
   "outputs": [],
   "source": []
  }
 ],
 "metadata": {
  "kernelspec": {
   "display_name": "Python 3",
   "language": "python",
   "name": "python3"
  },
  "language_info": {
   "codemirror_mode": {
    "name": "ipython",
    "version": 3
   },
   "file_extension": ".py",
   "mimetype": "text/x-python",
   "name": "python",
   "nbconvert_exporter": "python",
   "pygments_lexer": "ipython3",
   "version": "3.9.12"
  }
 },
 "nbformat": 4,
 "nbformat_minor": 5
}
