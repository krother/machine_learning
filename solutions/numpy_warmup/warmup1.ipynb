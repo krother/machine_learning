{
 "cells": [
  {
   "cell_type": "markdown",
   "id": "6d22fae8",
   "metadata": {},
   "source": [
    "### Installation\n",
    "use the Jupyter plugin, Jupyter notebook, Google Colab or ipython\n",
    "\n",
    "`pip install ipython` or `python3 -m pip install ipython`"
   ]
  },
  {
   "cell_type": "markdown",
   "id": "861361ea",
   "metadata": {},
   "source": [
    "## Warmup 1: Vector operations"
   ]
  },
  {
   "cell_type": "code",
   "execution_count": 3,
   "id": "33ece627",
   "metadata": {},
   "outputs": [],
   "source": [
    "import numpy as np\n",
    "\n",
    "a = np.array([1, 2, 3], dtype=np.float32)"
   ]
  },
  {
   "cell_type": "code",
   "execution_count": null,
   "id": "b5d50190",
   "metadata": {},
   "outputs": [
    {
     "data": {
      "text/plain": [
       "array([11., 12., 13.], dtype=float32)"
      ]
     },
     "execution_count": 5,
     "metadata": {},
     "output_type": "execute_result"
    }
   ],
   "source": [
    "a + 10   # numpy eliminates loops from our code - good!"
   ]
  },
  {
   "cell_type": "code",
   "execution_count": null,
   "id": "ca1de17b",
   "metadata": {},
   "outputs": [
    {
     "data": {
      "text/plain": [
       "array([100., 200., 300.], dtype=float32)"
      ]
     },
     "execution_count": 6,
     "metadata": {},
     "output_type": "execute_result"
    }
   ],
   "source": [
    "a * 100  # scalar multiplication"
   ]
  },
  {
   "cell_type": "code",
   "execution_count": 7,
   "id": "63e01213",
   "metadata": {},
   "outputs": [
    {
     "data": {
      "text/plain": [
       "array([ 4., 10., 18.], dtype=float32)"
      ]
     },
     "execution_count": 7,
     "metadata": {},
     "output_type": "execute_result"
    }
   ],
   "source": [
    "b = np.array([4, 5, 6], dtype=np.float32)\n",
    "a * b  # vector multiplication"
   ]
  },
  {
   "cell_type": "code",
   "execution_count": 9,
   "id": "8c5d5ddb",
   "metadata": {},
   "outputs": [
    {
     "data": {
      "text/plain": [
       "np.float32(32.0)"
      ]
     },
     "execution_count": 9,
     "metadata": {},
     "output_type": "execute_result"
    }
   ],
   "source": [
    "np.dot(a, b)  # dot product: sum(a*b)"
   ]
  },
  {
   "cell_type": "code",
   "execution_count": 12,
   "id": "e1b781c6",
   "metadata": {},
   "outputs": [
    {
     "data": {
      "text/plain": [
       "array([0.       , 0.6931472, 1.0986123], dtype=float32)"
      ]
     },
     "execution_count": 12,
     "metadata": {},
     "output_type": "execute_result"
    }
   ],
   "source": [
    "np.log(a)"
   ]
  },
  {
   "cell_type": "code",
   "execution_count": null,
   "id": "1ed0f606",
   "metadata": {},
   "outputs": [],
   "source": []
  }
 ],
 "metadata": {
  "kernelspec": {
   "display_name": "Python 3",
   "language": "python",
   "name": "python3"
  },
  "language_info": {
   "codemirror_mode": {
    "name": "ipython",
    "version": 3
   },
   "file_extension": ".py",
   "mimetype": "text/x-python",
   "name": "python",
   "nbconvert_exporter": "python",
   "pygments_lexer": "ipython3",
   "version": "3.13.3"
  }
 },
 "nbformat": 4,
 "nbformat_minor": 5
}
