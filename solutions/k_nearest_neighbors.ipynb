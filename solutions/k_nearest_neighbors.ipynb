{
 "cells": [
  {
   "cell_type": "markdown",
   "id": "296fdfe3",
   "metadata": {},
   "source": [
    "# kNN on a dataset of penguins"
   ]
  },
  {
   "cell_type": "code",
   "execution_count": 1,
   "id": "57a0bf99",
   "metadata": {},
   "outputs": [],
   "source": [
    "import seaborn as sns\n",
    "from math import sqrt\n",
    "from collections import Counter"
   ]
  },
  {
   "cell_type": "markdown",
   "id": "9c8712d2",
   "metadata": {},
   "source": [
    "### Get data"
   ]
  },
  {
   "cell_type": "code",
   "execution_count": 2,
   "id": "9b8ac3a9",
   "metadata": {},
   "outputs": [
    {
     "data": {
      "text/html": [
       "<div>\n",
       "<style scoped>\n",
       "    .dataframe tbody tr th:only-of-type {\n",
       "        vertical-align: middle;\n",
       "    }\n",
       "\n",
       "    .dataframe tbody tr th {\n",
       "        vertical-align: top;\n",
       "    }\n",
       "\n",
       "    .dataframe thead th {\n",
       "        text-align: right;\n",
       "    }\n",
       "</style>\n",
       "<table border=\"1\" class=\"dataframe\">\n",
       "  <thead>\n",
       "    <tr style=\"text-align: right;\">\n",
       "      <th></th>\n",
       "      <th>species</th>\n",
       "      <th>island</th>\n",
       "      <th>bill_length_mm</th>\n",
       "      <th>bill_depth_mm</th>\n",
       "      <th>flipper_length_mm</th>\n",
       "      <th>body_mass_g</th>\n",
       "      <th>sex</th>\n",
       "    </tr>\n",
       "  </thead>\n",
       "  <tbody>\n",
       "    <tr>\n",
       "      <th>0</th>\n",
       "      <td>Adelie</td>\n",
       "      <td>Torgersen</td>\n",
       "      <td>39.1</td>\n",
       "      <td>18.7</td>\n",
       "      <td>181.0</td>\n",
       "      <td>3750.0</td>\n",
       "      <td>Male</td>\n",
       "    </tr>\n",
       "    <tr>\n",
       "      <th>1</th>\n",
       "      <td>Adelie</td>\n",
       "      <td>Torgersen</td>\n",
       "      <td>39.5</td>\n",
       "      <td>17.4</td>\n",
       "      <td>186.0</td>\n",
       "      <td>3800.0</td>\n",
       "      <td>Female</td>\n",
       "    </tr>\n",
       "    <tr>\n",
       "      <th>2</th>\n",
       "      <td>Adelie</td>\n",
       "      <td>Torgersen</td>\n",
       "      <td>40.3</td>\n",
       "      <td>18.0</td>\n",
       "      <td>195.0</td>\n",
       "      <td>3250.0</td>\n",
       "      <td>Female</td>\n",
       "    </tr>\n",
       "  </tbody>\n",
       "</table>\n",
       "</div>"
      ],
      "text/plain": [
       "  species     island  bill_length_mm  bill_depth_mm  flipper_length_mm  \\\n",
       "0  Adelie  Torgersen            39.1           18.7              181.0   \n",
       "1  Adelie  Torgersen            39.5           17.4              186.0   \n",
       "2  Adelie  Torgersen            40.3           18.0              195.0   \n",
       "\n",
       "   body_mass_g     sex  \n",
       "0       3750.0    Male  \n",
       "1       3800.0  Female  \n",
       "2       3250.0  Female  "
      ]
     },
     "execution_count": 2,
     "metadata": {},
     "output_type": "execute_result"
    }
   ],
   "source": [
    "df = sns.load_dataset(\"penguins\")\n",
    "df.head(3)"
   ]
  },
  {
   "cell_type": "markdown",
   "id": "4dafa791",
   "metadata": {},
   "source": [
    "### Remove missing values"
   ]
  },
  {
   "cell_type": "code",
   "execution_count": 3,
   "id": "73f1984b",
   "metadata": {},
   "outputs": [],
   "source": [
    "df.dropna(inplace=True)"
   ]
  },
  {
   "cell_type": "code",
   "execution_count": 4,
   "id": "ae7831bc",
   "metadata": {},
   "outputs": [],
   "source": [
    "Xtrain = df.iloc[:-10, 2:5]  # multiple columns -> matrix\n",
    "ytrain = df.iloc[:-10, 0]    # single column    -> vector\n",
    "\n",
    "Xpred = df.iloc[-10:, 2:5]   # some data for making predictions"
   ]
  },
  {
   "cell_type": "code",
   "execution_count": 5,
   "id": "e98f998a",
   "metadata": {},
   "outputs": [
    {
     "data": {
      "text/plain": [
       "((323, 3), (323,))"
      ]
     },
     "execution_count": 5,
     "metadata": {},
     "output_type": "execute_result"
    }
   ],
   "source": [
    "# number of rows and columns\n",
    "Xtrain.shape, ytrain.shape"
   ]
  },
  {
   "cell_type": "markdown",
   "id": "3a8fa676",
   "metadata": {},
   "source": [
    "### Distances"
   ]
  },
  {
   "cell_type": "code",
   "execution_count": 6,
   "id": "362c5a8a",
   "metadata": {},
   "outputs": [],
   "source": [
    "def euclidean_distance(a, b) -> float:\n",
    "    \"\"\"calculates the Euclidean distance of two penguins\"\"\"\n",
    "    return sqrt(sum([\n",
    "        (a[\"bill_length_mm\"] - b[\"bill_length_mm\"]) ** 2 +\n",
    "        (a[\"bill_depth_mm\"] - b[\"bill_depth_mm\"]) ** 2 +\n",
    "        (a[\"flipper_length_mm\"] - b[\"flipper_length_mm\"]) ** 2\n",
    "    ]))"
   ]
  },
  {
   "cell_type": "markdown",
   "id": "f7fde815",
   "metadata": {},
   "source": [
    "### Pseudocode of the kNN algorithm\n",
    "\n",
    "to make a prediction for P:\n",
    "    \n",
    "1. go through all data points T\n",
    "2. calculate the distance of T to P\n",
    "3. find the k closest data points\n",
    "4. calculate the average target value (regression) or majority vote (classification) among the closest points"
   ]
  },
  {
   "cell_type": "code",
   "execution_count": 7,
   "id": "11385787",
   "metadata": {},
   "outputs": [],
   "source": [
    "k = 7  # our hyperparameter, number of closest points considered"
   ]
  },
  {
   "cell_type": "code",
   "execution_count": 8,
   "id": "0465092f",
   "metadata": {},
   "outputs": [],
   "source": [
    "p = Xpred.iloc[8]  # the penguind for which we make a prediction"
   ]
  },
  {
   "cell_type": "code",
   "execution_count": 9,
   "id": "1cc7ff35",
   "metadata": {},
   "outputs": [],
   "source": [
    "distances = []\n",
    "\n",
    "for i in range(Xtrain.shape[0]):\n",
    "    t = Xtrain.iloc[i]\n",
    "    dist = euclidean_distance(t, p)\n",
    "    species = ytrain.iloc[i]\n",
    "    distances.append((dist, species))"
   ]
  },
  {
   "cell_type": "code",
   "execution_count": 10,
   "id": "17f69635",
   "metadata": {},
   "outputs": [],
   "source": [
    "# same code written as a list comprehension\n",
    "distances = [\n",
    "    (euclidean_distance(t, p), species)\n",
    "    for (i, t), species in zip(Xtrain.iterrows(), ytrain.values)\n",
    "]"
   ]
  },
  {
   "cell_type": "code",
   "execution_count": 11,
   "id": "9e5df1c5",
   "metadata": {},
   "outputs": [],
   "source": [
    "distances.sort()"
   ]
  },
  {
   "cell_type": "code",
   "execution_count": 12,
   "id": "80137bf6",
   "metadata": {},
   "outputs": [
    {
     "data": {
      "text/plain": [
       "[(0.424264068711927, 'Gentoo'),\n",
       " (1.0392304845413258, 'Gentoo'),\n",
       " (1.0440306508910562, 'Gentoo'),\n",
       " (1.6673332000533045, 'Gentoo'),\n",
       " (1.8275666882497072, 'Gentoo'),\n",
       " (2.042057785666214, 'Gentoo'),\n",
       " (2.0904544960366875, 'Gentoo')]"
      ]
     },
     "execution_count": 12,
     "metadata": {},
     "output_type": "execute_result"
    }
   ],
   "source": [
    "distances[:k]  # a list of the closest (distance, price) tuples"
   ]
  },
  {
   "cell_type": "markdown",
   "id": "8a5f1bda",
   "metadata": {},
   "source": [
    "### Majority vote for classification"
   ]
  },
  {
   "cell_type": "code",
   "execution_count": 13,
   "id": "228897c1",
   "metadata": {},
   "outputs": [
    {
     "data": {
      "text/plain": [
       "['Gentoo', 'Gentoo', 'Gentoo', 'Gentoo', 'Gentoo', 'Gentoo', 'Gentoo']"
      ]
     },
     "execution_count": 13,
     "metadata": {},
     "output_type": "execute_result"
    }
   ],
   "source": [
    "pred = [species for dist, species in distances[:k]]\n",
    "pred"
   ]
  },
  {
   "cell_type": "code",
   "execution_count": 14,
   "id": "f70d69e1",
   "metadata": {},
   "outputs": [
    {
     "data": {
      "text/plain": [
       "[('Gentoo', 7)]"
      ]
     },
     "execution_count": 14,
     "metadata": {},
     "output_type": "execute_result"
    }
   ],
   "source": [
    "Counter(pred).most_common(1)"
   ]
  },
  {
   "cell_type": "code",
   "execution_count": null,
   "id": "249e1e68",
   "metadata": {},
   "outputs": [],
   "source": []
  }
 ],
 "metadata": {
  "kernelspec": {
   "display_name": "Python 3",
   "language": "python",
   "name": "python3"
  },
  "language_info": {
   "codemirror_mode": {
    "name": "ipython",
    "version": 3
   },
   "file_extension": ".py",
   "mimetype": "text/x-python",
   "name": "python",
   "nbconvert_exporter": "python",
   "pygments_lexer": "ipython3",
   "version": "3.9.12"
  }
 },
 "nbformat": 4,
 "nbformat_minor": 5
}
