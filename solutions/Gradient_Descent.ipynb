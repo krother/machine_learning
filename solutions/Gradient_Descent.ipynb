{
 "cells": [
  {
   "cell_type": "markdown",
   "id": "5add90f4",
   "metadata": {},
   "source": [
    "# Gradient Descent\n",
    "\n",
    "* we now have an extra dimension: x2\n",
    "* x1 and x2 are the *independent variables*\n",
    "* y is the *dependent variable*"
   ]
  },
  {
   "cell_type": "markdown",
   "id": "282fca74",
   "metadata": {},
   "source": [
    "with two x dimensions, we get a plane:\n",
    "\n",
    "$\\hat y = a_1x_1 + a_2x_2 + a_0*1$\n",
    "\n",
    "the model has 3 parameters (a0, a1, a2)\n",
    "\n",
    "$\\hat y = aX$\n",
    "\n",
    "a is a vector of parameters, X is a matrix with our input training data. aX is a dot product of a vector and a matrix."
   ]
  },
  {
   "cell_type": "code",
   "execution_count": 1,
   "id": "876444fe",
   "metadata": {},
   "outputs": [],
   "source": [
    "import pandas as pd\n",
    "import numpy as np"
   ]
  },
  {
   "cell_type": "code",
   "execution_count": 80,
   "id": "933cf834",
   "metadata": {},
   "outputs": [
    {
     "data": {
      "text/html": [
       "<div>\n",
       "<style scoped>\n",
       "    .dataframe tbody tr th:only-of-type {\n",
       "        vertical-align: middle;\n",
       "    }\n",
       "\n",
       "    .dataframe tbody tr th {\n",
       "        vertical-align: top;\n",
       "    }\n",
       "\n",
       "    .dataframe thead th {\n",
       "        text-align: right;\n",
       "    }\n",
       "</style>\n",
       "<table border=\"1\" class=\"dataframe\">\n",
       "  <thead>\n",
       "    <tr style=\"text-align: right;\">\n",
       "      <th></th>\n",
       "      <th>x1</th>\n",
       "      <th>x2</th>\n",
       "      <th>y</th>\n",
       "      <th>bias</th>\n",
       "    </tr>\n",
       "  </thead>\n",
       "  <tbody>\n",
       "    <tr>\n",
       "      <th>0</th>\n",
       "      <td>11.012901</td>\n",
       "      <td>23.071120</td>\n",
       "      <td>104.297382</td>\n",
       "      <td>1</td>\n",
       "    </tr>\n",
       "    <tr>\n",
       "      <th>1</th>\n",
       "      <td>3.242083</td>\n",
       "      <td>24.595835</td>\n",
       "      <td>102.625424</td>\n",
       "      <td>1</td>\n",
       "    </tr>\n",
       "    <tr>\n",
       "      <th>2</th>\n",
       "      <td>8.976505</td>\n",
       "      <td>22.738804</td>\n",
       "      <td>100.931721</td>\n",
       "      <td>1</td>\n",
       "    </tr>\n",
       "  </tbody>\n",
       "</table>\n",
       "</div>"
      ],
      "text/plain": [
       "          x1         x2           y  bias\n",
       "0  11.012901  23.071120  104.297382     1\n",
       "1   3.242083  24.595835  102.625424     1\n",
       "2   8.976505  22.738804  100.931721     1"
      ]
     },
     "execution_count": 80,
     "metadata": {},
     "output_type": "execute_result"
    }
   ],
   "source": [
    "df = pd.read_csv(\"linear07.csv\")\n",
    "df[\"bias\"] = 1\n",
    "df.head(3)"
   ]
  },
  {
   "cell_type": "markdown",
   "id": "480d79f5",
   "metadata": {},
   "source": [
    "#### Problem: how to find the optimal parameters if we cannot use nested loops and try all combinations?"
   ]
  },
  {
   "cell_type": "code",
   "execution_count": 3,
   "id": "31a7abc1",
   "metadata": {},
   "outputs": [
    {
     "data": {
      "text/plain": [
       "((1000, 3), (1000,))"
      ]
     },
     "execution_count": 3,
     "metadata": {},
     "output_type": "execute_result"
    }
   ],
   "source": [
    "# select training data\n",
    "X = df[[\"x1\", \"x2\", \"bias\"]]  # if you leave away the bias, the regression goes through the origin (0,0)\n",
    "ytrue = df[\"y\"]\n",
    "\n",
    "X.shape, ytrue.shape  # X is a 2D matrix, ytrue is a vector"
   ]
  },
  {
   "cell_type": "markdown",
   "id": "8eaef9a9",
   "metadata": {},
   "source": [
    "### Linear Model"
   ]
  },
  {
   "cell_type": "code",
   "execution_count": 4,
   "id": "e51b3d46",
   "metadata": {},
   "outputs": [],
   "source": [
    "def linear_model(X, a):\n",
    "    return np.dot(X, a)"
   ]
  },
  {
   "cell_type": "code",
   "execution_count": 5,
   "id": "bf85958f",
   "metadata": {},
   "outputs": [
    {
     "data": {
      "text/plain": [
       "(1000,)"
      ]
     },
     "execution_count": 5,
     "metadata": {},
     "output_type": "execute_result"
    }
   ],
   "source": [
    "a = np.array([1, 2, 3])      # arbitrary parameters for testing\n",
    "yhat = linear_model(X, a)    # output is 1000 values for y\n",
    "yhat.shape"
   ]
  },
  {
   "cell_type": "markdown",
   "id": "b758c22b",
   "metadata": {},
   "source": [
    "### Loss Function"
   ]
  },
  {
   "cell_type": "code",
   "execution_count": 6,
   "id": "f1d6add0",
   "metadata": {},
   "outputs": [],
   "source": [
    "def mse(ytrue, yhat):\n",
    "    return np.mean((ytrue - yhat) ** 2)"
   ]
  },
  {
   "cell_type": "code",
   "execution_count": 7,
   "id": "ad987956",
   "metadata": {},
   "outputs": [],
   "source": [
    "mse = lambda ytrue, yhat: np.mean((ytrue - yhat) ** 2)  # same code but messy in bigger program"
   ]
  },
  {
   "cell_type": "code",
   "execution_count": 8,
   "id": "97353a0b",
   "metadata": {},
   "outputs": [],
   "source": [
    "# test code with example numbers by Paul\n",
    "a = np.array([1.0, 1.2, 1.4, 1.6])\n",
    "b = np.array([0.2, 0.4, 0.6, 0.8])\n",
    "\n",
    "assert round(mse(a, b), 2) == 0.64  # if there is no error it is correct"
   ]
  },
  {
   "cell_type": "code",
   "execution_count": 9,
   "id": "d4bfffb0",
   "metadata": {},
   "outputs": [
    {
     "data": {
      "text/plain": [
       "0.0"
      ]
     },
     "execution_count": 9,
     "metadata": {},
     "output_type": "execute_result"
    }
   ],
   "source": [
    "mse(ytrue, ytrue)  # 0.0 is the smallest possible MSE value"
   ]
  },
  {
   "cell_type": "markdown",
   "id": "e2b31055",
   "metadata": {},
   "source": [
    "### Gradient\n",
    "\n",
    "$a_{new} = a_{old} - \\eta \\nabla loss(a)$"
   ]
  },
  {
   "cell_type": "code",
   "execution_count": 18,
   "id": "90ae8c13",
   "metadata": {},
   "outputs": [],
   "source": [
    "def partial_derivative(X, ytrue, a, index, mse_old, epsilon=0.0001):\n",
    "    \"\"\"determine by how much we have to modify the indexed parameter\"\"\"\n",
    "    a_change = a.copy()\n",
    "    a_change[index] += epsilon\n",
    "    ypred_a = linear_model(X=X, a=a_change)\n",
    "    mse_a = mse(ytrue, ypred_a)\n",
    "    return (mse_a - mse_old) / epsilon\n",
    "\n",
    "\n",
    "def calc_gradient(X, ytrue, a):\n",
    "    ypred = linear_model(X=X, a=a)   # prediction for y with the parameters we have now\n",
    "    mse_old = mse(ytrue, ypred)\n",
    "\n",
    "    result = []\n",
    "    for index in range(3):\n",
    "        result.append(partial_derivative(X, ytrue, a, index, mse_old))\n",
    "    return result  # all partial derivatives for each parameter -> list of 3 numbers used to calculate Delta_a"
   ]
  },
  {
   "cell_type": "code",
   "execution_count": 78,
   "id": "600dbd7b",
   "metadata": {},
   "outputs": [
    {
     "data": {
      "text/plain": [
       "array([1.04600948, 3.97741096, 0.865807  ])"
      ]
     },
     "execution_count": 78,
     "metadata": {},
     "output_type": "execute_result"
    }
   ],
   "source": [
    "learning_rate = 0.0001\n",
    "\n",
    "np.random.seed(42)            # set the seed value of the random number generator\n",
    "a = np.random.random(size=3)  # random parameter vector\n",
    "\n",
    "history = []\n",
    "for i in range(1000):    \n",
    "    gradient = np.array(calc_gradient(X=X, ytrue=ytrue, a=a))\n",
    "    a -= gradient * learning_rate\n",
    "    ypred = linear_model(X=X, a=a)\n",
    "    history.append(mse(ytrue, ypred))\n",
    "    \n",
    "    if i > 10 and (history[-2] - history[-1]) < 0.05:\n",
    "        break\n",
    "        \n",
    "a"
   ]
  },
  {
   "cell_type": "markdown",
   "id": "93ac723d",
   "metadata": {},
   "source": [
    "#### Learning Curve"
   ]
  },
  {
   "cell_type": "code",
   "execution_count": 79,
   "id": "103b4a68",
   "metadata": {},
   "outputs": [
    {
     "data": {
      "text/plain": [
       "[<matplotlib.lines.Line2D at 0x7f8990d64a60>]"
      ]
     },
     "execution_count": 79,
     "metadata": {},
     "output_type": "execute_result"
    },
    {
     "data": {
      "image/png": "[encoded data removed]",
      "text/plain": [
       "<Figure size 640x480 with 1 Axes>"
      ]
     },
     "metadata": {},
     "output_type": "display_data"
    }
   ],
   "source": [
    "from matplotlib import pyplot as plt\n",
    "\n",
    "plt.plot(history)"
   ]
  },
  {
   "cell_type": "code",
   "execution_count": null,
   "id": "9f044cca",
   "metadata": {},
   "outputs": [],
   "source": []
  }
 ],
 "metadata": {
  "kernelspec": {
   "display_name": "Python 3",
   "language": "python",
   "name": "python3"
  },
  "language_info": {
   "codemirror_mode": {
    "name": "ipython",
    "version": 3
   },
   "file_extension": ".py",
   "mimetype": "text/x-python",
   "name": "python",
   "nbconvert_exporter": "python",
   "pygments_lexer": "ipython3",
   "version": "3.9.12"
  }
 },
 "nbformat": 4,
 "nbformat_minor": 5
}
