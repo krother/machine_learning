{
 "cells": [
  {
   "cell_type": "markdown",
   "id": "e14f97f3",
   "metadata": {},
   "source": [
    "# K-Nearest-Neighbors"
   ]
  },
  {
   "cell_type": "markdown",
   "id": "05cff468",
   "metadata": {},
   "source": [
    "using Jupyter Notebook (cloud: Google Colab, local: install Anaconda)"
   ]
  },
  {
   "cell_type": "code",
   "execution_count": 1,
   "id": "9bcf800d",
   "metadata": {},
   "outputs": [],
   "source": [
    "import pandas as pd\n",
    "import numpy as np\n",
    "import math"
   ]
  },
  {
   "cell_type": "markdown",
   "id": "4355a535",
   "metadata": {},
   "source": [
    "### Load and explore country data"
   ]
  },
  {
   "cell_type": "code",
   "execution_count": 2,
   "id": "dfab699c",
   "metadata": {},
   "outputs": [],
   "source": [
    "name = \"gapminder_2024/gapminder_2024.csv\""
   ]
  },
  {
   "cell_type": "code",
   "execution_count": 3,
   "id": "5b5f0f23",
   "metadata": {
    "scrolled": true
   },
   "outputs": [
    {
     "data": {
      "text/html": [
       "<div>\n",
       "<style scoped>\n",
       "    .dataframe tbody tr th:only-of-type {\n",
       "        vertical-align: middle;\n",
       "    }\n",
       "\n",
       "    .dataframe tbody tr th {\n",
       "        vertical-align: top;\n",
       "    }\n",
       "\n",
       "    .dataframe thead th {\n",
       "        text-align: right;\n",
       "    }\n",
       "</style>\n",
       "<table border=\"1\" class=\"dataframe\">\n",
       "  <thead>\n",
       "    <tr style=\"text-align: right;\">\n",
       "      <th></th>\n",
       "      <th>country</th>\n",
       "      <th>year</th>\n",
       "      <th>continent</th>\n",
       "      <th>population</th>\n",
       "      <th>life_expectancy</th>\n",
       "      <th>total_fertility</th>\n",
       "      <th>co2_per_capita</th>\n",
       "      <th>gdp_per_capita</th>\n",
       "      <th>logpop</th>\n",
       "    </tr>\n",
       "  </thead>\n",
       "  <tbody>\n",
       "    <tr>\n",
       "      <th>215</th>\n",
       "      <td>Afghanistan</td>\n",
       "      <td>2015</td>\n",
       "      <td>Asia</td>\n",
       "      <td>33800000.0</td>\n",
       "      <td>61.9</td>\n",
       "      <td>4.80</td>\n",
       "      <td>0.262</td>\n",
       "      <td>2110.0</td>\n",
       "      <td>17.335971</td>\n",
       "    </tr>\n",
       "    <tr>\n",
       "      <th>516</th>\n",
       "      <td>Albania</td>\n",
       "      <td>2015</td>\n",
       "      <td>Europe</td>\n",
       "      <td>2880000.0</td>\n",
       "      <td>78.1</td>\n",
       "      <td>1.71</td>\n",
       "      <td>2.04</td>\n",
       "      <td>11900.0</td>\n",
       "      <td>14.873301</td>\n",
       "    </tr>\n",
       "    <tr>\n",
       "      <th>817</th>\n",
       "      <td>Algeria</td>\n",
       "      <td>2015</td>\n",
       "      <td>Africa</td>\n",
       "      <td>39500000.0</td>\n",
       "      <td>75.4</td>\n",
       "      <td>2.84</td>\n",
       "      <td>3.8</td>\n",
       "      <td>11800.0</td>\n",
       "      <td>17.491811</td>\n",
       "    </tr>\n",
       "  </tbody>\n",
       "</table>\n",
       "</div>"
      ],
      "text/plain": [
       "         country  year continent  population  life_expectancy  \\\n",
       "215  Afghanistan  2015      Asia  33800000.0             61.9   \n",
       "516      Albania  2015    Europe   2880000.0             78.1   \n",
       "817      Algeria  2015    Africa  39500000.0             75.4   \n",
       "\n",
       "     total_fertility co2_per_capita  gdp_per_capita     logpop  \n",
       "215             4.80          0.262          2110.0  17.335971  \n",
       "516             1.71           2.04         11900.0  14.873301  \n",
       "817             2.84            3.8         11800.0  17.491811  "
      ]
     },
     "execution_count": 3,
     "metadata": {},
     "output_type": "execute_result"
    }
   ],
   "source": [
    "df = pd.read_csv(name)  # DataFrame = Table\n",
    "df = df[df[\"year\"]==2015]\n",
    "df = df[df[\"population\"] < 900_000_000]\n",
    "df[\"logpop\"] = np.log(df[\"population\"])\n",
    "df = df.dropna()  # remove missing data\n",
    "df.head(3)"
   ]
  },
  {
   "cell_type": "code",
   "execution_count": 4,
   "id": "283355de",
   "metadata": {
    "scrolled": true
   },
   "outputs": [
    {
     "data": {
      "text/plain": [
       "<AxesSubplot: xlabel='total_fertility', ylabel='logpop'>"
      ]
     },
     "execution_count": 4,
     "metadata": {},
     "output_type": "execute_result"
    },
    {
     "data": {
      "image/png": "[encoded data removed]",
      "text/plain": [
       "<Figure size 640x480 with 1 Axes>"
      ]
     },
     "metadata": {},
     "output_type": "display_data"
    }
   ],
   "source": [
    "df.plot.scatter(x=\"total_fertility\", y=\"logpop\")"
   ]
  },
  {
   "cell_type": "code",
   "execution_count": 5,
   "id": "160f7c94",
   "metadata": {},
   "outputs": [
    {
     "data": {
      "text/plain": [
       "(161, 9)"
      ]
     },
     "execution_count": 5,
     "metadata": {},
     "output_type": "execute_result"
    }
   ],
   "source": [
    "df.shape  # (rows, cols)"
   ]
  },
  {
   "cell_type": "code",
   "execution_count": 6,
   "id": "ba60674b",
   "metadata": {},
   "outputs": [
    {
     "data": {
      "text/plain": [
       "((81, 9), (80, 9))"
      ]
     },
     "execution_count": 6,
     "metadata": {},
     "output_type": "execute_result"
    }
   ],
   "source": [
    "train = df.iloc[::2]  # Python slicing\n",
    "test = df.iloc[1::2]\n",
    "train.shape, test.shape  # (rows, cols)"
   ]
  },
  {
   "cell_type": "markdown",
   "id": "44751b4f",
   "metadata": {},
   "source": [
    "### KNN implementation from scratch"
   ]
  },
  {
   "cell_type": "code",
   "execution_count": 7,
   "id": "396d4ee8",
   "metadata": {},
   "outputs": [],
   "source": [
    "def calc_similarity(p1, p2):\n",
    "    \"\"\"calculate the Euclidean Distance\"\"\"\n",
    "    return math.sqrt(\n",
    "        (math.log(p1[\"population\"]) - math.log(p2[\"population\"])) ** 2 +\n",
    "        (p1[\"total_fertility\"] - p2[\"total_fertility\"]) ** 2\n",
    "    )"
   ]
  },
  {
   "cell_type": "code",
   "execution_count": 8,
   "id": "c0445040",
   "metadata": {},
   "outputs": [
    {
     "data": {
      "text/plain": [
       "3.9905320488191918"
      ]
     },
     "execution_count": 8,
     "metadata": {},
     "output_type": "execute_result"
    }
   ],
   "source": [
    "# example for testing\n",
    "calc_similarity(train.iloc[0], train.iloc[3])"
   ]
  },
  {
   "cell_type": "code",
   "execution_count": 9,
   "id": "3c5ee74d",
   "metadata": {},
   "outputs": [],
   "source": [
    "def predict(train, point, k):\n",
    "    \"\"\"train: DataFrame, point: single country\"\"\"\n",
    "    #print(\"prediction for\", point[\"country\"])\n",
    "    result = []\n",
    "    # go through every data point p\n",
    "    for index, p in train.iterrows():\n",
    "        # calculate a similarity between 0..inf\n",
    "        sim = calc_similarity(p, point)\n",
    "        # add a row to result\n",
    "        result.append((sim,\n",
    "                       p[\"life_expectancy\"], \n",
    "                       p[\"country\"]))\n",
    "    result.sort()  # lowest similarity first\n",
    "    # take the k most similar points\n",
    "    best = result[:k]\n",
    "    #pprint(best)\n",
    "    # calculate the average life expectancy\n",
    "    ypred = sum([life for sim, life, name in best]) / k\n",
    "    return ypred"
   ]
  },
  {
   "cell_type": "code",
   "execution_count": 10,
   "id": "8495431c",
   "metadata": {},
   "outputs": [
    {
     "data": {
      "text/plain": [
       "75.3"
      ]
     },
     "execution_count": 10,
     "metadata": {},
     "output_type": "execute_result"
    }
   ],
   "source": [
    "# example for testing\n",
    "predict(train, test.iloc[0], k=3)"
   ]
  },
  {
   "cell_type": "markdown",
   "id": "6702b1f4",
   "metadata": {},
   "source": [
    "### Calculate Mean Absolute Error for the test set\n",
    "\n",
    "$$MAE = \\frac{1}{n} \\sum |y_{true} - y_{pred}|$$"
   ]
  },
  {
   "cell_type": "code",
   "execution_count": 11,
   "id": "9c0a87ca",
   "metadata": {},
   "outputs": [
    {
     "name": "stdout",
     "output_type": "stream",
     "text": [
      "average prediction error MEA = 3.80 years\n"
     ]
    }
   ],
   "source": [
    "mae = 0\n",
    "n = 0\n",
    "for index, point in test.iterrows():\n",
    "    ypred = predict(train, point, k=7)\n",
    "    ytrue = point[\"life_expectancy\"]\n",
    "    mae += abs(ypred - ytrue)\n",
    "    n += 1\n",
    "\n",
    "mae = mae / n # divide by num of countries\n",
    "print(f\"average prediction error MEA ={mae:5.2f} years\")"
   ]
  },
  {
   "cell_type": "markdown",
   "id": "b6c9c8c4",
   "metadata": {},
   "source": [
    "### Implementation with scikit-learn"
   ]
  },
  {
   "cell_type": "code",
   "execution_count": 12,
   "id": "f7730680",
   "metadata": {},
   "outputs": [],
   "source": [
    "from sklearn.neighbors import KNeighborsRegressor\n",
    "from sklearn.metrics import mean_absolute_error"
   ]
  },
  {
   "cell_type": "code",
   "execution_count": 13,
   "id": "f8a77fe9",
   "metadata": {},
   "outputs": [
    {
     "data": {
      "text/html": [
       "<style>#sk-container-id-1 {color: black;background-color: white;}#sk-container-id-1 pre{padding: 0;}#sk-container-id-1 div.sk-toggleable {background-color: white;}#sk-container-id-1 label.sk-toggleable__label {cursor: pointer;display: block;width: 100%;margin-bottom: 0;padding: 0.3em;box-sizing: border-box;text-align: center;}#sk-container-id-1 label.sk-toggleable__label-arrow:before {content: \"▸\";float: left;margin-right: 0.25em;color: #696969;}#sk-container-id-1 label.sk-toggleable__label-arrow:hover:before {color: black;}#sk-container-id-1 div.sk-estimator:hover label.sk-toggleable__label-arrow:before {color: black;}#sk-container-id-1 div.sk-toggleable__content {max-height: 0;max-width: 0;overflow: hidden;text-align: left;background-color: #f0f8ff;}#sk-container-id-1 div.sk-toggleable__content pre {margin: 0.2em;color: black;border-radius: 0.25em;background-color: #f0f8ff;}#sk-container-id-1 input.sk-toggleable__control:checked~div.sk-toggleable__content {max-height: 200px;max-width: 100%;overflow: auto;}#sk-container-id-1 input.sk-toggleable__control:checked~label.sk-toggleable__label-arrow:before {content: \"▾\";}#sk-container-id-1 div.sk-estimator input.sk-toggleable__control:checked~label.sk-toggleable__label {background-color: #d4ebff;}#sk-container-id-1 div.sk-label input.sk-toggleable__control:checked~label.sk-toggleable__label {background-color: #d4ebff;}#sk-container-id-1 input.sk-hidden--visually {border: 0;clip: rect(1px 1px 1px 1px);clip: rect(1px, 1px, 1px, 1px);height: 1px;margin: -1px;overflow: hidden;padding: 0;position: absolute;width: 1px;}#sk-container-id-1 div.sk-estimator {font-family: monospace;background-color: #f0f8ff;border: 1px dotted black;border-radius: 0.25em;box-sizing: border-box;margin-bottom: 0.5em;}#sk-container-id-1 div.sk-estimator:hover {background-color: #d4ebff;}#sk-container-id-1 div.sk-parallel-item::after {content: \"\";width: 100%;border-bottom: 1px solid gray;flex-grow: 1;}#sk-container-id-1 div.sk-label:hover label.sk-toggleable__label {background-color: #d4ebff;}#sk-container-id-1 div.sk-serial::before {content: \"\";position: absolute;border-left: 1px solid gray;box-sizing: border-box;top: 0;bottom: 0;left: 50%;z-index: 0;}#sk-container-id-1 div.sk-serial {display: flex;flex-direction: column;align-items: center;background-color: white;padding-right: 0.2em;padding-left: 0.2em;position: relative;}#sk-container-id-1 div.sk-item {position: relative;z-index: 1;}#sk-container-id-1 div.sk-parallel {display: flex;align-items: stretch;justify-content: center;background-color: white;position: relative;}#sk-container-id-1 div.sk-item::before, #sk-container-id-1 div.sk-parallel-item::before {content: \"\";position: absolute;border-left: 1px solid gray;box-sizing: border-box;top: 0;bottom: 0;left: 50%;z-index: -1;}#sk-container-id-1 div.sk-parallel-item {display: flex;flex-direction: column;z-index: 1;position: relative;background-color: white;}#sk-container-id-1 div.sk-parallel-item:first-child::after {align-self: flex-end;width: 50%;}#sk-container-id-1 div.sk-parallel-item:last-child::after {align-self: flex-start;width: 50%;}#sk-container-id-1 div.sk-parallel-item:only-child::after {width: 0;}#sk-container-id-1 div.sk-dashed-wrapped {border: 1px dashed gray;margin: 0 0.4em 0.5em 0.4em;box-sizing: border-box;padding-bottom: 0.4em;background-color: white;}#sk-container-id-1 div.sk-label label {font-family: monospace;font-weight: bold;display: inline-block;line-height: 1.2em;}#sk-container-id-1 div.sk-label-container {text-align: center;}#sk-container-id-1 div.sk-container {/* jupyter's `normalize.less` sets `[hidden] { display: none; }` but bootstrap.min.css set `[hidden] { display: none !important; }` so we also need the `!important` here to be able to override the default hidden behavior on the sphinx rendered scikit-learn.org. See: https://github.com/scikit-learn/scikit-learn/issues/21755 */display: inline-block !important;position: relative;}#sk-container-id-1 div.sk-text-repr-fallback {display: none;}</style><div id=\"sk-container-id-1\" class=\"sk-top-container\"><div class=\"sk-text-repr-fallback\"><pre>KNeighborsRegressor(metric=&#x27;euclidean&#x27;, n_neighbors=7)</pre><b>In a Jupyter environment, please rerun this cell to show the HTML representation or trust the notebook. <br />On GitHub, the HTML representation is unable to render, please try loading this page with nbviewer.org.</b></div><div class=\"sk-container\" hidden><div class=\"sk-item\"><div class=\"sk-estimator sk-toggleable\"><input class=\"sk-toggleable__control sk-hidden--visually\" id=\"sk-estimator-id-1\" type=\"checkbox\" checked><label for=\"sk-estimator-id-1\" class=\"sk-toggleable__label sk-toggleable__label-arrow\">KNeighborsRegressor</label><div class=\"sk-toggleable__content\"><pre>KNeighborsRegressor(metric=&#x27;euclidean&#x27;, n_neighbors=7)</pre></div></div></div></div></div>"
      ],
      "text/plain": [
       "KNeighborsRegressor(metric='euclidean', n_neighbors=7)"
      ]
     },
     "execution_count": 13,
     "metadata": {},
     "output_type": "execute_result"
    }
   ],
   "source": [
    "# define input and output\n",
    "X = train[[\"logpop\", \"total_fertility\"]]\n",
    "y = train[\"life_expectancy\"]\n",
    "\n",
    "# train the model\n",
    "model = KNeighborsRegressor(n_neighbors=7, metric=\"euclidean\")\n",
    "model.fit(X, y)"
   ]
  },
  {
   "cell_type": "code",
   "execution_count": 14,
   "id": "1875014f",
   "metadata": {},
   "outputs": [
    {
     "name": "stdout",
     "output_type": "stream",
     "text": [
      "average prediction error MEA = 3.80 years\n"
     ]
    }
   ],
   "source": [
    "# calculate metric\n",
    "Xtest = test[[\"logpop\", \"total_fertility\"]]\n",
    "ytest = test[\"life_expectancy\"]\n",
    "\n",
    "ypred = model.predict(Xtest)\n",
    "mae = mean_absolute_error(ytest, ypred)\n",
    "print(f\"average prediction error MEA ={mae:5.2f} years\")"
   ]
  },
  {
   "cell_type": "code",
   "execution_count": null,
   "id": "c51c5194",
   "metadata": {},
   "outputs": [],
   "source": []
  }
 ],
 "metadata": {
  "kernelspec": {
   "display_name": "Python 3",
   "language": "python",
   "name": "python3"
  },
  "language_info": {
   "codemirror_mode": {
    "name": "ipython",
    "version": 3
   },
   "file_extension": ".py",
   "mimetype": "text/x-python",
   "name": "python",
   "nbconvert_exporter": "python",
   "pygments_lexer": "ipython3",
   "version": "3.9.12"
  }
 },
 "nbformat": 4,
 "nbformat_minor": 5
}
