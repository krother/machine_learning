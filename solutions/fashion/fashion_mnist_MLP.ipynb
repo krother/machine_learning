{
 "cells": [
  {
   "cell_type": "markdown",
   "id": "e381e8ce-6d08-40a6-8ca3-7fbd4dc4c235",
   "metadata": {},
   "source": [
    "# Recognize Clothing with a Multi-Layer Perceptron"
   ]
  },
  {
   "cell_type": "markdown",
   "id": "45f1b9df-0d19-47de-af4e-6e263caa132f",
   "metadata": {},
   "source": [
    "https://github.com/krother/machine_learning/tree/main/deep_learning/tensorflow"
   ]
  },
  {
   "cell_type": "code",
   "execution_count": null,
   "id": "6188b46e-aba9-40aa-a7a8-307076883f01",
   "metadata": {},
   "outputs": [],
   "source": [
    "# install Tensorflow before\n",
    "import tensorflow as tf\n",
    "from tensorflow.keras.datasets.fashion_mnist import load_data"
   ]
  },
  {
   "cell_type": "code",
   "execution_count": null,
   "id": "2ebe2f71-f04e-4748-8b34-da65fe236d8f",
   "metadata": {},
   "outputs": [],
   "source": [
    "from matplotlib import pyplot as plt"
   ]
  },
  {
   "cell_type": "code",
   "execution_count": null,
   "id": "3b273906-f634-4d77-a6b0-4c828a8c82c7",
   "metadata": {},
   "outputs": [],
   "source": [
    "from tensorflow import keras as k\n",
    "from tensorflow.keras.models import Sequential\n",
    "from tensorflow.keras.layers import Dense, Conv2D, Dropout\n",
    "from tensorflow.keras.regularizers import l2\n",
    "from tensorflow.keras.callbacks import EarlyStopping"
   ]
  },
  {
   "cell_type": "markdown",
   "id": "1c18631a-07bc-4ea6-929d-2bdcbc9f658f",
   "metadata": {},
   "source": [
    "## Goal\n",
    "Recognize the type of clothing from a 28 by 28 pixel image"
   ]
  },
  {
   "cell_type": "code",
   "execution_count": null,
   "id": "8db8fe3c-64db-4c35-9d58-840335e980c4",
   "metadata": {},
   "outputs": [],
   "source": [
    "LABELS = \"t-shirt,trouser,pullover,dress,coat,sandal,shirt,sneaker,bag,boot\".split()"
   ]
  },
  {
   "cell_type": "markdown",
   "id": "aef1bf1a-c8c2-4849-a478-9b0f6de738c6",
   "metadata": {},
   "source": [
    "## Get Data"
   ]
  },
  {
   "cell_type": "code",
   "execution_count": null,
   "id": "61c23021-f8d4-4512-9807-e72dafaf4ae3",
   "metadata": {},
   "outputs": [],
   "source": [
    "# https://www.tensorflow.org/api_docs/python/tf/keras/datasets/fashion_mnist/load_data\n",
    "(Xtrain, ytrain), (Xtest, ytest) = load_data()"
   ]
  },
  {
   "cell_type": "code",
   "execution_count": null,
   "id": "16a3b4b6-237d-4e48-bed9-d800156a9640",
   "metadata": {},
   "outputs": [],
   "source": [
    "Xtrain.shape, ytrain.shape, Xtest.shape, ytest.shape"
   ]
  },
  {
   "cell_type": "code",
   "execution_count": null,
   "id": "2f126037-9446-47dd-aa44-cd0322ca26e1",
   "metadata": {},
   "outputs": [],
   "source": [
    "plt.figure(figsize=(3, 3))\n",
    "plt.imshow(Xtrain[0], cmap=\"gray\")\n",
    "plt.xticks([])\n",
    "plt.yticks([])"
   ]
  },
  {
   "cell_type": "code",
   "execution_count": null,
   "id": "4df8a5f4-2a6f-4dbf-938a-a798601990d0",
   "metadata": {},
   "outputs": [],
   "source": [
    "plt.figure(figsize=(8, 4))\n",
    "plt.hist(Xtrain.flatten(), bins=20)\n",
    "None"
   ]
  },
  {
   "cell_type": "markdown",
   "id": "7d789d27-1740-4fa2-ad15-b68c6456dfe4",
   "metadata": {},
   "source": [
    "### Preprocessing"
   ]
  },
  {
   "cell_type": "code",
   "execution_count": null,
   "id": "35b4c508-2254-4682-8549-70ac00743f66",
   "metadata": {},
   "outputs": [],
   "source": [
    "X8 = Xtrain.reshape(60000, 28 * 28)[:10000]  # add more data here\n",
    "Xtest8 = Xtest.reshape(10000, 28 * 28)\n",
    "\n",
    "y = k.utils.to_categorical(ytrain[:10000])   # and here\n",
    "X8.shape, y.shape"
   ]
  },
  {
   "cell_type": "code",
   "execution_count": null,
   "id": "4dcdb321-b8c4-4ab1-b753-c720b7070582",
   "metadata": {},
   "outputs": [],
   "source": [
    "# make normalized floats\n",
    "X = X8 / 255.0\n",
    "X.dtype"
   ]
  },
  {
   "cell_type": "markdown",
   "id": "d37fc539-a1a4-4296-b703-cb7375038ea1",
   "metadata": {},
   "source": [
    "## Define the MLP modl\n",
    "\n",
    "* change the number of neurons\n",
    "* add more layers\n",
    "* edit activations: 'sigmoid', 'relu', 'tanh', 'elu'?, 'leaky_relu'\n",
    "* add `kernel_regularizer=l2(0.01)` to a layer"
   ]
  },
  {
   "cell_type": "code",
   "execution_count": null,
   "id": "16f10632-c107-498b-bc03-e6e1e2e60dde",
   "metadata": {},
   "outputs": [],
   "source": [
    "m = Sequential([\n",
    "    k.Input(shape=(28 * 28,)),              # DO NOT EDIT    \n",
    "    Dense(units=100, activation=\"sigmoid\"),\n",
    "    Dense(units=10, activation=\"softmax\"),  # DO NOT EDIT, softmax: normalizes output to sum(y) = 1.0\n",
    "])\n",
    "m.compile(optimizer=\"adam\", loss=\"categorical_crossentropy\", metrics=[\"accuracy\"])"
   ]
  },
  {
   "cell_type": "code",
   "execution_count": null,
   "id": "cfd44174-291d-48c4-976c-738719064dcb",
   "metadata": {},
   "outputs": [],
   "source": [
    "m.summary()"
   ]
  },
  {
   "cell_type": "markdown",
   "id": "f291ceb9-6205-4f0e-8943-d598b4e78ffe",
   "metadata": {},
   "source": [
    "## Train the model\n",
    "\n",
    "* change some of the parameters\n",
    "* add `es = EarlyStopping(monitor=\"val_loss\", patience=5)`  and `callbacks=[es]` to `.fit()`"
   ]
  },
  {
   "cell_type": "code",
   "execution_count": null,
   "id": "0132b417-532a-47d2-9a46-3bf2c13a97c8",
   "metadata": {},
   "outputs": [],
   "source": [
    "history = m.fit(X, y, batch_size=200, epochs=10, validation_split=0.2)"
   ]
  },
  {
   "cell_type": "code",
   "execution_count": null,
   "id": "034d812e-8c8c-4441-97f0-5da296aeeabe",
   "metadata": {},
   "outputs": [],
   "source": [
    "plt.plot(history.history[\"loss\"])\n",
    "plt.plot(history.history[\"val_loss\"])"
   ]
  },
  {
   "cell_type": "code",
   "execution_count": null,
   "id": "e0794c97-19f7-4aeb-9cab-f19193b91700",
   "metadata": {},
   "outputs": [],
   "source": []
  }
 ],
 "metadata": {
  "kernelspec": {
   "display_name": "Python 3 (ipykernel)",
   "language": "python",
   "name": "python3"
  },
  "language_info": {
   "codemirror_mode": {
    "name": "ipython",
    "version": 3
   },
   "file_extension": ".py",
   "mimetype": "text/x-python",
   "name": "python",
   "nbconvert_exporter": "python",
   "pygments_lexer": "ipython3",
   "version": "3.12.4"
  }
 },
 "nbformat": 4,
 "nbformat_minor": 5
}
