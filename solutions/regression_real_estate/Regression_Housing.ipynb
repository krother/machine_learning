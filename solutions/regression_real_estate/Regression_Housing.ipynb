{
 "cells": [
  {
   "cell_type": "markdown",
   "id": "001762ec",
   "metadata": {},
   "source": [
    "# Regression: California Housing"
   ]
  },
  {
   "cell_type": "markdown",
   "id": "5477bfb0",
   "metadata": {},
   "source": [
    "## Business Goal:\n",
    "**Produce estimates of house prices so that real estate agents can use that to make pricing decisions faster and more consistently.**"
   ]
  },
  {
   "cell_type": "code",
   "execution_count": 1,
   "id": "e6c82285",
   "metadata": {},
   "outputs": [],
   "source": [
    "import random\n",
    "\n",
    "import pandas as pd\n",
    "from sklearn.model_selection import train_test_split"
   ]
  },
  {
   "cell_type": "code",
   "execution_count": 2,
   "id": "1c8666ca",
   "metadata": {},
   "outputs": [
    {
     "data": {
      "text/html": [
       "<div>\n",
       "<style scoped>\n",
       "    .dataframe tbody tr th:only-of-type {\n",
       "        vertical-align: middle;\n",
       "    }\n",
       "\n",
       "    .dataframe tbody tr th {\n",
       "        vertical-align: top;\n",
       "    }\n",
       "\n",
       "    .dataframe thead th {\n",
       "        text-align: right;\n",
       "    }\n",
       "</style>\n",
       "<table border=\"1\" class=\"dataframe\">\n",
       "  <thead>\n",
       "    <tr style=\"text-align: right;\">\n",
       "      <th></th>\n",
       "      <th>longitude</th>\n",
       "      <th>latitude</th>\n",
       "      <th>housing_median_age</th>\n",
       "      <th>total_rooms</th>\n",
       "      <th>total_bedrooms</th>\n",
       "      <th>population</th>\n",
       "      <th>households</th>\n",
       "      <th>median_income</th>\n",
       "      <th>median_house_value</th>\n",
       "      <th>ocean_proximity</th>\n",
       "    </tr>\n",
       "  </thead>\n",
       "  <tbody>\n",
       "    <tr>\n",
       "      <th>0</th>\n",
       "      <td>-122.23</td>\n",
       "      <td>37.88</td>\n",
       "      <td>41.0</td>\n",
       "      <td>880.0</td>\n",
       "      <td>129.0</td>\n",
       "      <td>322.0</td>\n",
       "      <td>126.0</td>\n",
       "      <td>8.3252</td>\n",
       "      <td>452600.0</td>\n",
       "      <td>NEAR BAY</td>\n",
       "    </tr>\n",
       "    <tr>\n",
       "      <th>1</th>\n",
       "      <td>-122.22</td>\n",
       "      <td>37.86</td>\n",
       "      <td>21.0</td>\n",
       "      <td>7099.0</td>\n",
       "      <td>1106.0</td>\n",
       "      <td>2401.0</td>\n",
       "      <td>1138.0</td>\n",
       "      <td>8.3014</td>\n",
       "      <td>358500.0</td>\n",
       "      <td>NEAR BAY</td>\n",
       "    </tr>\n",
       "    <tr>\n",
       "      <th>2</th>\n",
       "      <td>-122.24</td>\n",
       "      <td>37.85</td>\n",
       "      <td>52.0</td>\n",
       "      <td>1467.0</td>\n",
       "      <td>190.0</td>\n",
       "      <td>496.0</td>\n",
       "      <td>177.0</td>\n",
       "      <td>7.2574</td>\n",
       "      <td>352100.0</td>\n",
       "      <td>NEAR BAY</td>\n",
       "    </tr>\n",
       "    <tr>\n",
       "      <th>3</th>\n",
       "      <td>-122.25</td>\n",
       "      <td>37.85</td>\n",
       "      <td>52.0</td>\n",
       "      <td>1274.0</td>\n",
       "      <td>235.0</td>\n",
       "      <td>558.0</td>\n",
       "      <td>219.0</td>\n",
       "      <td>5.6431</td>\n",
       "      <td>341300.0</td>\n",
       "      <td>NEAR BAY</td>\n",
       "    </tr>\n",
       "    <tr>\n",
       "      <th>4</th>\n",
       "      <td>-122.25</td>\n",
       "      <td>37.85</td>\n",
       "      <td>52.0</td>\n",
       "      <td>1627.0</td>\n",
       "      <td>280.0</td>\n",
       "      <td>565.0</td>\n",
       "      <td>259.0</td>\n",
       "      <td>3.8462</td>\n",
       "      <td>342200.0</td>\n",
       "      <td>NEAR BAY</td>\n",
       "    </tr>\n",
       "  </tbody>\n",
       "</table>\n",
       "</div>"
      ],
      "text/plain": [
       "   longitude  latitude  housing_median_age  total_rooms  total_bedrooms  \\\n",
       "0    -122.23     37.88                41.0        880.0           129.0   \n",
       "1    -122.22     37.86                21.0       7099.0          1106.0   \n",
       "2    -122.24     37.85                52.0       1467.0           190.0   \n",
       "3    -122.25     37.85                52.0       1274.0           235.0   \n",
       "4    -122.25     37.85                52.0       1627.0           280.0   \n",
       "\n",
       "   population  households  median_income  median_house_value ocean_proximity  \n",
       "0       322.0       126.0         8.3252            452600.0        NEAR BAY  \n",
       "1      2401.0      1138.0         8.3014            358500.0        NEAR BAY  \n",
       "2       496.0       177.0         7.2574            352100.0        NEAR BAY  \n",
       "3       558.0       219.0         5.6431            341300.0        NEAR BAY  \n",
       "4       565.0       259.0         3.8462            342200.0        NEAR BAY  "
      ]
     },
     "execution_count": 2,
     "metadata": {},
     "output_type": "execute_result"
    }
   ],
   "source": [
    "df = pd.read_csv(\"california_housing.csv\")\n",
    "df.head()"
   ]
  },
  {
   "cell_type": "markdown",
   "id": "172e3c51",
   "metadata": {},
   "source": [
    "## Data Exploration"
   ]
  },
  {
   "cell_type": "code",
   "execution_count": 3,
   "id": "24184d41",
   "metadata": {},
   "outputs": [
    {
     "data": {
      "text/plain": [
       "<AxesSubplot: >"
      ]
     },
     "execution_count": 3,
     "metadata": {},
     "output_type": "execute_result"
    },
    {
     "data": {
      "image/png": "[encoded data removed]",
      "text/plain": [
       "<Figure size 640x480 with 1 Axes>"
      ]
     },
     "metadata": {},
     "output_type": "display_data"
    }
   ],
   "source": [
    "df.isna().sum().plot.barh()"
   ]
  },
  {
   "cell_type": "code",
   "execution_count": 4,
   "id": "d9f2c1f4",
   "metadata": {},
   "outputs": [
    {
     "data": {
      "text/plain": [
       "count    20433.000000\n",
       "mean       537.870553\n",
       "std        421.385070\n",
       "min          1.000000\n",
       "25%        296.000000\n",
       "50%        435.000000\n",
       "75%        647.000000\n",
       "max       6445.000000\n",
       "Name: total_bedrooms, dtype: float64"
      ]
     },
     "execution_count": 4,
     "metadata": {},
     "output_type": "execute_result"
    }
   ],
   "source": [
    "df[\"total_bedrooms\"].describe()"
   ]
  },
  {
   "cell_type": "code",
   "execution_count": 5,
   "id": "c1e943ea",
   "metadata": {},
   "outputs": [
    {
     "data": {
      "text/plain": [
       "<AxesSubplot: >"
      ]
     },
     "execution_count": 5,
     "metadata": {},
     "output_type": "execute_result"
    },
    {
     "data": {
      "image/png": "[encoded data removed]",
      "text/plain": [
       "<Figure size 640x480 with 1 Axes>"
      ]
     },
     "metadata": {},
     "output_type": "display_data"
    }
   ],
   "source": [
    "df[\"total_bedrooms\"].plot.box()"
   ]
  },
  {
   "cell_type": "markdown",
   "id": "54a7168d",
   "metadata": {},
   "source": [
    "### Train / Test split"
   ]
  },
  {
   "cell_type": "code",
   "execution_count": 6,
   "id": "84a48c7e",
   "metadata": {},
   "outputs": [
    {
     "data": {
      "text/plain": [
       "4128"
      ]
     },
     "execution_count": 6,
     "metadata": {},
     "output_type": "execute_result"
    }
   ],
   "source": [
    "# find out the size of the test set\n",
    "df.shape[0] // 5  # 20%"
   ]
  },
  {
   "cell_type": "code",
   "execution_count": 7,
   "id": "76ab5899",
   "metadata": {},
   "outputs": [
    {
     "data": {
      "text/plain": [
       "[6446, 1869, 13618, 6102, 19764, 16589, 5091, 4156, 14362, 10826]"
      ]
     },
     "execution_count": 7,
     "metadata": {},
     "output_type": "execute_result"
    }
   ],
   "source": [
    "random.seed(777)  # initializes the random number generator\n",
    "indices = list(range(0, df.shape[0]))\n",
    "random.shuffle(indices)\n",
    "\n",
    "training_indices = indices[:-8256]\n",
    "validation_indices = indices[-8256:-4128]\n",
    "test_indices = indices[-4128:]\n",
    "\n",
    "training_indices[:10]"
   ]
  },
  {
   "cell_type": "code",
   "execution_count": 8,
   "id": "60891108",
   "metadata": {},
   "outputs": [],
   "source": [
    "df_train = df.iloc[training_indices].copy()  # use copies so that pandas does not spam me with warnings\n",
    "df_val = df.iloc[validation_indices].copy()\n",
    "df_test = df.iloc[test_indices].copy()"
   ]
  },
  {
   "cell_type": "code",
   "execution_count": 9,
   "id": "7e25514a",
   "metadata": {},
   "outputs": [],
   "source": [
    "# alternative: Scikit-learn\n",
    "from sklearn.model_selection import train_test_split\n",
    "\n",
    "df_trainval, df_test2 = train_test_split(df, test_size=0.2, random_state=777)\n",
    "df_train2, df_val2 = train_test_split(df_trainval, test_size=0.25)"
   ]
  },
  {
   "cell_type": "code",
   "execution_count": 10,
   "id": "22ef6350",
   "metadata": {},
   "outputs": [
    {
     "data": {
      "text/plain": [
       "((12384, 10), (4128, 10), (4128, 10))"
      ]
     },
     "execution_count": 10,
     "metadata": {},
     "output_type": "execute_result"
    }
   ],
   "source": [
    "df_train.shape, df_val.shape, df_test.shape  # column number must be the same!"
   ]
  },
  {
   "cell_type": "code",
   "execution_count": 11,
   "id": "1330e619",
   "metadata": {},
   "outputs": [
    {
     "data": {
      "text/plain": [
       "((12384, 10), (4128, 10), (4128, 10))"
      ]
     },
     "execution_count": 11,
     "metadata": {},
     "output_type": "execute_result"
    }
   ],
   "source": [
    "df_train2.shape, df_val2.shape, df_test2.shape  # same numbers"
   ]
  },
  {
   "cell_type": "markdown",
   "id": "8b4459fb",
   "metadata": {},
   "source": [
    "## Feature Engineering"
   ]
  },
  {
   "cell_type": "markdown",
   "id": "8cfb0ae3",
   "metadata": {},
   "source": [
    "**ground rule in scikit: call .fit() only for training data!**"
   ]
  },
  {
   "cell_type": "code",
   "execution_count": 12,
   "id": "e58d2e20",
   "metadata": {},
   "outputs": [],
   "source": [
    "# idea: try label encoding and one-hot encoding on ocean_prox and see which is better"
   ]
  },
  {
   "cell_type": "markdown",
   "id": "f7f07890",
   "metadata": {},
   "source": [
    "### Transform the categorical values in ocean_proximity"
   ]
  },
  {
   "cell_type": "code",
   "execution_count": 13,
   "id": "f53aab25",
   "metadata": {},
   "outputs": [],
   "source": [
    "from sklearn.preprocessing import LabelEncoder"
   ]
  },
  {
   "cell_type": "code",
   "execution_count": 14,
   "id": "d2bb0049",
   "metadata": {},
   "outputs": [],
   "source": [
    "# creates one new column\n",
    "encoder = LabelEncoder()  # initialize.. boring\n",
    "encoder.fit(df_train[\"ocean_proximity\"])        # see what unique values occur in the column (ONLY FOR train!!!)\n",
    "df_train[\"ocean_label\"] = encoder.transform(df_train[\"ocean_proximity\"])  # translate the values to 0..n\n",
    "df_val[\"ocean_label\"] = encoder.transform(df_val[\"ocean_proximity\"])\n",
    "df_test[\"ocean_label\"] = encoder.transform(df_test[\"ocean_proximity\"])"
   ]
  },
  {
   "cell_type": "markdown",
   "id": "9c008bc3",
   "metadata": {},
   "source": [
    "#### Try one-hot encoding"
   ]
  },
  {
   "cell_type": "code",
   "execution_count": 15,
   "id": "5158959a",
   "metadata": {},
   "outputs": [],
   "source": [
    "from sklearn.preprocessing import OneHotEncoder\n",
    "from sklearn.compose import ColumnTransformer"
   ]
  },
  {
   "cell_type": "markdown",
   "id": "bc645add",
   "metadata": {},
   "source": [
    "### Fix missing values in total_bedrooms"
   ]
  },
  {
   "cell_type": "code",
   "execution_count": 16,
   "id": "aae104fa",
   "metadata": {},
   "outputs": [],
   "source": [
    "median = df_train[\"total_bedrooms\"].median()\n",
    "df_train[\"total_bedrooms\"].fillna(median, inplace=True)\n",
    "df_val[\"total_bedrooms\"].fillna(median, inplace=True)\n",
    "df_test[\"total_bedrooms\"].fillna(median, inplace=True)"
   ]
  },
  {
   "cell_type": "markdown",
   "id": "a3e0344e",
   "metadata": {},
   "source": [
    "### Identify X and y"
   ]
  },
  {
   "cell_type": "code",
   "execution_count": 17,
   "id": "232dd405",
   "metadata": {},
   "outputs": [],
   "source": [
    "# separate the target variable y (dependent variable): the thing we want to predict\n",
    "y_train = df_train[\"median_house_value\"]\n",
    "y_val = df_val[\"median_house_value\"]\n",
    "y_test = df_test[\"median_house_value\"]"
   ]
  },
  {
   "cell_type": "code",
   "execution_count": 18,
   "id": "29829ec7",
   "metadata": {},
   "outputs": [],
   "source": [
    "# df_train.columns"
   ]
  },
  {
   "cell_type": "code",
   "execution_count": 47,
   "id": "048fc538",
   "metadata": {},
   "outputs": [],
   "source": [
    "# separate the predictor features X (independent variables): the things we use for predicting\n",
    "columns = ['longitude', 'latitude', 'housing_median_age', 'total_rooms',\n",
    "           'total_bedrooms', 'population', 'households', 'median_income',\n",
    "           'ocean_proximity',\n",
    "           # 'ocean_label'\n",
    "          ]\n",
    "X_train = df_train[columns]\n",
    "X_val = df_val[columns]\n",
    "X_test = df_test[columns]"
   ]
  },
  {
   "cell_type": "markdown",
   "id": "dddd45ed",
   "metadata": {},
   "source": [
    "### One Hot Encoding + Binning of coordinates"
   ]
  },
  {
   "cell_type": "code",
   "execution_count": 48,
   "id": "302fd596",
   "metadata": {},
   "outputs": [],
   "source": [
    "from sklearn.preprocessing import KBinsDiscretizer"
   ]
  },
  {
   "cell_type": "code",
   "execution_count": 49,
   "id": "73bd0af1",
   "metadata": {},
   "outputs": [],
   "source": [
    "# creates five new columns\n",
    "ct = ColumnTransformer(\n",
    "    transformers=[\n",
    "        ('encoder', OneHotEncoder(sparse_output=False), [\"ocean_proximity\"]), # use OHEnc for the ocean_proximity column\n",
    "        #('binning', KBinsDiscretizer(n_bins=10), [\"longitude\", \"latitude\", \"population\", \"total_bedrooms\"]),\n",
    "    ],  \n",
    "    remainder='passthrough'                            # do nothing to the other columns\n",
    ")\n",
    "ct.fit(X_train)\n",
    "X_train = ct.transform(X_train)\n",
    "X_val = ct.transform(X_val)\n",
    "X_test = ct.transform(X_test)"
   ]
  },
  {
   "cell_type": "code",
   "execution_count": 50,
   "id": "38d48edf",
   "metadata": {},
   "outputs": [
    {
     "data": {
      "text/plain": [
       "((12384, 13), (4128, 13), (4128, 13))"
      ]
     },
     "execution_count": 50,
     "metadata": {},
     "output_type": "execute_result"
    }
   ],
   "source": [
    "X_train.shape, X_val.shape, X_test.shape"
   ]
  },
  {
   "cell_type": "code",
   "execution_count": 51,
   "id": "3269b81e",
   "metadata": {},
   "outputs": [
    {
     "data": {
      "text/plain": [
       "((12384,), (4128,), (4128,))"
      ]
     },
     "execution_count": 51,
     "metadata": {},
     "output_type": "execute_result"
    }
   ],
   "source": [
    "y_train.shape, y_val.shape, y_test.shape"
   ]
  },
  {
   "cell_type": "markdown",
   "id": "0d9cb7ff",
   "metadata": {},
   "source": [
    "## The Model"
   ]
  },
  {
   "cell_type": "code",
   "execution_count": 52,
   "id": "22f2e262",
   "metadata": {},
   "outputs": [],
   "source": [
    "from sklearn.linear_model import LinearRegression\n",
    "from sklearn.neighbors import KNeighborsRegressor"
   ]
  },
  {
   "cell_type": "code",
   "execution_count": 53,
   "id": "d944e814",
   "metadata": {},
   "outputs": [
    {
     "data": {
      "text/html": [
       "<style>#sk-container-id-3 {color: black;background-color: white;}#sk-container-id-3 pre{padding: 0;}#sk-container-id-3 div.sk-toggleable {background-color: white;}#sk-container-id-3 label.sk-toggleable__label {cursor: pointer;display: block;width: 100%;margin-bottom: 0;padding: 0.3em;box-sizing: border-box;text-align: center;}#sk-container-id-3 label.sk-toggleable__label-arrow:before {content: \"▸\";float: left;margin-right: 0.25em;color: #696969;}#sk-container-id-3 label.sk-toggleable__label-arrow:hover:before {color: black;}#sk-container-id-3 div.sk-estimator:hover label.sk-toggleable__label-arrow:before {color: black;}#sk-container-id-3 div.sk-toggleable__content {max-height: 0;max-width: 0;overflow: hidden;text-align: left;background-color: #f0f8ff;}#sk-container-id-3 div.sk-toggleable__content pre {margin: 0.2em;color: black;border-radius: 0.25em;background-color: #f0f8ff;}#sk-container-id-3 input.sk-toggleable__control:checked~div.sk-toggleable__content {max-height: 200px;max-width: 100%;overflow: auto;}#sk-container-id-3 input.sk-toggleable__control:checked~label.sk-toggleable__label-arrow:before {content: \"▾\";}#sk-container-id-3 div.sk-estimator input.sk-toggleable__control:checked~label.sk-toggleable__label {background-color: #d4ebff;}#sk-container-id-3 div.sk-label input.sk-toggleable__control:checked~label.sk-toggleable__label {background-color: #d4ebff;}#sk-container-id-3 input.sk-hidden--visually {border: 0;clip: rect(1px 1px 1px 1px);clip: rect(1px, 1px, 1px, 1px);height: 1px;margin: -1px;overflow: hidden;padding: 0;position: absolute;width: 1px;}#sk-container-id-3 div.sk-estimator {font-family: monospace;background-color: #f0f8ff;border: 1px dotted black;border-radius: 0.25em;box-sizing: border-box;margin-bottom: 0.5em;}#sk-container-id-3 div.sk-estimator:hover {background-color: #d4ebff;}#sk-container-id-3 div.sk-parallel-item::after {content: \"\";width: 100%;border-bottom: 1px solid gray;flex-grow: 1;}#sk-container-id-3 div.sk-label:hover label.sk-toggleable__label {background-color: #d4ebff;}#sk-container-id-3 div.sk-serial::before {content: \"\";position: absolute;border-left: 1px solid gray;box-sizing: border-box;top: 0;bottom: 0;left: 50%;z-index: 0;}#sk-container-id-3 div.sk-serial {display: flex;flex-direction: column;align-items: center;background-color: white;padding-right: 0.2em;padding-left: 0.2em;position: relative;}#sk-container-id-3 div.sk-item {position: relative;z-index: 1;}#sk-container-id-3 div.sk-parallel {display: flex;align-items: stretch;justify-content: center;background-color: white;position: relative;}#sk-container-id-3 div.sk-item::before, #sk-container-id-3 div.sk-parallel-item::before {content: \"\";position: absolute;border-left: 1px solid gray;box-sizing: border-box;top: 0;bottom: 0;left: 50%;z-index: -1;}#sk-container-id-3 div.sk-parallel-item {display: flex;flex-direction: column;z-index: 1;position: relative;background-color: white;}#sk-container-id-3 div.sk-parallel-item:first-child::after {align-self: flex-end;width: 50%;}#sk-container-id-3 div.sk-parallel-item:last-child::after {align-self: flex-start;width: 50%;}#sk-container-id-3 div.sk-parallel-item:only-child::after {width: 0;}#sk-container-id-3 div.sk-dashed-wrapped {border: 1px dashed gray;margin: 0 0.4em 0.5em 0.4em;box-sizing: border-box;padding-bottom: 0.4em;background-color: white;}#sk-container-id-3 div.sk-label label {font-family: monospace;font-weight: bold;display: inline-block;line-height: 1.2em;}#sk-container-id-3 div.sk-label-container {text-align: center;}#sk-container-id-3 div.sk-container {/* jupyter's `normalize.less` sets `[hidden] { display: none; }` but bootstrap.min.css set `[hidden] { display: none !important; }` so we also need the `!important` here to be able to override the default hidden behavior on the sphinx rendered scikit-learn.org. See: https://github.com/scikit-learn/scikit-learn/issues/21755 */display: inline-block !important;position: relative;}#sk-container-id-3 div.sk-text-repr-fallback {display: none;}</style><div id=\"sk-container-id-3\" class=\"sk-top-container\"><div class=\"sk-text-repr-fallback\"><pre>LinearRegression()</pre><b>In a Jupyter environment, please rerun this cell to show the HTML representation or trust the notebook. <br />On GitHub, the HTML representation is unable to render, please try loading this page with nbviewer.org.</b></div><div class=\"sk-container\" hidden><div class=\"sk-item\"><div class=\"sk-estimator sk-toggleable\"><input class=\"sk-toggleable__control sk-hidden--visually\" id=\"sk-estimator-id-3\" type=\"checkbox\" checked><label for=\"sk-estimator-id-3\" class=\"sk-toggleable__label sk-toggleable__label-arrow\">LinearRegression</label><div class=\"sk-toggleable__content\"><pre>LinearRegression()</pre></div></div></div></div></div>"
      ],
      "text/plain": [
       "LinearRegression()"
      ]
     },
     "execution_count": 53,
     "metadata": {},
     "output_type": "execute_result"
    }
   ],
   "source": [
    "m = LinearRegression(fit_intercept=True)  # 1. initialize the model (set hyperparameters)\n",
    "# m = KNeighborsRegressor(n_neighbors=5)\n",
    "m.fit(X_train, y_train)                   # 2. fit the model with training data (NEVER validation or test data!)"
   ]
  },
  {
   "cell_type": "code",
   "execution_count": 54,
   "id": "36fc36a0",
   "metadata": {},
   "outputs": [
    {
     "data": {
      "text/plain": [
       "array([302156.09276226,  28009.30157762, 106545.68865008, ...,\n",
       "       236716.12247609, 163519.70490043, 108354.64385679])"
      ]
     },
     "execution_count": 54,
     "metadata": {},
     "output_type": "execute_result"
    }
   ],
   "source": [
    "y_pred = m.predict(X_train)\n",
    "y_pred"
   ]
  },
  {
   "cell_type": "code",
   "execution_count": 55,
   "id": "a7b3f8c5",
   "metadata": {},
   "outputs": [],
   "source": [
    "from sklearn.metrics import (\n",
    "    mean_squared_error,\n",
    "    mean_absolute_error,\n",
    ")"
   ]
  },
  {
   "cell_type": "code",
   "execution_count": 56,
   "id": "2873aa3b",
   "metadata": {},
   "outputs": [
    {
     "data": {
      "text/plain": [
       "4713416492.241685"
      ]
     },
     "execution_count": 56,
     "metadata": {},
     "output_type": "execute_result"
    }
   ],
   "source": [
    "mean_squared_error(y_train, y_pred)  # MSE has no unit"
   ]
  },
  {
   "cell_type": "code",
   "execution_count": 57,
   "id": "3fc691cc",
   "metadata": {},
   "outputs": [
    {
     "data": {
      "text/plain": [
       "4924307792.059996"
      ]
     },
     "execution_count": 57,
     "metadata": {},
     "output_type": "execute_result"
    }
   ],
   "source": [
    "y_pred_val = m.predict(X_val)\n",
    "mean_squared_error(y_val, y_pred_val)"
   ]
  },
  {
   "cell_type": "markdown",
   "id": "bd11fb6f",
   "metadata": {},
   "source": [
    "### Cross-Validation\n",
    "\n",
    "repeat the model training with different portions of the data as validation sets to examine the robustness of our model.\n",
    "\n",
    "Result: 5 models with 5 scores"
   ]
  },
  {
   "cell_type": "code",
   "execution_count": 58,
   "id": "3b9ec24f",
   "metadata": {},
   "outputs": [],
   "source": [
    "from sklearn.model_selection import cross_val_score"
   ]
  },
  {
   "cell_type": "code",
   "execution_count": 59,
   "id": "ea2ffff7",
   "metadata": {},
   "outputs": [
    {
     "data": {
      "text/plain": [
       "array([0.62446536, 0.65293498, 0.65185511, 0.63588015, 0.65284402])"
      ]
     },
     "execution_count": 59,
     "metadata": {},
     "output_type": "execute_result"
    }
   ],
   "source": [
    "cross_val_score(\n",
    "    m,            # the model\n",
    "    X = X_train,\n",
    "    y = y_train,\n",
    "    cv = 5,       # the number of splits (validation subsets)\n",
    "    # scoring=mean_squared_error, # have to look this up\n",
    ")"
   ]
  },
  {
   "cell_type": "markdown",
   "id": "6f26c33f",
   "metadata": {},
   "source": [
    "Result are R^2 values, not MSE at the moment. \n",
    "\n",
    "We want that these numbers are close to each other."
   ]
  },
  {
   "cell_type": "markdown",
   "id": "ed114310",
   "metadata": {},
   "source": [
    "#### Why 5 portions, not 10 or 100?\n",
    "\n",
    "* statistics: with high numbers, the valiation set becomes very small\n",
    "* performance: it takes longer to train 100 models than 5"
   ]
  },
  {
   "cell_type": "markdown",
   "id": "af3ae051",
   "metadata": {},
   "source": [
    "### MAE (Mean Absolute Error)\n",
    "\n",
    "advantage: unit is the same as in the target column y\n",
    "\n",
    "$$mae = \\frac{1}{n} \\sum | y_i - y_{true} |$$"
   ]
  },
  {
   "cell_type": "code",
   "execution_count": 60,
   "id": "6a75e39c",
   "metadata": {},
   "outputs": [
    {
     "data": {
      "text/plain": [
       "50014.4"
      ]
     },
     "execution_count": 60,
     "metadata": {},
     "output_type": "execute_result"
    }
   ],
   "source": [
    "round(mean_absolute_error(y_train, y_pred), 1)  # USD"
   ]
  },
  {
   "cell_type": "code",
   "execution_count": 61,
   "id": "837245e3",
   "metadata": {},
   "outputs": [
    {
     "data": {
      "text/plain": [
       "50247.8"
      ]
     },
     "execution_count": 61,
     "metadata": {},
     "output_type": "execute_result"
    }
   ],
   "source": [
    "round(mean_absolute_error(y_val, y_pred_val), 1)  # USD"
   ]
  },
  {
   "cell_type": "markdown",
   "id": "7ec4c8e4",
   "metadata": {},
   "source": [
    "## Overfitting"
   ]
  },
  {
   "cell_type": "markdown",
   "id": "427c851d",
   "metadata": {},
   "source": [
    "if your model has too much information, it will start learning the training data by heart.\n",
    "Result: \n",
    "    \n",
    "* good performance for training data\n",
    "* bad performance for validation / test data\n",
    "\n",
    "**ideally, your training and validation scores should be the same**"
   ]
  },
  {
   "cell_type": "markdown",
   "id": "55abe72a",
   "metadata": {},
   "source": [
    "## Calculate Test Score"
   ]
  },
  {
   "cell_type": "code",
   "execution_count": 62,
   "id": "540f2f72",
   "metadata": {},
   "outputs": [],
   "source": [
    "y_pred_test = m.predict(X_test)"
   ]
  },
  {
   "cell_type": "code",
   "execution_count": 63,
   "id": "78249159",
   "metadata": {},
   "outputs": [
    {
     "data": {
      "text/plain": [
       "4569220731.211587"
      ]
     },
     "execution_count": 63,
     "metadata": {},
     "output_type": "execute_result"
    }
   ],
   "source": [
    "mean_squared_error(y_test, y_pred_test)"
   ]
  },
  {
   "cell_type": "code",
   "execution_count": 64,
   "id": "f806f3e9",
   "metadata": {},
   "outputs": [
    {
     "data": {
      "text/plain": [
       "48996.87781980243"
      ]
     },
     "execution_count": 64,
     "metadata": {},
     "output_type": "execute_result"
    }
   ],
   "source": [
    "mean_absolute_error(y_test, y_pred_test)"
   ]
  },
  {
   "cell_type": "markdown",
   "id": "edf0ab88",
   "metadata": {},
   "source": [
    "### Checking model parameters"
   ]
  },
  {
   "cell_type": "code",
   "execution_count": 66,
   "id": "2f993cb8",
   "metadata": {},
   "outputs": [
    {
     "data": {
      "text/plain": [
       "array([-3.45467971e+04, -7.70624637e+04,  1.85963349e+05, -4.35392829e+04,\n",
       "       -3.08148054e+04, -2.54988853e+04, -2.38627961e+04,  1.16816710e+03,\n",
       "       -4.96010066e+00,  6.98615944e+01, -3.73382578e+01,  7.81128743e+01,\n",
       "        3.91210655e+04])"
      ]
     },
     "execution_count": 66,
     "metadata": {},
     "output_type": "execute_result"
    }
   ],
   "source": [
    "# we want to see our slope(s) and intercept\n",
    "m.coef_  # slopes"
   ]
  },
  {
   "cell_type": "code",
   "execution_count": 67,
   "id": "cf3f667b",
   "metadata": {},
   "outputs": [
    {
     "data": {
      "text/plain": [
       "-2138458.5866370546"
      ]
     },
     "execution_count": 67,
     "metadata": {},
     "output_type": "execute_result"
    }
   ],
   "source": [
    "m.intercept_"
   ]
  },
  {
   "cell_type": "code",
   "execution_count": 71,
   "id": "4eaa402c",
   "metadata": {},
   "outputs": [
    {
     "data": {
      "text/plain": [
       "8"
      ]
     },
     "execution_count": 71,
     "metadata": {},
     "output_type": "execute_result"
    }
   ],
   "source": [
    "labels = [\n",
    "    'longitude', 'latitude', 'housing_median_age', 'total_rooms',\n",
    "    'total_bedrooms', 'population', 'households', 'median_income',\n",
    "]           \n",
    "len(labels)"
   ]
  },
  {
   "cell_type": "code",
   "execution_count": 74,
   "id": "0e94bc9d",
   "metadata": {},
   "outputs": [
    {
     "data": {
      "text/plain": [
       "<AxesSubplot: >"
      ]
     },
     "execution_count": 74,
     "metadata": {},
     "output_type": "execute_result"
    },
    {
     "data": {
      "image/png": "[encoded data removed]",
      "text/plain": [
       "<Figure size 640x480 with 1 Axes>"
      ]
     },
     "metadata": {},
     "output_type": "display_data"
    }
   ],
   "source": [
    "# first 5 columns are for ocean_proximity, ignore\n",
    "slopes = pd.Series(m.coef_[5:], index=labels)\n",
    "slopes.plot.barh()"
   ]
  },
  {
   "cell_type": "code",
   "execution_count": 76,
   "id": "6c049b62",
   "metadata": {},
   "outputs": [
    {
     "data": {
      "text/plain": [
       "longitude            -25498.885289\n",
       "latitude             -23862.796069\n",
       "housing_median_age     1168.167103\n",
       "total_rooms              -4.960101\n",
       "total_bedrooms           69.861594\n",
       "population              -37.338258\n",
       "households               78.112874\n",
       "median_income         39121.065451\n",
       "dtype: float64"
      ]
     },
     "execution_count": 76,
     "metadata": {},
     "output_type": "execute_result"
    }
   ],
   "source": [
    "slopes"
   ]
  },
  {
   "cell_type": "markdown",
   "id": "4c313d75",
   "metadata": {},
   "source": [
    "* median income has a positive impact on y (the house price)\n",
    "* one unit of median income (1-10) means +40000 USD on the price\n",
    "* one unit of latitude (1 degree to north) means -22000 USD cheaper"
   ]
  },
  {
   "cell_type": "code",
   "execution_count": 75,
   "id": "9e18647b",
   "metadata": {},
   "outputs": [
    {
     "data": {
      "text/html": [
       "<div>\n",
       "<style scoped>\n",
       "    .dataframe tbody tr th:only-of-type {\n",
       "        vertical-align: middle;\n",
       "    }\n",
       "\n",
       "    .dataframe tbody tr th {\n",
       "        vertical-align: top;\n",
       "    }\n",
       "\n",
       "    .dataframe thead th {\n",
       "        text-align: right;\n",
       "    }\n",
       "</style>\n",
       "<table border=\"1\" class=\"dataframe\">\n",
       "  <thead>\n",
       "    <tr style=\"text-align: right;\">\n",
       "      <th></th>\n",
       "      <th>longitude</th>\n",
       "      <th>latitude</th>\n",
       "      <th>housing_median_age</th>\n",
       "      <th>total_rooms</th>\n",
       "      <th>total_bedrooms</th>\n",
       "      <th>population</th>\n",
       "      <th>households</th>\n",
       "      <th>median_income</th>\n",
       "      <th>median_house_value</th>\n",
       "      <th>ocean_proximity</th>\n",
       "    </tr>\n",
       "  </thead>\n",
       "  <tbody>\n",
       "    <tr>\n",
       "      <th>0</th>\n",
       "      <td>-122.23</td>\n",
       "      <td>37.88</td>\n",
       "      <td>41.0</td>\n",
       "      <td>880.0</td>\n",
       "      <td>129.0</td>\n",
       "      <td>322.0</td>\n",
       "      <td>126.0</td>\n",
       "      <td>8.3252</td>\n",
       "      <td>452600.0</td>\n",
       "      <td>NEAR BAY</td>\n",
       "    </tr>\n",
       "    <tr>\n",
       "      <th>1</th>\n",
       "      <td>-122.22</td>\n",
       "      <td>37.86</td>\n",
       "      <td>21.0</td>\n",
       "      <td>7099.0</td>\n",
       "      <td>1106.0</td>\n",
       "      <td>2401.0</td>\n",
       "      <td>1138.0</td>\n",
       "      <td>8.3014</td>\n",
       "      <td>358500.0</td>\n",
       "      <td>NEAR BAY</td>\n",
       "    </tr>\n",
       "    <tr>\n",
       "      <th>2</th>\n",
       "      <td>-122.24</td>\n",
       "      <td>37.85</td>\n",
       "      <td>52.0</td>\n",
       "      <td>1467.0</td>\n",
       "      <td>190.0</td>\n",
       "      <td>496.0</td>\n",
       "      <td>177.0</td>\n",
       "      <td>7.2574</td>\n",
       "      <td>352100.0</td>\n",
       "      <td>NEAR BAY</td>\n",
       "    </tr>\n",
       "  </tbody>\n",
       "</table>\n",
       "</div>"
      ],
      "text/plain": [
       "   longitude  latitude  housing_median_age  total_rooms  total_bedrooms  \\\n",
       "0    -122.23     37.88                41.0        880.0           129.0   \n",
       "1    -122.22     37.86                21.0       7099.0          1106.0   \n",
       "2    -122.24     37.85                52.0       1467.0           190.0   \n",
       "\n",
       "   population  households  median_income  median_house_value ocean_proximity  \n",
       "0       322.0       126.0         8.3252            452600.0        NEAR BAY  \n",
       "1      2401.0      1138.0         8.3014            358500.0        NEAR BAY  \n",
       "2       496.0       177.0         7.2574            352100.0        NEAR BAY  "
      ]
     },
     "execution_count": 75,
     "metadata": {},
     "output_type": "execute_result"
    }
   ],
   "source": [
    "df.head(3)"
   ]
  },
  {
   "cell_type": "markdown",
   "id": "6e87fa54",
   "metadata": {},
   "source": [
    "### Inspect Residuals"
   ]
  },
  {
   "cell_type": "markdown",
   "id": "7ecf6e1f",
   "metadata": {},
   "source": [
    "MSE and MAE are *averages*. I want to know how my errors are actually distributed."
   ]
  },
  {
   "cell_type": "code",
   "execution_count": 78,
   "id": "d4f63a6d",
   "metadata": {},
   "outputs": [
    {
     "data": {
      "text/plain": [
       "array([-56261.40149077, 177781.87964984, 141322.10795511, ...,\n",
       "        41499.90297853,   7340.92040699,   8910.85153647])"
      ]
     },
     "execution_count": 78,
     "metadata": {},
     "output_type": "execute_result"
    }
   ],
   "source": [
    "# residuals: error per data point\n",
    "residuals = y_val - y_pred_val\n",
    "residuals.values"
   ]
  },
  {
   "cell_type": "code",
   "execution_count": 80,
   "id": "907adc68",
   "metadata": {},
   "outputs": [],
   "source": [
    "import seaborn as sns"
   ]
  },
  {
   "cell_type": "code",
   "execution_count": 81,
   "id": "09e1e2d1",
   "metadata": {},
   "outputs": [
    {
     "data": {
      "text/plain": [
       "<AxesSubplot: xlabel='median_house_value', ylabel='Count'>"
      ]
     },
     "execution_count": 81,
     "metadata": {},
     "output_type": "execute_result"
    },
    {
     "data": {
      "image/png": "[encoded data removed]",
      "text/plain": [
       "<Figure size 640x480 with 1 Axes>"
      ]
     },
     "metadata": {},
     "output_type": "display_data"
    }
   ],
   "source": [
    "sns.histplot(data=residuals)"
   ]
  },
  {
   "cell_type": "markdown",
   "id": "b4138005",
   "metadata": {},
   "source": [
    "ideally, residuals are normally distributed (bell-shaped curve) with a mean around zero"
   ]
  },
  {
   "cell_type": "markdown",
   "id": "ae8efd34",
   "metadata": {},
   "source": [
    "### Assumptions: checking residuals in more detail\n",
    "\n",
    "**Gauss-Markov Theorem:**\n",
    "\n",
    "1. mean of the residuals is zero"
   ]
  },
  {
   "cell_type": "code",
   "execution_count": 84,
   "id": "7592150d",
   "metadata": {},
   "outputs": [
    {
     "data": {
      "text/plain": [
       "128.30669712049902"
      ]
     },
     "execution_count": 84,
     "metadata": {},
     "output_type": "execute_result"
    }
   ],
   "source": [
    "residuals.mean()  # assumption #1 is met"
   ]
  },
  {
   "cell_type": "markdown",
   "id": "cdcfb5e1",
   "metadata": {},
   "source": [
    "2. residuals are independent of X"
   ]
  },
  {
   "cell_type": "markdown",
   "id": "2fa8bce0",
   "metadata": {},
   "source": [
    "ideally, the residuals are random. They should not be correlated with our data"
   ]
  },
  {
   "cell_type": "markdown",
   "id": "02b3a782",
   "metadata": {},
   "source": [
    "3. variance of the residuals is independent of X"
   ]
  },
  {
   "cell_type": "markdown",
   "id": "f26e3022",
   "metadata": {},
   "source": [
    "**if you can verify all three assumptions, then the mean squared error is guaranteed to give you the best model in Gradient Descent.**"
   ]
  },
  {
   "cell_type": "code",
   "execution_count": 89,
   "id": "a381f55f",
   "metadata": {},
   "outputs": [],
   "source": [
    "df_val['residual'] = residuals"
   ]
  },
  {
   "cell_type": "code",
   "execution_count": 94,
   "id": "59c537aa",
   "metadata": {},
   "outputs": [
    {
     "data": {
      "text/plain": [
       "<AxesSubplot: >"
      ]
     },
     "execution_count": 94,
     "metadata": {},
     "output_type": "execute_result"
    },
    {
     "data": {
      "image/png": "[encoded data removed]",
      "text/plain": [
       "<Figure size 640x480 with 2 Axes>"
      ]
     },
     "metadata": {},
     "output_type": "display_data"
    }
   ],
   "source": [
    "sns.heatmap(df_val.corr(numeric_only=True).abs())"
   ]
  },
  {
   "cell_type": "code",
   "execution_count": null,
   "id": "b799c3e9",
   "metadata": {},
   "outputs": [],
   "source": []
  }
 ],
 "metadata": {
  "kernelspec": {
   "display_name": "Python 3",
   "language": "python",
   "name": "python3"
  },
  "language_info": {
   "codemirror_mode": {
    "name": "ipython",
    "version": 3
   },
   "file_extension": ".py",
   "mimetype": "text/x-python",
   "name": "python",
   "nbconvert_exporter": "python",
   "pygments_lexer": "ipython3",
   "version": "3.9.12"
  }
 },
 "nbformat": 4,
 "nbformat_minor": 5
}
