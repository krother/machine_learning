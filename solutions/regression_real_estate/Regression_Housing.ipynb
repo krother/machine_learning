{
 "cells": [
  {
   "cell_type": "markdown",
   "id": "001762ec",
   "metadata": {},
   "source": [
    "# Regression: California Housing"
   ]
  },
  {
   "cell_type": "markdown",
   "id": "5477bfb0",
   "metadata": {},
   "source": [
    "## Business Goal:\n",
    "**Produce estimates of house prices so that real estate agents can use that to make pricing decisions faster and more consistently.**"
   ]
  },
  {
   "cell_type": "code",
   "execution_count": 96,
   "id": "e6c82285",
   "metadata": {},
   "outputs": [],
   "source": [
    "import random\n",
    "\n",
    "import pandas as pd\n",
    "from sklearn.model_selection import train_test_split"
   ]
  },
  {
   "cell_type": "code",
   "execution_count": 97,
   "id": "1c8666ca",
   "metadata": {},
   "outputs": [
    {
     "data": {
      "text/html": [
       "<div>\n",
       "<style scoped>\n",
       "    .dataframe tbody tr th:only-of-type {\n",
       "        vertical-align: middle;\n",
       "    }\n",
       "\n",
       "    .dataframe tbody tr th {\n",
       "        vertical-align: top;\n",
       "    }\n",
       "\n",
       "    .dataframe thead th {\n",
       "        text-align: right;\n",
       "    }\n",
       "</style>\n",
       "<table border=\"1\" class=\"dataframe\">\n",
       "  <thead>\n",
       "    <tr style=\"text-align: right;\">\n",
       "      <th></th>\n",
       "      <th>longitude</th>\n",
       "      <th>latitude</th>\n",
       "      <th>housing_median_age</th>\n",
       "      <th>total_rooms</th>\n",
       "      <th>total_bedrooms</th>\n",
       "      <th>population</th>\n",
       "      <th>households</th>\n",
       "      <th>median_income</th>\n",
       "      <th>median_house_value</th>\n",
       "      <th>ocean_proximity</th>\n",
       "    </tr>\n",
       "  </thead>\n",
       "  <tbody>\n",
       "    <tr>\n",
       "      <th>0</th>\n",
       "      <td>-122.23</td>\n",
       "      <td>37.88</td>\n",
       "      <td>41.0</td>\n",
       "      <td>880.0</td>\n",
       "      <td>129.0</td>\n",
       "      <td>322.0</td>\n",
       "      <td>126.0</td>\n",
       "      <td>8.3252</td>\n",
       "      <td>452600.0</td>\n",
       "      <td>NEAR BAY</td>\n",
       "    </tr>\n",
       "    <tr>\n",
       "      <th>1</th>\n",
       "      <td>-122.22</td>\n",
       "      <td>37.86</td>\n",
       "      <td>21.0</td>\n",
       "      <td>7099.0</td>\n",
       "      <td>1106.0</td>\n",
       "      <td>2401.0</td>\n",
       "      <td>1138.0</td>\n",
       "      <td>8.3014</td>\n",
       "      <td>358500.0</td>\n",
       "      <td>NEAR BAY</td>\n",
       "    </tr>\n",
       "    <tr>\n",
       "      <th>2</th>\n",
       "      <td>-122.24</td>\n",
       "      <td>37.85</td>\n",
       "      <td>52.0</td>\n",
       "      <td>1467.0</td>\n",
       "      <td>190.0</td>\n",
       "      <td>496.0</td>\n",
       "      <td>177.0</td>\n",
       "      <td>7.2574</td>\n",
       "      <td>352100.0</td>\n",
       "      <td>NEAR BAY</td>\n",
       "    </tr>\n",
       "    <tr>\n",
       "      <th>3</th>\n",
       "      <td>-122.25</td>\n",
       "      <td>37.85</td>\n",
       "      <td>52.0</td>\n",
       "      <td>1274.0</td>\n",
       "      <td>235.0</td>\n",
       "      <td>558.0</td>\n",
       "      <td>219.0</td>\n",
       "      <td>5.6431</td>\n",
       "      <td>341300.0</td>\n",
       "      <td>NEAR BAY</td>\n",
       "    </tr>\n",
       "    <tr>\n",
       "      <th>4</th>\n",
       "      <td>-122.25</td>\n",
       "      <td>37.85</td>\n",
       "      <td>52.0</td>\n",
       "      <td>1627.0</td>\n",
       "      <td>280.0</td>\n",
       "      <td>565.0</td>\n",
       "      <td>259.0</td>\n",
       "      <td>3.8462</td>\n",
       "      <td>342200.0</td>\n",
       "      <td>NEAR BAY</td>\n",
       "    </tr>\n",
       "  </tbody>\n",
       "</table>\n",
       "</div>"
      ],
      "text/plain": [
       "   longitude  latitude  housing_median_age  total_rooms  total_bedrooms  \\\n",
       "0    -122.23     37.88                41.0        880.0           129.0   \n",
       "1    -122.22     37.86                21.0       7099.0          1106.0   \n",
       "2    -122.24     37.85                52.0       1467.0           190.0   \n",
       "3    -122.25     37.85                52.0       1274.0           235.0   \n",
       "4    -122.25     37.85                52.0       1627.0           280.0   \n",
       "\n",
       "   population  households  median_income  median_house_value ocean_proximity  \n",
       "0       322.0       126.0         8.3252            452600.0        NEAR BAY  \n",
       "1      2401.0      1138.0         8.3014            358500.0        NEAR BAY  \n",
       "2       496.0       177.0         7.2574            352100.0        NEAR BAY  \n",
       "3       558.0       219.0         5.6431            341300.0        NEAR BAY  \n",
       "4       565.0       259.0         3.8462            342200.0        NEAR BAY  "
      ]
     },
     "execution_count": 97,
     "metadata": {},
     "output_type": "execute_result"
    }
   ],
   "source": [
    "df = pd.read_csv(\"california_housing.csv\")\n",
    "df.head()"
   ]
  },
  {
   "cell_type": "markdown",
   "id": "172e3c51",
   "metadata": {},
   "source": [
    "## Data Exploration"
   ]
  },
  {
   "cell_type": "code",
   "execution_count": 98,
   "id": "24184d41",
   "metadata": {},
   "outputs": [
    {
     "data": {
      "text/plain": [
       "<AxesSubplot: >"
      ]
     },
     "execution_count": 98,
     "metadata": {},
     "output_type": "execute_result"
    },
    {
     "data": {
      "image/png": "[encoded data removed]",
      "text/plain": [
       "<Figure size 640x480 with 1 Axes>"
      ]
     },
     "metadata": {},
     "output_type": "display_data"
    }
   ],
   "source": [
    "df.isna().sum().plot.barh()"
   ]
  },
  {
   "cell_type": "code",
   "execution_count": 99,
   "id": "d9f2c1f4",
   "metadata": {},
   "outputs": [
    {
     "data": {
      "text/plain": [
       "count    20433.000000\n",
       "mean       537.870553\n",
       "std        421.385070\n",
       "min          1.000000\n",
       "25%        296.000000\n",
       "50%        435.000000\n",
       "75%        647.000000\n",
       "max       6445.000000\n",
       "Name: total_bedrooms, dtype: float64"
      ]
     },
     "execution_count": 99,
     "metadata": {},
     "output_type": "execute_result"
    }
   ],
   "source": [
    "df[\"total_bedrooms\"].describe()"
   ]
  },
  {
   "cell_type": "code",
   "execution_count": 100,
   "id": "c1e943ea",
   "metadata": {},
   "outputs": [
    {
     "data": {
      "text/plain": [
       "<AxesSubplot: >"
      ]
     },
     "execution_count": 100,
     "metadata": {},
     "output_type": "execute_result"
    },
    {
     "data": {
      "image/png": "[encoded data removed]",
      "text/plain": [
       "<Figure size 640x480 with 1 Axes>"
      ]
     },
     "metadata": {},
     "output_type": "display_data"
    }
   ],
   "source": [
    "df[\"total_bedrooms\"].plot.box()"
   ]
  },
  {
   "cell_type": "markdown",
   "id": "54a7168d",
   "metadata": {},
   "source": [
    "### Train / Test split"
   ]
  },
  {
   "cell_type": "code",
   "execution_count": 101,
   "id": "84a48c7e",
   "metadata": {},
   "outputs": [
    {
     "data": {
      "text/plain": [
       "4128"
      ]
     },
     "execution_count": 101,
     "metadata": {},
     "output_type": "execute_result"
    }
   ],
   "source": [
    "# find out the size of the test set\n",
    "df.shape[0] // 5  # 20%"
   ]
  },
  {
   "cell_type": "code",
   "execution_count": 102,
   "id": "76ab5899",
   "metadata": {},
   "outputs": [
    {
     "data": {
      "text/plain": [
       "[6446, 1869, 13618, 6102, 19764, 16589, 5091, 4156, 14362, 10826]"
      ]
     },
     "execution_count": 102,
     "metadata": {},
     "output_type": "execute_result"
    }
   ],
   "source": [
    "random.seed(777)  # initializes the random number generator\n",
    "indices = list(range(0, df.shape[0]))\n",
    "random.shuffle(indices)\n",
    "\n",
    "training_indices = indices[:-8256]\n",
    "validation_indices = indices[-8256:-4128]\n",
    "test_indices = indices[-4128:]\n",
    "\n",
    "training_indices[:10]"
   ]
  },
  {
   "cell_type": "code",
   "execution_count": 103,
   "id": "60891108",
   "metadata": {},
   "outputs": [],
   "source": [
    "df_train = df.iloc[training_indices].copy()  # use copies so that pandas does not spam me with warnings\n",
    "df_val = df.iloc[validation_indices].copy()\n",
    "df_test = df.iloc[test_indices].copy()"
   ]
  },
  {
   "cell_type": "code",
   "execution_count": 104,
   "id": "7e25514a",
   "metadata": {},
   "outputs": [],
   "source": [
    "# alternative: Scikit-learn\n",
    "from sklearn.model_selection import train_test_split\n",
    "\n",
    "df_trainval, df_test2 = train_test_split(df, test_size=0.2, random_state=777)\n",
    "df_train2, df_val2 = train_test_split(df_trainval, test_size=0.25)"
   ]
  },
  {
   "cell_type": "code",
   "execution_count": 105,
   "id": "22ef6350",
   "metadata": {},
   "outputs": [
    {
     "data": {
      "text/plain": [
       "((12384, 10), (4128, 10), (4128, 10))"
      ]
     },
     "execution_count": 105,
     "metadata": {},
     "output_type": "execute_result"
    }
   ],
   "source": [
    "df_train.shape, df_val.shape, df_test.shape  # column number must be the same!"
   ]
  },
  {
   "cell_type": "code",
   "execution_count": 106,
   "id": "1330e619",
   "metadata": {},
   "outputs": [
    {
     "data": {
      "text/plain": [
       "((12384, 10), (4128, 10), (4128, 10))"
      ]
     },
     "execution_count": 106,
     "metadata": {},
     "output_type": "execute_result"
    }
   ],
   "source": [
    "df_train2.shape, df_val2.shape, df_test2.shape  # same numbers"
   ]
  },
  {
   "cell_type": "markdown",
   "id": "8b4459fb",
   "metadata": {},
   "source": [
    "## Feature Engineering"
   ]
  },
  {
   "cell_type": "markdown",
   "id": "8cfb0ae3",
   "metadata": {},
   "source": [
    "**ground rule in scikit: call .fit() only for training data!**"
   ]
  },
  {
   "cell_type": "code",
   "execution_count": 107,
   "id": "e58d2e20",
   "metadata": {},
   "outputs": [],
   "source": [
    "# idea: try label encoding and one-hot encoding on ocean_prox and see which is better"
   ]
  },
  {
   "cell_type": "markdown",
   "id": "f7f07890",
   "metadata": {},
   "source": [
    "### Transform the categorical values in ocean_proximity"
   ]
  },
  {
   "cell_type": "code",
   "execution_count": 108,
   "id": "f53aab25",
   "metadata": {},
   "outputs": [],
   "source": [
    "from sklearn.preprocessing import LabelEncoder"
   ]
  },
  {
   "cell_type": "code",
   "execution_count": 109,
   "id": "d2bb0049",
   "metadata": {},
   "outputs": [],
   "source": [
    "# creates one new column\n",
    "encoder = LabelEncoder()  # initialize.. boring\n",
    "encoder.fit(df_train[\"ocean_proximity\"])        # see what unique values occur in the column (ONLY FOR train!!!)\n",
    "df_train[\"ocean_label\"] = encoder.transform(df_train[\"ocean_proximity\"])  # translate the values to 0..n\n",
    "df_val[\"ocean_label\"] = encoder.transform(df_val[\"ocean_proximity\"])\n",
    "df_test[\"ocean_label\"] = encoder.transform(df_test[\"ocean_proximity\"])"
   ]
  },
  {
   "cell_type": "markdown",
   "id": "9c008bc3",
   "metadata": {},
   "source": [
    "#### Try one-hot encoding"
   ]
  },
  {
   "cell_type": "code",
   "execution_count": 110,
   "id": "5158959a",
   "metadata": {},
   "outputs": [],
   "source": [
    "from sklearn.preprocessing import OneHotEncoder\n",
    "from sklearn.compose import ColumnTransformer"
   ]
  },
  {
   "cell_type": "markdown",
   "id": "bc645add",
   "metadata": {},
   "source": [
    "### Fix missing values in total_bedrooms"
   ]
  },
  {
   "cell_type": "code",
   "execution_count": 111,
   "id": "aae104fa",
   "metadata": {},
   "outputs": [],
   "source": [
    "median = df_train[\"total_bedrooms\"].median()\n",
    "df_train[\"total_bedrooms\"].fillna(median, inplace=True)\n",
    "df_val[\"total_bedrooms\"].fillna(median, inplace=True)\n",
    "df_test[\"total_bedrooms\"].fillna(median, inplace=True)"
   ]
  },
  {
   "cell_type": "markdown",
   "id": "a3e0344e",
   "metadata": {},
   "source": [
    "### Identify X and y"
   ]
  },
  {
   "cell_type": "code",
   "execution_count": 112,
   "id": "232dd405",
   "metadata": {},
   "outputs": [],
   "source": [
    "# separate the target variable y (dependent variable): the thing we want to predict\n",
    "y_train = df_train[\"median_house_value\"]\n",
    "y_val = df_val[\"median_house_value\"]\n",
    "y_test = df_test[\"median_house_value\"]"
   ]
  },
  {
   "cell_type": "code",
   "execution_count": 113,
   "id": "29829ec7",
   "metadata": {},
   "outputs": [],
   "source": [
    "# df_train.columns"
   ]
  },
  {
   "cell_type": "code",
   "execution_count": 219,
   "id": "048fc538",
   "metadata": {},
   "outputs": [],
   "source": [
    "# separate the predictor features X (independent variables): the things we use for predicting\n",
    "columns = ['longitude', 'latitude', 'housing_median_age', 'total_rooms',\n",
    "           'total_bedrooms', 'population', 'households', 'median_income',\n",
    "           'ocean_proximity',\n",
    "           # 'ocean_label'\n",
    "          ]\n",
    "X_train = df_train[columns]\n",
    "X_val = df_val[columns]\n",
    "X_test = df_test[columns]"
   ]
  },
  {
   "cell_type": "markdown",
   "id": "dddd45ed",
   "metadata": {},
   "source": [
    "### One Hot Encoding + Binning of coordinates"
   ]
  },
  {
   "cell_type": "code",
   "execution_count": 220,
   "id": "302fd596",
   "metadata": {},
   "outputs": [],
   "source": [
    "from sklearn.preprocessing import KBinsDiscretizer"
   ]
  },
  {
   "cell_type": "code",
   "execution_count": 221,
   "id": "73bd0af1",
   "metadata": {},
   "outputs": [],
   "source": [
    "# creates five new columns\n",
    "ct = ColumnTransformer(\n",
    "    transformers=[\n",
    "        ('encoder', OneHotEncoder(sparse_output=False), [\"ocean_proximity\"]), # use OHEnc for the ocean_proximity column\n",
    "        ('binning', KBinsDiscretizer(n_bins=10), [\"longitude\", \"latitude\", \"population\", \"total_bedrooms\"]),\n",
    "    ],  \n",
    "    remainder='passthrough'                            # do nothing to the other columns\n",
    ")\n",
    "ct.fit(X_train)\n",
    "X_train = ct.transform(X_train)\n",
    "X_val = ct.transform(X_val)\n",
    "X_test = ct.transform(X_test)"
   ]
  },
  {
   "cell_type": "code",
   "execution_count": 222,
   "id": "38d48edf",
   "metadata": {},
   "outputs": [
    {
     "data": {
      "text/plain": [
       "((12384, 49), (4128, 49), (4128, 49))"
      ]
     },
     "execution_count": 222,
     "metadata": {},
     "output_type": "execute_result"
    }
   ],
   "source": [
    "X_train.shape, X_val.shape, X_test.shape"
   ]
  },
  {
   "cell_type": "code",
   "execution_count": 223,
   "id": "3269b81e",
   "metadata": {},
   "outputs": [
    {
     "data": {
      "text/plain": [
       "((12384,), (4128,), (4128,))"
      ]
     },
     "execution_count": 223,
     "metadata": {},
     "output_type": "execute_result"
    }
   ],
   "source": [
    "y_train.shape, y_val.shape, y_test.shape"
   ]
  },
  {
   "cell_type": "markdown",
   "id": "0d9cb7ff",
   "metadata": {},
   "source": [
    "## The Model"
   ]
  },
  {
   "cell_type": "code",
   "execution_count": 224,
   "id": "22f2e262",
   "metadata": {},
   "outputs": [],
   "source": [
    "from sklearn.linear_model import LinearRegression\n",
    "from sklearn.neighbors import KNeighborsRegressor"
   ]
  },
  {
   "cell_type": "code",
   "execution_count": 225,
   "id": "d944e814",
   "metadata": {},
   "outputs": [
    {
     "data": {
      "text/html": [
       "<style>#sk-container-id-14 {color: black;background-color: white;}#sk-container-id-14 pre{padding: 0;}#sk-container-id-14 div.sk-toggleable {background-color: white;}#sk-container-id-14 label.sk-toggleable__label {cursor: pointer;display: block;width: 100%;margin-bottom: 0;padding: 0.3em;box-sizing: border-box;text-align: center;}#sk-container-id-14 label.sk-toggleable__label-arrow:before {content: \"▸\";float: left;margin-right: 0.25em;color: #696969;}#sk-container-id-14 label.sk-toggleable__label-arrow:hover:before {color: black;}#sk-container-id-14 div.sk-estimator:hover label.sk-toggleable__label-arrow:before {color: black;}#sk-container-id-14 div.sk-toggleable__content {max-height: 0;max-width: 0;overflow: hidden;text-align: left;background-color: #f0f8ff;}#sk-container-id-14 div.sk-toggleable__content pre {margin: 0.2em;color: black;border-radius: 0.25em;background-color: #f0f8ff;}#sk-container-id-14 input.sk-toggleable__control:checked~div.sk-toggleable__content {max-height: 200px;max-width: 100%;overflow: auto;}#sk-container-id-14 input.sk-toggleable__control:checked~label.sk-toggleable__label-arrow:before {content: \"▾\";}#sk-container-id-14 div.sk-estimator input.sk-toggleable__control:checked~label.sk-toggleable__label {background-color: #d4ebff;}#sk-container-id-14 div.sk-label input.sk-toggleable__control:checked~label.sk-toggleable__label {background-color: #d4ebff;}#sk-container-id-14 input.sk-hidden--visually {border: 0;clip: rect(1px 1px 1px 1px);clip: rect(1px, 1px, 1px, 1px);height: 1px;margin: -1px;overflow: hidden;padding: 0;position: absolute;width: 1px;}#sk-container-id-14 div.sk-estimator {font-family: monospace;background-color: #f0f8ff;border: 1px dotted black;border-radius: 0.25em;box-sizing: border-box;margin-bottom: 0.5em;}#sk-container-id-14 div.sk-estimator:hover {background-color: #d4ebff;}#sk-container-id-14 div.sk-parallel-item::after {content: \"\";width: 100%;border-bottom: 1px solid gray;flex-grow: 1;}#sk-container-id-14 div.sk-label:hover label.sk-toggleable__label {background-color: #d4ebff;}#sk-container-id-14 div.sk-serial::before {content: \"\";position: absolute;border-left: 1px solid gray;box-sizing: border-box;top: 0;bottom: 0;left: 50%;z-index: 0;}#sk-container-id-14 div.sk-serial {display: flex;flex-direction: column;align-items: center;background-color: white;padding-right: 0.2em;padding-left: 0.2em;position: relative;}#sk-container-id-14 div.sk-item {position: relative;z-index: 1;}#sk-container-id-14 div.sk-parallel {display: flex;align-items: stretch;justify-content: center;background-color: white;position: relative;}#sk-container-id-14 div.sk-item::before, #sk-container-id-14 div.sk-parallel-item::before {content: \"\";position: absolute;border-left: 1px solid gray;box-sizing: border-box;top: 0;bottom: 0;left: 50%;z-index: -1;}#sk-container-id-14 div.sk-parallel-item {display: flex;flex-direction: column;z-index: 1;position: relative;background-color: white;}#sk-container-id-14 div.sk-parallel-item:first-child::after {align-self: flex-end;width: 50%;}#sk-container-id-14 div.sk-parallel-item:last-child::after {align-self: flex-start;width: 50%;}#sk-container-id-14 div.sk-parallel-item:only-child::after {width: 0;}#sk-container-id-14 div.sk-dashed-wrapped {border: 1px dashed gray;margin: 0 0.4em 0.5em 0.4em;box-sizing: border-box;padding-bottom: 0.4em;background-color: white;}#sk-container-id-14 div.sk-label label {font-family: monospace;font-weight: bold;display: inline-block;line-height: 1.2em;}#sk-container-id-14 div.sk-label-container {text-align: center;}#sk-container-id-14 div.sk-container {/* jupyter's `normalize.less` sets `[hidden] { display: none; }` but bootstrap.min.css set `[hidden] { display: none !important; }` so we also need the `!important` here to be able to override the default hidden behavior on the sphinx rendered scikit-learn.org. See: https://github.com/scikit-learn/scikit-learn/issues/21755 */display: inline-block !important;position: relative;}#sk-container-id-14 div.sk-text-repr-fallback {display: none;}</style><div id=\"sk-container-id-14\" class=\"sk-top-container\"><div class=\"sk-text-repr-fallback\"><pre>LinearRegression()</pre><b>In a Jupyter environment, please rerun this cell to show the HTML representation or trust the notebook. <br />On GitHub, the HTML representation is unable to render, please try loading this page with nbviewer.org.</b></div><div class=\"sk-container\" hidden><div class=\"sk-item\"><div class=\"sk-estimator sk-toggleable\"><input class=\"sk-toggleable__control sk-hidden--visually\" id=\"sk-estimator-id-14\" type=\"checkbox\" checked><label for=\"sk-estimator-id-14\" class=\"sk-toggleable__label sk-toggleable__label-arrow\">LinearRegression</label><div class=\"sk-toggleable__content\"><pre>LinearRegression()</pre></div></div></div></div></div>"
      ],
      "text/plain": [
       "LinearRegression()"
      ]
     },
     "execution_count": 225,
     "metadata": {},
     "output_type": "execute_result"
    }
   ],
   "source": [
    "m = LinearRegression(fit_intercept=True)  # 1. initialize the model (set hyperparameters)\n",
    "# m = KNeighborsRegressor(n_neighbors=5)\n",
    "m.fit(X_train, y_train)                   # 2. fit the model with training data (NEVER validation or test data!)"
   ]
  },
  {
   "cell_type": "code",
   "execution_count": 226,
   "id": "36fc36a0",
   "metadata": {},
   "outputs": [
    {
     "data": {
      "text/plain": [
       "array([299274.73996068,  75284.45902173, 128350.87066354, ...,\n",
       "       213993.82700361, 208316.13415868, 115496.93334556])"
      ]
     },
     "execution_count": 226,
     "metadata": {},
     "output_type": "execute_result"
    }
   ],
   "source": [
    "y_pred = m.predict(X_train)\n",
    "y_pred"
   ]
  },
  {
   "cell_type": "code",
   "execution_count": 227,
   "id": "a7b3f8c5",
   "metadata": {},
   "outputs": [],
   "source": [
    "from sklearn.metrics import (\n",
    "    mean_squared_error,\n",
    "    mean_absolute_error,\n",
    ")"
   ]
  },
  {
   "cell_type": "code",
   "execution_count": 228,
   "id": "2873aa3b",
   "metadata": {},
   "outputs": [
    {
     "data": {
      "text/plain": [
       "4066664449.745836"
      ]
     },
     "execution_count": 228,
     "metadata": {},
     "output_type": "execute_result"
    }
   ],
   "source": [
    "mean_squared_error(y_train, y_pred)  # MSE has no unit"
   ]
  },
  {
   "cell_type": "code",
   "execution_count": 229,
   "id": "3fc691cc",
   "metadata": {},
   "outputs": [
    {
     "data": {
      "text/plain": [
       "4490813731.649987"
      ]
     },
     "execution_count": 229,
     "metadata": {},
     "output_type": "execute_result"
    }
   ],
   "source": [
    "y_pred_val = m.predict(X_val)\n",
    "mean_squared_error(y_val, y_pred_val)"
   ]
  },
  {
   "cell_type": "markdown",
   "id": "af3ae051",
   "metadata": {},
   "source": [
    "### MAE (Mean Absolute Error)\n",
    "\n",
    "advantage: unit is the same as in the target column y\n",
    "\n",
    "$$mae = \\frac{1}{n} \\sum | y_i - y_{true} |$$"
   ]
  },
  {
   "cell_type": "code",
   "execution_count": 230,
   "id": "6a75e39c",
   "metadata": {},
   "outputs": [
    {
     "data": {
      "text/plain": [
       "46129.3"
      ]
     },
     "execution_count": 230,
     "metadata": {},
     "output_type": "execute_result"
    }
   ],
   "source": [
    "round(mean_absolute_error(y_train, y_pred), 1)  # USD"
   ]
  },
  {
   "cell_type": "code",
   "execution_count": 231,
   "id": "837245e3",
   "metadata": {},
   "outputs": [
    {
     "data": {
      "text/plain": [
       "47480.8"
      ]
     },
     "execution_count": 231,
     "metadata": {},
     "output_type": "execute_result"
    }
   ],
   "source": [
    "round(mean_absolute_error(y_val, y_pred_val), 1)  # USD"
   ]
  },
  {
   "cell_type": "markdown",
   "id": "7ec4c8e4",
   "metadata": {},
   "source": [
    "## Overfitting"
   ]
  },
  {
   "cell_type": "markdown",
   "id": "427c851d",
   "metadata": {},
   "source": [
    "if your model has too much information, it will start learning the training data by heart.\n",
    "Result: \n",
    "    \n",
    "* good performance for training data\n",
    "* bad performance for validation / test data\n",
    "\n",
    "**ideally, your training and validation scores should be the same**"
   ]
  },
  {
   "cell_type": "markdown",
   "id": "55abe72a",
   "metadata": {},
   "source": [
    "## Calculate Test Score"
   ]
  },
  {
   "cell_type": "code",
   "execution_count": 232,
   "id": "540f2f72",
   "metadata": {},
   "outputs": [],
   "source": [
    "y_pred_test = m.predict(X_test)"
   ]
  },
  {
   "cell_type": "code",
   "execution_count": 233,
   "id": "78249159",
   "metadata": {},
   "outputs": [
    {
     "data": {
      "text/plain": [
       "4035659658.984373"
      ]
     },
     "execution_count": 233,
     "metadata": {},
     "output_type": "execute_result"
    }
   ],
   "source": [
    "mean_squared_error(y_test, y_pred_test)"
   ]
  },
  {
   "cell_type": "code",
   "execution_count": 234,
   "id": "f806f3e9",
   "metadata": {},
   "outputs": [
    {
     "data": {
      "text/plain": [
       "45806.30284211217"
      ]
     },
     "execution_count": 234,
     "metadata": {},
     "output_type": "execute_result"
    }
   ],
   "source": [
    "mean_absolute_error(y_test, y_pred_test)"
   ]
  },
  {
   "cell_type": "code",
   "execution_count": null,
   "id": "15283e89",
   "metadata": {},
   "outputs": [],
   "source": []
  }
 ],
 "metadata": {
  "kernelspec": {
   "display_name": "Python 3",
   "language": "python",
   "name": "python3"
  },
  "language_info": {
   "codemirror_mode": {
    "name": "ipython",
    "version": 3
   },
   "file_extension": ".py",
   "mimetype": "text/x-python",
   "name": "python",
   "nbconvert_exporter": "python",
   "pygments_lexer": "ipython3",
   "version": "3.9.12"
  }
 },
 "nbformat": 4,
 "nbformat_minor": 5
}
