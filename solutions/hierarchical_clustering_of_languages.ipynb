{
 "cells": [
  {
   "cell_type": "markdown",
   "id": "99215aa6",
   "metadata": {},
   "source": [
    "# Hierarchical Clustering of Languages"
   ]
  },
  {
   "cell_type": "code",
   "execution_count": 1,
   "id": "ae400e5c",
   "metadata": {},
   "outputs": [],
   "source": [
    "from typing import Sequence\n",
    "from statistics import mean\n",
    "\n",
    "import pandas as pd\n",
    "import seaborn as sns"
   ]
  },
  {
   "cell_type": "markdown",
   "id": "aa96fac0",
   "metadata": {},
   "source": [
    "### 1. Load the data"
   ]
  },
  {
   "cell_type": "code",
   "execution_count": 2,
   "id": "a873e79e",
   "metadata": {},
   "outputs": [],
   "source": [
    "df = pd.read_csv(r\"/home/kristian/Downloads/languages.csv\")"
   ]
  },
  {
   "cell_type": "code",
   "execution_count": 3,
   "id": "f9ef10b3",
   "metadata": {},
   "outputs": [
    {
     "data": {
      "text/plain": [
       "(21, 12)"
      ]
     },
     "execution_count": 3,
     "metadata": {},
     "output_type": "execute_result"
    }
   ],
   "source": [
    "df.shape  # rows, columns"
   ]
  },
  {
   "cell_type": "code",
   "execution_count": 4,
   "id": "e38d26e5",
   "metadata": {},
   "outputs": [
    {
     "data": {
      "text/html": [
       "<div>\n",
       "<style scoped>\n",
       "    .dataframe tbody tr th:only-of-type {\n",
       "        vertical-align: middle;\n",
       "    }\n",
       "\n",
       "    .dataframe tbody tr th {\n",
       "        vertical-align: top;\n",
       "    }\n",
       "\n",
       "    .dataframe thead th {\n",
       "        text-align: right;\n",
       "    }\n",
       "</style>\n",
       "<table border=\"1\" class=\"dataframe\">\n",
       "  <thead>\n",
       "    <tr style=\"text-align: right;\">\n",
       "      <th></th>\n",
       "      <th>english</th>\n",
       "      <th>german</th>\n",
       "      <th>polish</th>\n",
       "      <th>Kannada</th>\n",
       "      <th>Tamil</th>\n",
       "      <th>russian</th>\n",
       "      <th>mandarin</th>\n",
       "      <th>Spanish</th>\n",
       "      <th>Hindi</th>\n",
       "      <th>Marathi</th>\n",
       "      <th>Telugu</th>\n",
       "      <th>Azerbaijani</th>\n",
       "    </tr>\n",
       "  </thead>\n",
       "  <tbody>\n",
       "    <tr>\n",
       "      <th>0</th>\n",
       "      <td>cat</td>\n",
       "      <td>katze</td>\n",
       "      <td>kot</td>\n",
       "      <td>bekku</td>\n",
       "      <td>poonai</td>\n",
       "      <td>kot</td>\n",
       "      <td>māo</td>\n",
       "      <td>gato</td>\n",
       "      <td>billi</td>\n",
       "      <td>manzar</td>\n",
       "      <td>pilli</td>\n",
       "      <td>pishik</td>\n",
       "    </tr>\n",
       "    <tr>\n",
       "      <th>1</th>\n",
       "      <td>dog</td>\n",
       "      <td>hund</td>\n",
       "      <td>pies</td>\n",
       "      <td>naayi</td>\n",
       "      <td>naayi</td>\n",
       "      <td>sobaka</td>\n",
       "      <td>gǒu</td>\n",
       "      <td>perro</td>\n",
       "      <td>kutta</td>\n",
       "      <td>kutreya</td>\n",
       "      <td>kukka</td>\n",
       "      <td>it</td>\n",
       "    </tr>\n",
       "    <tr>\n",
       "      <th>2</th>\n",
       "      <td>house</td>\n",
       "      <td>haus</td>\n",
       "      <td>dom</td>\n",
       "      <td>mane</td>\n",
       "      <td>veedu</td>\n",
       "      <td>dom</td>\n",
       "      <td>jia</td>\n",
       "      <td>casa</td>\n",
       "      <td>ghar</td>\n",
       "      <td>ghar</td>\n",
       "      <td>illu</td>\n",
       "      <td>ev</td>\n",
       "    </tr>\n",
       "  </tbody>\n",
       "</table>\n",
       "</div>"
      ],
      "text/plain": [
       "  english german polish Kannada   Tamil russian mandarin Spanish  Hindi  \\\n",
       "0     cat  katze    kot   bekku  poonai     kot      māo    gato  billi   \n",
       "1     dog   hund   pies   naayi   naayi  sobaka      gǒu   perro  kutta   \n",
       "2   house   haus    dom    mane   veedu     dom      jia    casa   ghar   \n",
       "\n",
       "   Marathi Telugu Azerbaijani  \n",
       "0   manzar  pilli      pishik  \n",
       "1  kutreya  kukka          it  \n",
       "2     ghar   illu          ev  "
      ]
     },
     "execution_count": 4,
     "metadata": {},
     "output_type": "execute_result"
    }
   ],
   "source": [
    "# convert everything to lower case\n",
    "for col in df:\n",
    "    df[col] = df[col].str.lower()\n",
    "df.head(3)"
   ]
  },
  {
   "cell_type": "code",
   "execution_count": 5,
   "id": "e1942238",
   "metadata": {},
   "outputs": [
    {
     "data": {
      "text/plain": [
       "(18, 12)"
      ]
     },
     "execution_count": 5,
     "metadata": {},
     "output_type": "execute_result"
    }
   ],
   "source": [
    "# df.isna().sum().plot.bar()  # visualize empty values\n",
    "# df.fillna(\"\", inplace=True) # problematic because of zero division\n",
    "df.dropna(inplace=True)\n",
    "df.shape"
   ]
  },
  {
   "cell_type": "code",
   "execution_count": 6,
   "id": "4cc6114f",
   "metadata": {},
   "outputs": [],
   "source": [
    "# df.info()"
   ]
  },
  {
   "cell_type": "markdown",
   "id": "5d6b7d05",
   "metadata": {},
   "source": [
    "### 2. Similarity of words"
   ]
  },
  {
   "cell_type": "code",
   "execution_count": 7,
   "id": "c9305b83",
   "metadata": {},
   "outputs": [],
   "source": [
    "def calc_word_similarity(word1: str, word2: str) -> float:\n",
    "    \"\"\"a simple measure for word similarity between 0 and 1\"\"\"\n",
    "    s1, s2 = set(word1), set(word2)\n",
    "    return len(s1.intersection(s2)) / len(s1.union(s2))"
   ]
  },
  {
   "cell_type": "code",
   "execution_count": 8,
   "id": "6d70f5e1",
   "metadata": {},
   "outputs": [
    {
     "data": {
      "text/plain": [
       "1.0"
      ]
     },
     "execution_count": 8,
     "metadata": {},
     "output_type": "execute_result"
    }
   ],
   "source": [
    "calc_word_similarity(\"hello\", \"hello\")"
   ]
  },
  {
   "cell_type": "code",
   "execution_count": 9,
   "id": "f23acdab",
   "metadata": {},
   "outputs": [],
   "source": [
    "assert calc_word_similarity(\"hello\", \"hello\") == 1.0\n",
    "assert calc_word_similarity(\"sun\", \"moon\") == 0.2\n",
    "assert calc_word_similarity(\"cat\", \"dog\") == 0.0"
   ]
  },
  {
   "cell_type": "markdown",
   "id": "3a6681ae",
   "metadata": {},
   "source": [
    "### 3. Similarity of languages"
   ]
  },
  {
   "cell_type": "code",
   "execution_count": 10,
   "id": "878f6b2e",
   "metadata": {},
   "outputs": [],
   "source": [
    "def calc_language_similarity(\n",
    "        words1: Sequence[str],\n",
    "        words2: Sequence[str]\n",
    "    ) -> float:\n",
    "    \"\"\"average of the word similarity between 0 and 1\"\"\"\n",
    "    word_sims = []\n",
    "    for w1, w2 in zip(words1, words2):\n",
    "        sim = calc_word_similarity(w1, w2)\n",
    "        word_sims.append(sim)\n",
    "    return mean(word_sims)"
   ]
  },
  {
   "cell_type": "code",
   "execution_count": 11,
   "id": "7f7f0e26",
   "metadata": {},
   "outputs": [],
   "source": [
    "# list(zip(\"ABC\", \"DEFG\"))"
   ]
  },
  {
   "cell_type": "code",
   "execution_count": 12,
   "id": "3bd53566",
   "metadata": {},
   "outputs": [],
   "source": [
    "assert calc_language_similarity(\n",
    "    [\"hello\", \"sun\", \"cat\"],\n",
    "    [\"hello\", \"moon\", \"dog\"],\n",
    ") == 0.4"
   ]
  },
  {
   "cell_type": "code",
   "execution_count": 13,
   "id": "40d03725",
   "metadata": {},
   "outputs": [
    {
     "data": {
      "text/plain": [
       "Index(['english', 'german', 'polish', 'Kannada', 'Tamil', 'russian',\n",
       "       'mandarin', 'Spanish', 'Hindi', 'Marathi', 'Telugu', 'Azerbaijani'],\n",
       "      dtype='object')"
      ]
     },
     "execution_count": 13,
     "metadata": {},
     "output_type": "execute_result"
    }
   ],
   "source": [
    "df.columns"
   ]
  },
  {
   "cell_type": "code",
   "execution_count": 14,
   "id": "7e503e2c",
   "metadata": {},
   "outputs": [
    {
     "data": {
      "text/plain": [
       "0.22526855860189193"
      ]
     },
     "execution_count": 14,
     "metadata": {},
     "output_type": "execute_result"
    }
   ],
   "source": [
    "calc_language_similarity(df[\"Tamil\"], df[\"Azerbaijani\"])"
   ]
  },
  {
   "cell_type": "code",
   "execution_count": 15,
   "id": "a671e126",
   "metadata": {},
   "outputs": [
    {
     "data": {
      "text/plain": [
       "0.5787277537277538"
      ]
     },
     "execution_count": 15,
     "metadata": {},
     "output_type": "execute_result"
    }
   ],
   "source": [
    "calc_language_similarity(df[\"polish\"], df[\"russian\"])"
   ]
  },
  {
   "cell_type": "markdown",
   "id": "ebf75e69",
   "metadata": {},
   "source": [
    "### 4. Similarity matrix"
   ]
  },
  {
   "cell_type": "code",
   "execution_count": 16,
   "id": "ad26b0de",
   "metadata": {},
   "outputs": [],
   "source": [
    "languages = df.columns\n",
    "\n",
    "sims = []\n",
    "for lang1 in languages:\n",
    "    row = []\n",
    "    for lang2 in languages:\n",
    "        sim = calc_language_similarity(df[lang1], df[lang2])\n",
    "        row.append(sim)\n",
    "    sims.append(row)"
   ]
  },
  {
   "cell_type": "code",
   "execution_count": 17,
   "id": "f95106d4",
   "metadata": {},
   "outputs": [
    {
     "data": {
      "text/html": [
       "<div>\n",
       "<style scoped>\n",
       "    .dataframe tbody tr th:only-of-type {\n",
       "        vertical-align: middle;\n",
       "    }\n",
       "\n",
       "    .dataframe tbody tr th {\n",
       "        vertical-align: top;\n",
       "    }\n",
       "\n",
       "    .dataframe thead th {\n",
       "        text-align: right;\n",
       "    }\n",
       "</style>\n",
       "<table border=\"1\" class=\"dataframe\">\n",
       "  <thead>\n",
       "    <tr style=\"text-align: right;\">\n",
       "      <th></th>\n",
       "      <th>english</th>\n",
       "      <th>german</th>\n",
       "      <th>polish</th>\n",
       "      <th>Kannada</th>\n",
       "      <th>Tamil</th>\n",
       "      <th>russian</th>\n",
       "      <th>mandarin</th>\n",
       "      <th>Spanish</th>\n",
       "      <th>Hindi</th>\n",
       "      <th>Marathi</th>\n",
       "      <th>Telugu</th>\n",
       "      <th>Azerbaijani</th>\n",
       "    </tr>\n",
       "  </thead>\n",
       "  <tbody>\n",
       "    <tr>\n",
       "      <th>english</th>\n",
       "      <td>10</td>\n",
       "      <td>6</td>\n",
       "      <td>3</td>\n",
       "      <td>2</td>\n",
       "      <td>1</td>\n",
       "      <td>3</td>\n",
       "      <td>1</td>\n",
       "      <td>4</td>\n",
       "      <td>2</td>\n",
       "      <td>2</td>\n",
       "      <td>2</td>\n",
       "      <td>3</td>\n",
       "    </tr>\n",
       "    <tr>\n",
       "      <th>german</th>\n",
       "      <td>6</td>\n",
       "      <td>10</td>\n",
       "      <td>3</td>\n",
       "      <td>2</td>\n",
       "      <td>1</td>\n",
       "      <td>3</td>\n",
       "      <td>1</td>\n",
       "      <td>4</td>\n",
       "      <td>3</td>\n",
       "      <td>2</td>\n",
       "      <td>2</td>\n",
       "      <td>3</td>\n",
       "    </tr>\n",
       "    <tr>\n",
       "      <th>polish</th>\n",
       "      <td>3</td>\n",
       "      <td>3</td>\n",
       "      <td>10</td>\n",
       "      <td>2</td>\n",
       "      <td>2</td>\n",
       "      <td>6</td>\n",
       "      <td>1</td>\n",
       "      <td>3</td>\n",
       "      <td>2</td>\n",
       "      <td>1</td>\n",
       "      <td>2</td>\n",
       "      <td>3</td>\n",
       "    </tr>\n",
       "    <tr>\n",
       "      <th>Kannada</th>\n",
       "      <td>2</td>\n",
       "      <td>2</td>\n",
       "      <td>2</td>\n",
       "      <td>10</td>\n",
       "      <td>4</td>\n",
       "      <td>3</td>\n",
       "      <td>1</td>\n",
       "      <td>3</td>\n",
       "      <td>4</td>\n",
       "      <td>5</td>\n",
       "      <td>4</td>\n",
       "      <td>2</td>\n",
       "    </tr>\n",
       "    <tr>\n",
       "      <th>Tamil</th>\n",
       "      <td>1</td>\n",
       "      <td>1</td>\n",
       "      <td>2</td>\n",
       "      <td>4</td>\n",
       "      <td>10</td>\n",
       "      <td>3</td>\n",
       "      <td>2</td>\n",
       "      <td>2</td>\n",
       "      <td>2</td>\n",
       "      <td>3</td>\n",
       "      <td>4</td>\n",
       "      <td>2</td>\n",
       "    </tr>\n",
       "    <tr>\n",
       "      <th>russian</th>\n",
       "      <td>3</td>\n",
       "      <td>3</td>\n",
       "      <td>6</td>\n",
       "      <td>3</td>\n",
       "      <td>3</td>\n",
       "      <td>10</td>\n",
       "      <td>1</td>\n",
       "      <td>3</td>\n",
       "      <td>2</td>\n",
       "      <td>2</td>\n",
       "      <td>3</td>\n",
       "      <td>4</td>\n",
       "    </tr>\n",
       "    <tr>\n",
       "      <th>mandarin</th>\n",
       "      <td>1</td>\n",
       "      <td>1</td>\n",
       "      <td>1</td>\n",
       "      <td>1</td>\n",
       "      <td>2</td>\n",
       "      <td>1</td>\n",
       "      <td>10</td>\n",
       "      <td>1</td>\n",
       "      <td>1</td>\n",
       "      <td>1</td>\n",
       "      <td>1</td>\n",
       "      <td>1</td>\n",
       "    </tr>\n",
       "    <tr>\n",
       "      <th>Spanish</th>\n",
       "      <td>4</td>\n",
       "      <td>4</td>\n",
       "      <td>3</td>\n",
       "      <td>3</td>\n",
       "      <td>2</td>\n",
       "      <td>3</td>\n",
       "      <td>1</td>\n",
       "      <td>10</td>\n",
       "      <td>2</td>\n",
       "      <td>3</td>\n",
       "      <td>2</td>\n",
       "      <td>2</td>\n",
       "    </tr>\n",
       "    <tr>\n",
       "      <th>Hindi</th>\n",
       "      <td>2</td>\n",
       "      <td>3</td>\n",
       "      <td>2</td>\n",
       "      <td>4</td>\n",
       "      <td>2</td>\n",
       "      <td>2</td>\n",
       "      <td>1</td>\n",
       "      <td>2</td>\n",
       "      <td>10</td>\n",
       "      <td>4</td>\n",
       "      <td>4</td>\n",
       "      <td>2</td>\n",
       "    </tr>\n",
       "    <tr>\n",
       "      <th>Marathi</th>\n",
       "      <td>2</td>\n",
       "      <td>2</td>\n",
       "      <td>1</td>\n",
       "      <td>5</td>\n",
       "      <td>3</td>\n",
       "      <td>2</td>\n",
       "      <td>1</td>\n",
       "      <td>3</td>\n",
       "      <td>4</td>\n",
       "      <td>10</td>\n",
       "      <td>4</td>\n",
       "      <td>2</td>\n",
       "    </tr>\n",
       "    <tr>\n",
       "      <th>Telugu</th>\n",
       "      <td>2</td>\n",
       "      <td>2</td>\n",
       "      <td>2</td>\n",
       "      <td>4</td>\n",
       "      <td>4</td>\n",
       "      <td>3</td>\n",
       "      <td>1</td>\n",
       "      <td>2</td>\n",
       "      <td>4</td>\n",
       "      <td>4</td>\n",
       "      <td>10</td>\n",
       "      <td>3</td>\n",
       "    </tr>\n",
       "    <tr>\n",
       "      <th>Azerbaijani</th>\n",
       "      <td>3</td>\n",
       "      <td>3</td>\n",
       "      <td>3</td>\n",
       "      <td>2</td>\n",
       "      <td>2</td>\n",
       "      <td>4</td>\n",
       "      <td>1</td>\n",
       "      <td>2</td>\n",
       "      <td>2</td>\n",
       "      <td>2</td>\n",
       "      <td>3</td>\n",
       "      <td>10</td>\n",
       "    </tr>\n",
       "  </tbody>\n",
       "</table>\n",
       "</div>"
      ],
      "text/plain": [
       "             english  german  polish  Kannada  Tamil  russian  mandarin  \\\n",
       "english           10       6       3        2      1        3         1   \n",
       "german             6      10       3        2      1        3         1   \n",
       "polish             3       3      10        2      2        6         1   \n",
       "Kannada            2       2       2       10      4        3         1   \n",
       "Tamil              1       1       2        4     10        3         2   \n",
       "russian            3       3       6        3      3       10         1   \n",
       "mandarin           1       1       1        1      2        1        10   \n",
       "Spanish            4       4       3        3      2        3         1   \n",
       "Hindi              2       3       2        4      2        2         1   \n",
       "Marathi            2       2       1        5      3        2         1   \n",
       "Telugu             2       2       2        4      4        3         1   \n",
       "Azerbaijani        3       3       3        2      2        4         1   \n",
       "\n",
       "             Spanish  Hindi  Marathi  Telugu  Azerbaijani  \n",
       "english            4      2        2       2            3  \n",
       "german             4      3        2       2            3  \n",
       "polish             3      2        1       2            3  \n",
       "Kannada            3      4        5       4            2  \n",
       "Tamil              2      2        3       4            2  \n",
       "russian            3      2        2       3            4  \n",
       "mandarin           1      1        1       1            1  \n",
       "Spanish           10      2        3       2            2  \n",
       "Hindi              2     10        4       4            2  \n",
       "Marathi            3      4       10       4            2  \n",
       "Telugu             2      4        4      10            3  \n",
       "Azerbaijani        2      2        2       3           10  "
      ]
     },
     "execution_count": 17,
     "metadata": {},
     "output_type": "execute_result"
    }
   ],
   "source": [
    "sim_matrix = pd.DataFrame(sims, index=languages, columns=languages)\n",
    "perc = (sim_matrix * 10).round().astype(int)\n",
    "perc"
   ]
  },
  {
   "cell_type": "code",
   "execution_count": 18,
   "id": "f8cef57e",
   "metadata": {},
   "outputs": [
    {
     "data": {
      "text/plain": [
       "<AxesSubplot: >"
      ]
     },
     "execution_count": 18,
     "metadata": {},
     "output_type": "execute_result"
    },
    {
     "data": {
      "image/png": "[encoded data removed]",
      "text/plain": [
       "<Figure size 640x480 with 2 Axes>"
      ]
     },
     "metadata": {},
     "output_type": "display_data"
    }
   ],
   "source": [
    "sns.heatmap(perc, annot=True)"
   ]
  },
  {
   "cell_type": "markdown",
   "id": "af54df0f",
   "metadata": {},
   "source": [
    "### 5. Tree data structure"
   ]
  },
  {
   "cell_type": "code",
   "execution_count": 19,
   "id": "b77ea33d",
   "metadata": {},
   "outputs": [],
   "source": [
    "from dataclasses import dataclass\n",
    "\n",
    "@dataclass\n",
    "class LeafNode:\n",
    "\n",
    "    name: str\n",
    "    words: Sequence[str]\n",
    "        \n",
    "    def draw(self, graph):\n",
    "        graph.node(self.name, self.name)\n",
    "\n",
    "\n",
    "@dataclass\n",
    "class InternalNode:\n",
    "\n",
    "    name: str\n",
    "    left: LeafNode\n",
    "    right: LeafNode\n",
    "        \n",
    "    def draw(self, graph):\n",
    "        self.left.draw(graph)\n",
    "        self.right.draw(graph)\n",
    "        graph.node(self.name, '', shape='point')\n",
    "        graph.edge(self.name, self.left.name, dir='none')\n",
    "        graph.edge(self.name, self.right.name, dir='none')"
   ]
  },
  {
   "cell_type": "markdown",
   "id": "adbc3398",
   "metadata": {},
   "source": [
    "### 6. Hierarchical Clustering"
   ]
  },
  {
   "cell_type": "code",
   "execution_count": 20,
   "id": "0ae9caa7",
   "metadata": {},
   "outputs": [],
   "source": [
    "def calc_node_similarity(node1, node2):\n",
    "    \"\"\"implements the linkage rule for joining internal nodes\"\"\"\n",
    "    if type(node1) == LeafNode and type(node2) == LeafNode:\n",
    "        return calc_language_similarity(node1.words, node2.words)\n",
    "    elif type(node1) == InternalNode and type(node2) == LeafNode:\n",
    "        # linkage rule: mean similarity\n",
    "        return (\n",
    "            calc_node_similarity(node2, node1.left) +\n",
    "            calc_node_similarity(node2, node1.right)\n",
    "        ) / 2\n",
    "    else:\n",
    "        return (\n",
    "            calc_node_similarity(node1, node2.left) +\n",
    "            calc_node_similarity(node1, node2.right)\n",
    "        ) / 2"
   ]
  },
  {
   "cell_type": "code",
   "execution_count": 21,
   "id": "da9f1eab",
   "metadata": {},
   "outputs": [],
   "source": [
    "def find_best_similarity(nodes):\n",
    "    best_sim = -1.0\n",
    "    best_nodes = None\n",
    "\n",
    "    for node1 in nodes:\n",
    "        for node2 in nodes:\n",
    "            if node1 == node2: continue # skip the diagonal\n",
    "            sim = calc_node_similarity(node1, node2)\n",
    "            if sim > best_sim:\n",
    "                best_sim = sim\n",
    "                best_nodes = node1, node2\n",
    "    \n",
    "    return best_nodes"
   ]
  },
  {
   "cell_type": "code",
   "execution_count": 22,
   "id": "ec305aed",
   "metadata": {},
   "outputs": [
    {
     "name": "stdout",
     "output_type": "stream",
     "text": [
      "[english-german]\n",
      "[polish-russian]\n",
      "[Kannada-Marathi]\n",
      "[Hindi-Telugu]\n",
      "[Spanish-[english-german]]\n",
      "[[Kannada-Marathi]-[Hindi-Telugu]]\n",
      "[Tamil-[[Kannada-Marathi]-[Hindi-Telugu]]]\n",
      "[Azerbaijani-[polish-russian]]\n",
      "[[Spanish-[english-german]]-[Azerbaijani-[polish-russian]]]\n",
      "[[Tamil-[[Kannada-Marathi]-[Hindi-Telugu]]]-[[Spanish-[english-german]]-[Azerbaijani-[polish-russian]]]]\n",
      "[mandarin-[[Tamil-[[Kannada-Marathi]-[Hindi-Telugu]]]-[[Spanish-[english-german]]-[Azerbaijani-[polish-russian]]]]]\n"
     ]
    }
   ],
   "source": [
    "# 1. create a leaf node for every element of E.\n",
    "nodes = [LeafNode(lang, df[lang]) for lang in df.columns]\n",
    "\n",
    "while len(nodes) > 1:\n",
    "    # 2. find the pair of most similar elements (e1, e2) in E\n",
    "    n1, n2 = find_best_similarity(nodes)\n",
    "\n",
    "    # 3. create a new internal node that contains e1 and e2\n",
    "    internal = InternalNode(\n",
    "        name=f\"[{n1.name}-{n2.name}]\",\n",
    "        left=n1,\n",
    "        right=n2,\n",
    "    )\n",
    "\n",
    "    # 4. add the new node to E\n",
    "    nodes.append(internal)\n",
    "\n",
    "    # 5. remove e1 and e2 from E\n",
    "    nodes.remove(n1)\n",
    "    nodes.remove(n2)\n",
    "\n",
    "    # 6. repeat from step 2. until there is only one node in E\n",
    "    # (see above)\n",
    "    print(internal.name)"
   ]
  },
  {
   "cell_type": "markdown",
   "id": "e888b8cc",
   "metadata": {},
   "source": [
    "### 7. Draw the tree"
   ]
  },
  {
   "cell_type": "code",
   "execution_count": 23,
   "id": "a3d225e6",
   "metadata": {},
   "outputs": [],
   "source": [
    "from graphviz import Digraph\n",
    "\n",
    "def draw_tree(nodes):\n",
    "    \"\"\"uses Graphviz to draw a tree on screen\"\"\"\n",
    "    tree = nodes[0]\n",
    "    graph = Digraph(\n",
    "        edge_attr={'dir': 'back', 'color': 'black'},\n",
    "        node_attr={'fontname': 'arial', \n",
    "                   'color': 'lightblue',\n",
    "                   'style': 'filled'}\n",
    "    )\n",
    "    tree.draw(graph)\n",
    "    graph.render('languages.gv', view=True)"
   ]
  },
  {
   "cell_type": "code",
   "execution_count": 24,
   "id": "1cb3095f",
   "metadata": {},
   "outputs": [],
   "source": [
    "draw_tree(nodes)"
   ]
  },
  {
   "cell_type": "code",
   "execution_count": null,
   "id": "833bb4e4",
   "metadata": {},
   "outputs": [],
   "source": []
  },
  {
   "cell_type": "code",
   "execution_count": null,
   "id": "61c313c2",
   "metadata": {},
   "outputs": [],
   "source": []
  },
  {
   "cell_type": "code",
   "execution_count": null,
   "id": "71393ed2",
   "metadata": {},
   "outputs": [],
   "source": []
  }
 ],
 "metadata": {
  "kernelspec": {
   "display_name": "Python 3",
   "language": "python",
   "name": "python3"
  },
  "language_info": {
   "codemirror_mode": {
    "name": "ipython",
    "version": 3
   },
   "file_extension": ".py",
   "mimetype": "text/x-python",
   "name": "python",
   "nbconvert_exporter": "python",
   "pygments_lexer": "ipython3",
   "version": "3.9.12"
  }
 },
 "nbformat": 4,
 "nbformat_minor": 5
}
