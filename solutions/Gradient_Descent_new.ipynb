{
 "cells": [
  {
   "cell_type": "markdown",
   "id": "5add90f4",
   "metadata": {},
   "source": [
    "# Gradient Descent"
   ]
  },
  {
   "cell_type": "markdown",
   "id": "282fca74",
   "metadata": {},
   "source": [
    "**Goal: find the optimal parameters for a model without trying all combinations**\n",
    "\n",
    "we use a linear model:\n",
    "\n",
    "$\\hat y = a_1x_1 + a_2x_2 + a_0 \\cdot 1$\n",
    "\n",
    "the model has 3 parameters (a0, a1, a2)\n",
    "\n",
    "$\\hat y = aX$\n",
    "\n",
    "a is a vector of parameters, X is a matrix with our input training data. aX is a dot product of a vector and a matrix."
   ]
  },
  {
   "cell_type": "code",
   "execution_count": 1,
   "id": "876444fe",
   "metadata": {},
   "outputs": [],
   "source": [
    "import pandas as pd\n",
    "import numpy as np\n",
    "import seaborn as sns\n",
    "from matplotlib import pyplot as plt"
   ]
  },
  {
   "cell_type": "code",
   "execution_count": 2,
   "id": "933cf834",
   "metadata": {},
   "outputs": [
    {
     "data": {
      "text/html": [
       "<div>\n",
       "<style scoped>\n",
       "    .dataframe tbody tr th:only-of-type {\n",
       "        vertical-align: middle;\n",
       "    }\n",
       "\n",
       "    .dataframe tbody tr th {\n",
       "        vertical-align: top;\n",
       "    }\n",
       "\n",
       "    .dataframe thead th {\n",
       "        text-align: right;\n",
       "    }\n",
       "</style>\n",
       "<table border=\"1\" class=\"dataframe\">\n",
       "  <thead>\n",
       "    <tr style=\"text-align: right;\">\n",
       "      <th></th>\n",
       "      <th>species</th>\n",
       "      <th>island</th>\n",
       "      <th>bill_length_mm</th>\n",
       "      <th>bill_depth_mm</th>\n",
       "      <th>flipper_length_mm</th>\n",
       "      <th>body_mass_g</th>\n",
       "      <th>sex</th>\n",
       "      <th>bias</th>\n",
       "    </tr>\n",
       "  </thead>\n",
       "  <tbody>\n",
       "    <tr>\n",
       "      <th>0</th>\n",
       "      <td>Adelie</td>\n",
       "      <td>Torgersen</td>\n",
       "      <td>39.1</td>\n",
       "      <td>18.7</td>\n",
       "      <td>181.0</td>\n",
       "      <td>3750.0</td>\n",
       "      <td>Male</td>\n",
       "      <td>1</td>\n",
       "    </tr>\n",
       "    <tr>\n",
       "      <th>1</th>\n",
       "      <td>Adelie</td>\n",
       "      <td>Torgersen</td>\n",
       "      <td>39.5</td>\n",
       "      <td>17.4</td>\n",
       "      <td>186.0</td>\n",
       "      <td>3800.0</td>\n",
       "      <td>Female</td>\n",
       "      <td>1</td>\n",
       "    </tr>\n",
       "    <tr>\n",
       "      <th>2</th>\n",
       "      <td>Adelie</td>\n",
       "      <td>Torgersen</td>\n",
       "      <td>40.3</td>\n",
       "      <td>18.0</td>\n",
       "      <td>195.0</td>\n",
       "      <td>3250.0</td>\n",
       "      <td>Female</td>\n",
       "      <td>1</td>\n",
       "    </tr>\n",
       "  </tbody>\n",
       "</table>\n",
       "</div>"
      ],
      "text/plain": [
       "  species     island  bill_length_mm  bill_depth_mm  flipper_length_mm  \\\n",
       "0  Adelie  Torgersen            39.1           18.7              181.0   \n",
       "1  Adelie  Torgersen            39.5           17.4              186.0   \n",
       "2  Adelie  Torgersen            40.3           18.0              195.0   \n",
       "\n",
       "   body_mass_g     sex  bias  \n",
       "0       3750.0    Male     1  \n",
       "1       3800.0  Female     1  \n",
       "2       3250.0  Female     1  "
      ]
     },
     "execution_count": 2,
     "metadata": {},
     "output_type": "execute_result"
    }
   ],
   "source": [
    "df = sns.load_dataset(\"penguins\").dropna()\n",
    "df[\"bias\"] = 1\n",
    "df.head(3)"
   ]
  },
  {
   "cell_type": "code",
   "execution_count": 3,
   "id": "31a7abc1",
   "metadata": {},
   "outputs": [
    {
     "data": {
      "text/plain": [
       "((333, 3), (333,))"
      ]
     },
     "execution_count": 3,
     "metadata": {},
     "output_type": "execute_result"
    }
   ],
   "source": [
    "# select training data\n",
    "X = df[[\"bill_depth_mm\", \"bill_length_mm\", \"bias\"]]  # if you leave away the bias, the regression goes through the origin (0,0)\n",
    "ytrue = df[\"body_mass_g\"]\n",
    "\n",
    "X.shape, ytrue.shape  # X is a 2D matrix, ytrue is a vector"
   ]
  },
  {
   "cell_type": "markdown",
   "id": "8eaef9a9",
   "metadata": {},
   "source": [
    "### Linear Model"
   ]
  },
  {
   "cell_type": "code",
   "execution_count": 6,
   "id": "e51b3d46",
   "metadata": {},
   "outputs": [],
   "source": [
    "def linear_model(X, a):\n",
    "    # a: a vector of 3 parameters (3,)\n",
    "    # X: a (N, 3) matrix\n",
    "    # y = a1 * x1 + a2 * x2 + a0 * x0\n",
    "    return np.dot(X, a)"
   ]
  },
  {
   "cell_type": "code",
   "execution_count": 7,
   "id": "bf85958f",
   "metadata": {},
   "outputs": [
    {
     "data": {
      "text/plain": [
       "(333,)"
      ]
     },
     "execution_count": 7,
     "metadata": {},
     "output_type": "execute_result"
    }
   ],
   "source": [
    "a = np.array([1, 2, 3])      # arbitrary parameters for testing\n",
    "yhat = linear_model(X, a)    # output is 1000 values for y\n",
    "yhat.shape"
   ]
  },
  {
   "cell_type": "markdown",
   "id": "b758c22b",
   "metadata": {},
   "source": [
    "### Loss Function"
   ]
  },
  {
   "cell_type": "code",
   "execution_count": 12,
   "id": "f1d6add0",
   "metadata": {},
   "outputs": [],
   "source": [
    "def mse(ytrue, yhat):\n",
    "    return ((ytrue - yhat) ** 2).sum() / ytrue.shape[0]"
   ]
  },
  {
   "cell_type": "code",
   "execution_count": 16,
   "id": "97353a0b",
   "metadata": {},
   "outputs": [],
   "source": [
    "# test code\n",
    "a = np.array([1.0, 1.2, 1.4, 1.6])\n",
    "b = np.array([0.2, 0.4, 0.6, 0.8])\n",
    "\n",
    "assert round(mse(a, b), 2) == 0.64  # if there is no error it is correct"
   ]
  },
  {
   "cell_type": "code",
   "execution_count": 17,
   "id": "d4bfffb0",
   "metadata": {},
   "outputs": [
    {
     "data": {
      "text/plain": [
       "np.float64(0.0)"
      ]
     },
     "execution_count": 17,
     "metadata": {},
     "output_type": "execute_result"
    }
   ],
   "source": [
    "mse(ytrue, ytrue)  # 0.0 is the smallest possible MSE value"
   ]
  },
  {
   "cell_type": "markdown",
   "id": "e2b31055",
   "metadata": {},
   "source": [
    "### Gradient\n",
    "\n",
    "$a_{new} = a_{old} - \\eta \\nabla loss(a)$"
   ]
  },
  {
   "cell_type": "code",
   "execution_count": 18,
   "id": "90ae8c13",
   "metadata": {},
   "outputs": [],
   "source": [
    "def partial_derivative(X, ytrue, a, index, mse_old, epsilon=0.001):\n",
    "    \"\"\"determine by how much we have to modify the indexed parameter\"\"\"\n",
    "    a_change = a.copy()\n",
    "    a_change[index] += epsilon                # modify parameter by small constant\n",
    "    ypred_a = linear_model(X=X, a=a_change)   # predict with the modification\n",
    "    mse_a = mse(ytrue, ypred_a)               # calculate new MSE\n",
    "    return (mse_a - mse_old) / epsilon\n",
    "\n",
    "\n",
    "def calc_gradient(X, ytrue, a):\n",
    "    \"\"\"calculate partial derivative for each parameter\"\"\"\n",
    "    ypred = linear_model(X=X, a=a)   # prediction for y with the parameters we have now\n",
    "    mse_old = mse(ytrue, ypred)\n",
    "    return [\n",
    "        partial_derivative(X, ytrue, a, index, mse_old)\n",
    "        for index in range(3)\n",
    "    ]\n",
    "\n",
    "def gradient(X, y, a):\n",
    "    \"\"\"more accurate, based on actual derivative\"\"\"\n",
    "    a1, a2, b = a[0], a[1], a[2]\n",
    "    x1, x2 = X[\"x1\"], X[\"x2\"]\n",
    "    \n",
    "    slope_a1 = np.mean(a1 * x1**2 + a2 * x1 * x2 + b * x1 - x1 * y)\n",
    "    slope_a2 = np.mean(a2 * x2**2 + a1 * x2 * x1 + b * x2 - x2 * y)\n",
    "    slope_b = np.mean(b + a1 * x1 + a2 * x2 - y)\n",
    "    \n",
    "    return np.array([slope_a1, slope_a2, slope_b])"
   ]
  },
  {
   "cell_type": "code",
   "execution_count": 26,
   "id": "600dbd7b",
   "metadata": {},
   "outputs": [],
   "source": [
    "learning_rate = 0.00001\n",
    "\n",
    "np.random.seed(42)            # set the seed value of the random number generator\n",
    "a = np.random.random(size=3)  # random parameter vector\n",
    "\n",
    "history = []\n",
    "for i in range(100):    \n",
    "    gradient = np.array(calc_gradient(X=X, ytrue=ytrue, a=a))\n",
    "    a -= learning_rate * gradient\n",
    "    ypred = linear_model(X=X, a=a)\n",
    "    history.append(mse(ytrue, ypred))"
   ]
  },
  {
   "cell_type": "markdown",
   "id": "93ac723d",
   "metadata": {},
   "source": [
    "#### Learning Curve"
   ]
  },
  {
   "cell_type": "code",
   "execution_count": 27,
   "id": "103b4a68",
   "metadata": {},
   "outputs": [
    {
     "data": {
      "text/plain": [
       "np.float64(460707.3108994741)"
      ]
     },
     "execution_count": 27,
     "metadata": {},
     "output_type": "execute_result"
    },
    {
     "data": {
      "image/png": "[encoded data removed]",
      "text/plain": [
       "<Figure size 640x480 with 1 Axes>"
      ]
     },
     "metadata": {},
     "output_type": "display_data"
    }
   ],
   "source": [
    "plt.plot(history)\n",
    "history[-1]"
   ]
  },
  {
   "cell_type": "markdown",
   "id": "aaedb0c4",
   "metadata": {},
   "source": [
    "### Implementation with Scikit"
   ]
  },
  {
   "cell_type": "code",
   "execution_count": 29,
   "id": "b5abe06e",
   "metadata": {},
   "outputs": [
    {
     "data": {
      "text/plain": [
       "np.float64(460707.3108994741)"
      ]
     },
     "execution_count": 29,
     "metadata": {},
     "output_type": "execute_result"
    }
   ],
   "source": [
    "history[-1]"
   ]
  },
  {
   "cell_type": "code",
   "execution_count": null,
   "id": "9f044cca",
   "metadata": {},
   "outputs": [
    {
     "data": {
      "text/plain": [
       "344244.470226889"
      ]
     },
     "execution_count": 31,
     "metadata": {},
     "output_type": "execute_result"
    }
   ],
   "source": [
    "from sklearn.linear_model import LinearRegression\n",
    "from sklearn.metrics import mean_squared_error\n",
    "\n",
    "lr = LinearRegression().fit(X, ytrue)\n",
    "ypred = lr.predict(X)\n",
    "mean_squared_error(ypred, ytrue)\n",
    "#mse(ypred, ytrue)"
   ]
  },
  {
   "cell_type": "code",
   "execution_count": null,
   "id": "1681bfa4",
   "metadata": {},
   "outputs": [],
   "source": []
  }
 ],
 "metadata": {
  "kernelspec": {
   "display_name": "Python 3 (ipykernel)",
   "language": "python",
   "name": "python3"
  },
  "language_info": {
   "codemirror_mode": {
    "name": "ipython",
    "version": 3
   },
   "file_extension": ".py",
   "mimetype": "text/x-python",
   "name": "python",
   "nbconvert_exporter": "python",
   "pygments_lexer": "ipython3",
   "version": "3.13.7"
  }
 },
 "nbformat": 4,
 "nbformat_minor": 5
}
