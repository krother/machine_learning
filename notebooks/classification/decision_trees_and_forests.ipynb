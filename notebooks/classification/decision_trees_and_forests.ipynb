{
 "cells": [
  {
   "cell_type": "markdown",
   "metadata": {},
   "source": [
    "# Decision Trees and Random Forests\n",
    "\n",
    "**Goal: identify the penguin species based on their measures.**"
   ]
  },
  {
   "cell_type": "code",
   "execution_count": null,
   "metadata": {},
   "outputs": [],
   "source": [
    "import pickle\n",
    "\n",
    "import numpy as np\n",
    "import pandas as pd\n",
    "import seaborn as sns\n",
    "\n",
    "from matplotlib import pyplot as plt\n",
    "\n",
    "from sklearn.compose import ColumnTransformer\n",
    "from sklearn.metrics import accuracy_score\n",
    "from sklearn.model_selection import train_test_split\n",
    "from sklearn.preprocessing import OneHotEncoder\n",
    "from sklearn.tree import DecisionTreeClassifier, plot_tree\n",
    "from sklearn.ensemble import RandomForestClassifier"
   ]
  },
  {
   "cell_type": "markdown",
   "metadata": {},
   "source": [
    "### Preparations\n",
    "Similar to the ML Workflow notebook."
   ]
  },
  {
   "cell_type": "code",
   "execution_count": null,
   "metadata": {},
   "outputs": [],
   "source": [
    "# get the data\n",
    "df = pd.read_csv('../data/penguins_simple.csv', sep=';')"
   ]
  },
  {
   "cell_type": "code",
   "execution_count": null,
   "metadata": {},
   "outputs": [],
   "source": [
    "# train-validation-test split\n",
    "train_val, test = train_test_split(df, test_size=0.2, random_state=42)    # <-- now reproducibility pays off\n",
    "train, val = train_test_split(train_val, test_size=0.2, random_state=43)"
   ]
  },
  {
   "cell_type": "code",
   "execution_count": null,
   "metadata": {},
   "outputs": [],
   "source": [
    "# define X and y\n",
    "COLUMNS = ['Culmen Length (mm)', 'Culmen Depth (mm)',\n",
    "           'Flipper Length (mm)', 'Body Mass (g)', 'Sex']\n",
    "\n",
    "Xtrain = train[COLUMNS]\n",
    "Xval = val[COLUMNS]\n",
    "\n",
    "ytrain = train['Species']\n",
    "yval = val['Species']"
   ]
  },
  {
   "cell_type": "markdown",
   "metadata": {},
   "source": [
    "### Data Exploration"
   ]
  },
  {
   "cell_type": "code",
   "execution_count": null,
   "metadata": {},
   "outputs": [],
   "source": [
    "sns.scatterplot(x='Culmen Length (mm)', y='Culmen Depth (mm)', hue=ytrain, data=Xtrain)"
   ]
  },
  {
   "cell_type": "markdown",
   "metadata": {},
   "source": [
    "### Building a Decision Tree from Scratch\n",
    "\n",
    "#### Exercise 1: Edit the conditionals to make one prediction for every penguin"
   ]
  },
  {
   "cell_type": "code",
   "execution_count": null,
   "metadata": {},
   "outputs": [],
   "source": [
    "predictions = []\n",
    "for _, row in Xtrain.iterrows():\n",
    "    if row['Culmen Depth (mm)'] > 16:      # the column name and threshold are set automatically in a DTC\n",
    "        if row['Culmen Length (mm)'] < 45:\n",
    "            predictions.append('Adelie')   # the alternatives are 'Gentoo', 'Chinstrap'\n",
    "        else:\n",
    "            predictions.append('Chinstrap')   # the alternatives are 'Gentoo', 'Chinstrap'\n",
    "    else:\n",
    "        predictions.append('Gentoo')"
   ]
  },
  {
   "cell_type": "code",
   "execution_count": null,
   "metadata": {},
   "outputs": [],
   "source": [
    "# calculate the accuracy of the model\n",
    "round(accuracy_score(predictions, ytrain),3)"
   ]
  },
  {
   "cell_type": "markdown",
   "metadata": {},
   "source": [
    "## Find the optimal separation with Scikit"
   ]
  },
  {
   "cell_type": "code",
   "execution_count": null,
   "metadata": {},
   "outputs": [],
   "source": [
    "# feature engineering\n",
    "ohc = ColumnTransformer([\n",
    "    ('one-hot', OneHotEncoder(drop='first', handle_unknown='error', sparse=False), ['Sex']),\n",
    "    ('do nothing', 'passthrough', COLUMNS[:-1])\n",
    "])\n",
    "ohc.fit(Xtrain)\n",
    "Xtrans = ohc.transform(Xtrain)"
   ]
  },
  {
   "cell_type": "code",
   "execution_count": null,
   "metadata": {},
   "outputs": [],
   "source": [
    "# train the model\n",
    "m = DecisionTreeClassifier(max_depth=5)  # we allow that many questions\n",
    "m.fit(Xtrans, ytrain)"
   ]
  },
  {
   "cell_type": "code",
   "execution_count": null,
   "metadata": {},
   "outputs": [],
   "source": [
    "# evaluate on the training data\n",
    "ypred = m.predict(Xtrans)\n",
    "round(accuracy_score(ypred, ytrain), 3)"
   ]
  },
  {
   "cell_type": "code",
   "execution_count": null,
   "metadata": {},
   "outputs": [],
   "source": [
    "# evaluate on the validation data\n",
    "Xtrans_val = ohc.transform(Xval)\n",
    "ypred_val = m.predict(Xtrans_val)\n",
    "round(accuracy_score(ypred_val, yval), 3)"
   ]
  },
  {
   "cell_type": "markdown",
   "metadata": {},
   "source": [
    "#### Exercise 2: Try a `max_depth` hyperparameter of 1, 5 and 10 as well. What do you observe?"
   ]
  },
  {
   "cell_type": "markdown",
   "metadata": {},
   "source": [
    "## Plot the tree"
   ]
  },
  {
   "cell_type": "code",
   "execution_count": null,
   "metadata": {},
   "outputs": [],
   "source": [
    "plt.figure(figsize=(12, 8))\n",
    "t = plot_tree(m, \n",
    "              feature_names=['Sex'] + COLUMNS[:-1],\n",
    "              class_names=['Adelie', 'Chinstrap', 'Gentoo'],  # alphabetical\n",
    "              filled=True\n",
    "             )"
   ]
  },
  {
   "cell_type": "markdown",
   "metadata": {},
   "source": [
    "## RandomForests"
   ]
  },
  {
   "cell_type": "code",
   "execution_count": null,
   "metadata": {},
   "outputs": [],
   "source": [
    "# same procedure, different model, different hyperparameters\n",
    "m = RandomForestClassifier(n_estimators=200, max_depth=5, random_state=42, n_jobs=-1)\n",
    "#                          number of trees               random seed\n",
    "m.fit(Xtrans, ytrain)"
   ]
  },
  {
   "cell_type": "code",
   "execution_count": null,
   "metadata": {},
   "outputs": [],
   "source": [
    "# evaluate on the training data\n",
    "ypred = m.predict(Xtrans)\n",
    "round(accuracy_score(ypred, ytrain), 3)"
   ]
  },
  {
   "cell_type": "code",
   "execution_count": null,
   "metadata": {},
   "outputs": [],
   "source": [
    "# evaluate on the validation data\n",
    "Xtrans_val = ohc.transform(Xval)\n",
    "ypred_val = m.predict(Xtrans_val)\n",
    "round(accuracy_score(ypred_val, yval), 3)"
   ]
  },
  {
   "cell_type": "markdown",
   "metadata": {},
   "source": [
    "#### Exercise 3: Tune the hyperparamaters so that you get a validation accuracy of at least 97% "
   ]
  },
  {
   "cell_type": "code",
   "execution_count": null,
   "metadata": {},
   "outputs": [],
   "source": [
    "m.feature_importances_"
   ]
  },
  {
   "cell_type": "code",
   "execution_count": null,
   "metadata": {},
   "outputs": [],
   "source": [
    "Xtrain.columns"
   ]
  },
  {
   "cell_type": "code",
   "execution_count": null,
   "metadata": {},
   "outputs": [],
   "source": [
    "pickle.dump(m, open('penguin_forest.pkl', 'wb'))"
   ]
  },
  {
   "cell_type": "code",
   "execution_count": null,
   "metadata": {},
   "outputs": [],
   "source": []
  }
 ],
 "metadata": {
  "kernelspec": {
   "display_name": "Python 3",
   "language": "python",
   "name": "python3"
  },
  "language_info": {
   "codemirror_mode": {
    "name": "ipython",
    "version": 3
   },
   "file_extension": ".py",
   "mimetype": "text/x-python",
   "name": "python",
   "nbconvert_exporter": "python",
   "pygments_lexer": "ipython3",
   "version": "3.8.10"
  },
  "varInspector": {
   "cols": {
    "lenName": 16,
    "lenType": 16,
    "lenVar": 40
   },
   "kernels_config": {
    "python": {
     "delete_cmd_postfix": "",
     "delete_cmd_prefix": "del ",
     "library": "var_list.py",
     "varRefreshCmd": "print(var_dic_list())"
    },
    "r": {
     "delete_cmd_postfix": ") ",
     "delete_cmd_prefix": "rm(",
     "library": "var_list.r",
     "varRefreshCmd": "cat(var_dic_list()) "
    }
   },
   "types_to_exclude": [
    "module",
    "function",
    "builtin_function_or_method",
    "instance",
    "_Feature"
   ],
   "window_display": false
  }
 },
 "nbformat": 4,
 "nbformat_minor": 2
}
