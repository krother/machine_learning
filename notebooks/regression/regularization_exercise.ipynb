{
 "cells": [
  {
   "cell_type": "markdown",
   "metadata": {},
   "source": [
    "# Regularization"
   ]
  },
  {
   "cell_type": "markdown",
   "metadata": {},
   "source": [
    "We generate some random data and overfit it on purpose.\n",
    "\n",
    "Let's create data that follows this equation:\n",
    "\n",
    "\n",
    "$y = \\sqrt x$\n",
    "\n",
    "We add random noise to make the data more interesting."
   ]
  },
  {
   "cell_type": "code",
   "execution_count": null,
   "metadata": {},
   "outputs": [],
   "source": [
    "import numpy as np"
   ]
  },
  {
   "cell_type": "code",
   "execution_count": null,
   "metadata": {},
   "outputs": [],
   "source": [
    "np.random.seed(42)\n",
    "\n",
    "X = np.linspace(0, 60, 1000)\n",
    "y = np.sqrt(X) + np.random.normal(loc=0.0, scale=1.0, size=X.shape[0])"
   ]
  },
  {
   "cell_type": "code",
   "execution_count": null,
   "metadata": {},
   "outputs": [],
   "source": [
    "import matplotlib.pyplot as plt\n",
    "\n",
    "plt.scatter(X, y)"
   ]
  },
  {
   "cell_type": "markdown",
   "metadata": {},
   "source": [
    "---"
   ]
  },
  {
   "cell_type": "markdown",
   "metadata": {},
   "source": [
    "### Overfit the model\n",
    "\n",
    "**Now let's intentionally overfit a model that focuses too much on training examples.**"
   ]
  },
  {
   "cell_type": "code",
   "execution_count": null,
   "metadata": {},
   "outputs": [],
   "source": [
    "Xtrain.shape, ytrain.shape"
   ]
  },
  {
   "cell_type": "code",
   "execution_count": null,
   "metadata": {},
   "outputs": [],
   "source": [
    "Xpoly.shape"
   ]
  },
  {
   "cell_type": "code",
   "execution_count": null,
   "metadata": {},
   "outputs": [],
   "source": [
    "from sklearn.preprocessing import PolynomialFeatures\n",
    "from sklearn.linear_model import LinearRegression\n",
    "\n",
    "Xtrain = X.reshape(-1, 1)\n",
    "ytrain = y\n",
    "\n",
    "poly = PolynomialFeatures(degree=8) \n",
    "m = LinearRegression() \n",
    "\n",
    "Xpoly = poly.fit_transform(Xtrain)  # do this only on training data!!!\n",
    "\n",
    "m.fit(Xpoly, ytrain)\n",
    "\n",
    "ypred = m.predict(Xpoly)"
   ]
  },
  {
   "cell_type": "code",
   "execution_count": null,
   "metadata": {},
   "outputs": [],
   "source": [
    "ypred.shape"
   ]
  },
  {
   "cell_type": "code",
   "execution_count": null,
   "metadata": {},
   "outputs": [],
   "source": [
    "plt.scatter(X, y)\n",
    "plt.plot(X, ypred, 'r-')"
   ]
  },
  {
   "cell_type": "markdown",
   "metadata": {},
   "source": [
    "### Regularize\n",
    "\n",
    "Reduce the complexity through regularization\n",
    "\n",
    "#### Exercise: Increase alpha and observe what happens"
   ]
  },
  {
   "cell_type": "code",
   "execution_count": null,
   "metadata": {},
   "outputs": [],
   "source": [
    "from sklearn.linear_model import Ridge\n",
    "from sklearn.preprocessing import MinMaxScaler\n",
    "\n",
    "Xscaled = MinMaxScaler().fit_transform(Xpoly)\n",
    "\n",
    "m = LinearRegression() \n",
    "r = Ridge(alpha=0.001)  # alpha: strength of the regularization penalty\n",
    "\n",
    "m.fit(Xscaled, y)       \n",
    "r.fit(Xscaled, y)  \n",
    "\n",
    "ypred = m.predict(Xscaled)\n",
    "ypred_ridge = r.predict(Xscaled)\n",
    "\n",
    "plt.figure(figsize=(12, 8))\n",
    "plt.scatter(X, y)\n",
    "plt.plot(X, ypred)\n",
    "plt.plot(X, ypred_ridge)\n",
    "plt.plot(X, np.sqrt(X))\n",
    "plt.legend(['No regularization', 'Ridge Regularization'])"
   ]
  },
  {
   "cell_type": "code",
   "execution_count": null,
   "metadata": {},
   "outputs": [],
   "source": [
    "# also try:\n",
    "from sklearn.linear_model import Lasso\n",
    "# Lasso is used in the same way as Ridge"
   ]
  },
  {
   "cell_type": "code",
   "execution_count": null,
   "metadata": {},
   "outputs": [],
   "source": []
  }
 ],
 "metadata": {
  "kernelspec": {
   "display_name": "Python 3",
   "language": "python",
   "name": "python3"
  },
  "language_info": {
   "codemirror_mode": {
    "name": "ipython",
    "version": 3
   },
   "file_extension": ".py",
   "mimetype": "text/x-python",
   "name": "python",
   "nbconvert_exporter": "python",
   "pygments_lexer": "ipython3",
   "version": "3.8.10"
  }
 },
 "nbformat": 4,
 "nbformat_minor": 4
}
