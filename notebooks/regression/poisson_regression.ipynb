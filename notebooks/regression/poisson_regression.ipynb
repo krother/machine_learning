{
 "cells": [
  {
   "cell_type": "markdown",
   "metadata": {},
   "source": [
    "# Bike sharing demand in Washington, D.C.\n",
    "\n",
    "https://www.kaggle.com/c/bike-sharing-demand/data\n",
    "\n",
    "\n",
    "- hourly rental data spanning two years\n",
    "- the training set is comprised of the first 19 days of each month, while the test set is the 20th to the end of the month\n",
    "- goal: predict the total **count** of bikes rented during each hour covered by the test set, using only information available prior to the rental period\n",
    "- evaluation based on [Root Mean Squared Logarithmic Error](https://scikit-learn.org/stable/modules/generated/sklearn.metrics.mean_squared_log_error.html)"
   ]
  },
  {
   "cell_type": "code",
   "execution_count": null,
   "metadata": {},
   "outputs": [],
   "source": [
    "import pandas as pd\n",
    "import numpy as np\n",
    "from sklearn import metrics\n",
    "from sklearn.preprocessing import FunctionTransformer\n",
    "from sklearn.ensemble import RandomForestRegressor\n",
    "from sklearn.linear_model import PoissonRegressor\n",
    "from sklearn.model_selection import train_test_split\n",
    "from sklearn.compose import make_column_transformer, TransformedTargetRegressor\n",
    "from sklearn.pipeline import make_pipeline\n",
    "import seaborn as sns\n",
    "import matplotlib.pyplot as plt\n",
    "from sklearn.model_selection import GridSearchCV\n",
    "from sklearn.preprocessing import PolynomialFeatures, OneHotEncoder, StandardScaler"
   ]
  },
  {
   "cell_type": "code",
   "execution_count": null,
   "metadata": {},
   "outputs": [],
   "source": [
    "train = pd.read_csv('../data/bicycles/train.csv', parse_dates=[0])\n",
    "test = pd.read_csv('../data/bicycles/test.csv', parse_dates=[0])\n",
    "submission = pd.read_csv('../data/bicycles/sampleSubmission.csv', parse_dates=[0])\n",
    "train.head()"
   ]
  },
  {
   "cell_type": "code",
   "execution_count": null,
   "metadata": {},
   "outputs": [],
   "source": [
    "def create_date_features(df):\n",
    "    x = df['datetime']\n",
    "    return pd.DataFrame({\n",
    "        'month': x.dt.month,\n",
    "        'hour': x.dt.hour,\n",
    "        'week': x.dt.isocalendar().week,\n",
    "        'weekday': x.dt.weekday\n",
    "    })"
   ]
  },
  {
   "cell_type": "code",
   "execution_count": null,
   "metadata": {},
   "outputs": [],
   "source": [
    "datetime_pipeline = make_pipeline(\n",
    "    FunctionTransformer(create_date_features, validate=False),\n",
    "    OneHotEncoder(handle_unknown='ignore')\n",
    ")\n",
    "\n",
    "\n",
    "transformer = make_column_transformer(\n",
    "    (datetime_pipeline, ['datetime']),\n",
    "    (StandardScaler(), ['temp', 'atemp', 'humidity', 'windspeed']),         \n",
    "    (OneHotEncoder(handle_unknown='ignore'), ['season', 'weather']),\n",
    "    ('passthrough', ['workingday', 'holiday'])\n",
    ")"
   ]
  },
  {
   "cell_type": "code",
   "execution_count": null,
   "metadata": {},
   "outputs": [],
   "source": [
    "model_pipeline = make_pipeline(\n",
    "    transformer, \n",
    "    PolynomialFeatures(), \n",
    "    PoissonRegressor(max_iter=1000)\n",
    ")"
   ]
  },
  {
   "cell_type": "code",
   "execution_count": null,
   "metadata": {},
   "outputs": [],
   "source": [
    "# to see all parameters use:\n",
    "# model_pipeline.get_params().keys()"
   ]
  },
  {
   "cell_type": "code",
   "execution_count": null,
   "metadata": {},
   "outputs": [],
   "source": [
    "param_grid = {\n",
    "    'polynomialfeatures__degree': [1, 2], \n",
    "    'poissonregressor__alpha': [0.0001, 0.001, 0.01, 0.1, 1, 10, 100]\n",
    "}"
   ]
  },
  {
   "cell_type": "code",
   "execution_count": null,
   "metadata": {},
   "outputs": [],
   "source": [
    "X_train = train.drop(['casual','registered', 'count'], axis=1)\n",
    "y_train = train['count']"
   ]
  },
  {
   "cell_type": "code",
   "execution_count": null,
   "metadata": {},
   "outputs": [],
   "source": [
    "def rmsle(y, y_pred):   \n",
    "    \"\"\"root mean square log, capped at zero\"\"\"\n",
    "    y_pred[y_pred < 0] = 0\n",
    "        \n",
    "    return np.sqrt(metrics.mean_squared_log_error(y, y_pred))\n",
    "\n",
    "neg_rmsle_score = metrics.make_scorer(rmsle, greater_is_better=False)"
   ]
  },
  {
   "cell_type": "code",
   "execution_count": null,
   "metadata": {
    "scrolled": true
   },
   "outputs": [],
   "source": [
    "cv = GridSearchCV(\n",
    "    model_pipeline, \n",
    "    param_grid, \n",
    "    return_train_score=True, \n",
    "    scoring=neg_rmsle_score, \n",
    "    cv=5, \n",
    "    n_jobs=4, \n",
    "    refit=True,\n",
    "    verbose=1\n",
    ")\n",
    "cv.fit(X_train, y_train)\n",
    "cv_res = pd.DataFrame(cv.cv_results_)"
   ]
  },
  {
   "cell_type": "code",
   "execution_count": null,
   "metadata": {},
   "outputs": [],
   "source": [
    "cv_res[[\n",
    "    'param_polynomialfeatures__degree',\n",
    "    'param_poissonregressor__alpha',\n",
    "    'mean_train_score', \n",
    "    'mean_test_score'\n",
    "]].sort_values('mean_test_score').abs()"
   ]
  },
  {
   "cell_type": "code",
   "execution_count": null,
   "metadata": {},
   "outputs": [],
   "source": [
    "row_filter = cv_res['param_polynomialfeatures__degree'] == 2\n",
    "cv_res.loc[row_filter, [\n",
    "    'param_poissonregressor__alpha',\n",
    "    'mean_train_score', \n",
    "    'mean_test_score'\n",
    "]].abs().plot(x='param_poissonregressor__alpha', logx=True)"
   ]
  },
  {
   "cell_type": "code",
   "execution_count": null,
   "metadata": {},
   "outputs": [],
   "source": [
    "cv.best_params_"
   ]
  },
  {
   "cell_type": "code",
   "execution_count": null,
   "metadata": {},
   "outputs": [],
   "source": [
    "y_pred = cv.best_estimator_.predict(test)\n",
    "y_pred[y_pred < 0] = 0\n",
    "assert all(y_pred >= 0)"
   ]
  },
  {
   "cell_type": "code",
   "execution_count": null,
   "metadata": {},
   "outputs": [],
   "source": [
    "submission['count'] = y_pred"
   ]
  },
  {
   "cell_type": "code",
   "execution_count": null,
   "metadata": {},
   "outputs": [],
   "source": [
    "submission.to_csv('submission.csv', index=False)"
   ]
  },
  {
   "cell_type": "code",
   "execution_count": null,
   "metadata": {},
   "outputs": [],
   "source": []
  }
 ],
 "metadata": {
  "kernelspec": {
   "display_name": "Python 3",
   "language": "python",
   "name": "python3"
  },
  "language_info": {
   "codemirror_mode": {
    "name": "ipython",
    "version": 3
   },
   "file_extension": ".py",
   "mimetype": "text/x-python",
   "name": "python",
   "nbconvert_exporter": "python",
   "pygments_lexer": "ipython3",
   "version": "3.8.10"
  }
 },
 "nbformat": 4,
 "nbformat_minor": 2
}
