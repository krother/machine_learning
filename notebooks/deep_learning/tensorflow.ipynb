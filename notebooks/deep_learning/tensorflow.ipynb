{
 "cells": [
  {
   "cell_type": "markdown",
   "metadata": {},
   "source": [
    "# TensorFlow"
   ]
  },
  {
   "cell_type": "code",
   "execution_count": 11,
   "metadata": {},
   "outputs": [],
   "source": [
    "import numpy as np\n",
    "import tensorflow as tf\n",
    "\n",
    "from matplotlib import pyplot as plt\n",
    "\n",
    "from tensorflow.keras import backend as K\n",
    "from tensorflow.keras.utils import to_categorical\n",
    "from tensorflow.keras.layers import Dense, Activation, BatchNormalization\n",
    "from tensorflow.keras.models import Sequential\n",
    "from tensorflow.keras.datasets import mnist"
   ]
  },
  {
   "cell_type": "code",
   "execution_count": 2,
   "metadata": {},
   "outputs": [],
   "source": [
    "(Xtrain, _ytrain), (Xtest, _ytest) = mnist.load_data()"
   ]
  },
  {
   "cell_type": "markdown",
   "metadata": {},
   "source": [
    "What do the numbers represent?\n",
    "- **60,000** images (Numpy Arrays), where each image has\n",
    "- **28** rows (i.e. height), and \n",
    "- **28** columns (i.e. width)"
   ]
  },
  {
   "cell_type": "code",
   "execution_count": 3,
   "metadata": {},
   "outputs": [
    {
     "data": {
      "text/plain": [
       "<matplotlib.image.AxesImage at 0x7f07d8bc3880>"
      ]
     },
     "execution_count": 3,
     "metadata": {},
     "output_type": "execute_result"
    },
    {
     "data": {
      "image/png": "[encoded data removed]",
      "text/plain": [
       "<Figure size 432x288 with 1 Axes>"
      ]
     },
     "metadata": {
      "needs_background": "light"
     },
     "output_type": "display_data"
    }
   ],
   "source": [
    "# plot a sample image\n",
    "plt.imshow(Xtrain[1].reshape(28, 28))"
   ]
  },
  {
   "cell_type": "markdown",
   "metadata": {},
   "source": [
    "### Data Preparation\n",
    "\n",
    "we one-hot-encode y and flatten X:"
   ]
  },
  {
   "cell_type": "code",
   "execution_count": 4,
   "metadata": {},
   "outputs": [],
   "source": [
    "Xtrain = Xtrain.reshape(60000, 28*28)\n",
    "Xtest = Xtest.reshape(10000, 28*28)\n",
    "ytrain = to_categorical(_ytrain)\n",
    "ytest = to_categorical(_ytest)"
   ]
  },
  {
   "cell_type": "code",
   "execution_count": 5,
   "metadata": {},
   "outputs": [
    {
     "data": {
      "text/plain": [
       "((60000, 10), (10000, 10))"
      ]
     },
     "execution_count": 5,
     "metadata": {},
     "output_type": "execute_result"
    }
   ],
   "source": [
    "ytrain.shape, ytest.shape"
   ]
  },
  {
   "cell_type": "markdown",
   "metadata": {},
   "source": [
    "### Defining the Model\n",
    "    \n",
    "- input shape is **super important**. The tuple defines the shape of a single data point. The network doesn't care how many data points it receives (it's going to get different number of data points during training and testing, anyways)\n",
    "- the dense layers get their biases automatically. Keras handles this for us. weights are also initialized automatically (this is rarely necessary to change)\n"
   ]
  },
  {
   "cell_type": "code",
   "execution_count": 14,
   "metadata": {},
   "outputs": [],
   "source": [
    "from tensorflow.keras.layers import BatchNormalization"
   ]
  },
  {
   "cell_type": "code",
   "execution_count": 24,
   "metadata": {},
   "outputs": [],
   "source": [
    "K.clear_session()\n",
    "\n",
    "model = Sequential([\n",
    "    \n",
    "    Dense(20, input_shape=(28 * 28,)),   # hidden layer\n",
    "    Activation('sigmoid'),\n",
    "    BatchNormalization(),\n",
    "    Dense(200),                           # hidden layer\n",
    "    Activation('sigmoid'),\n",
    "    Dense(200),                           # hidden layer\n",
    "    Activation('sigmoid'),\n",
    "    Dense(200),                           # hidden layer\n",
    "    Activation('sigmoid'),\n",
    "    BatchNormalization(),\n",
    "    Dense(10),                           # output layer\n",
    "    Activation('softmax'),\n",
    "])"
   ]
  },
  {
   "cell_type": "code",
   "execution_count": 25,
   "metadata": {},
   "outputs": [
    {
     "name": "stdout",
     "output_type": "stream",
     "text": [
      "Model: \"sequential\"\n",
      "_________________________________________________________________\n",
      "Layer (type)                 Output Shape              Param #   \n",
      "=================================================================\n",
      "dense (Dense)                (None, 20)                15700     \n",
      "_________________________________________________________________\n",
      "activation (Activation)      (None, 20)                0         \n",
      "_________________________________________________________________\n",
      "batch_normalization (BatchNo (None, 20)                80        \n",
      "_________________________________________________________________\n",
      "dense_1 (Dense)              (None, 200)               4200      \n",
      "_________________________________________________________________\n",
      "activation_1 (Activation)    (None, 200)               0         \n",
      "_________________________________________________________________\n",
      "dense_2 (Dense)              (None, 200)               40200     \n",
      "_________________________________________________________________\n",
      "activation_2 (Activation)    (None, 200)               0         \n",
      "_________________________________________________________________\n",
      "dense_3 (Dense)              (None, 200)               40200     \n",
      "_________________________________________________________________\n",
      "activation_3 (Activation)    (None, 200)               0         \n",
      "_________________________________________________________________\n",
      "batch_normalization_1 (Batch (None, 200)               800       \n",
      "_________________________________________________________________\n",
      "dense_4 (Dense)              (None, 10)                2010      \n",
      "_________________________________________________________________\n",
      "activation_4 (Activation)    (None, 10)                0         \n",
      "=================================================================\n",
      "Total params: 103,190\n",
      "Trainable params: 102,750\n",
      "Non-trainable params: 440\n",
      "_________________________________________________________________\n"
     ]
    }
   ],
   "source": [
    "# check layers and trainable parameters - good estimate of training time\n",
    "model.summary()"
   ]
  },
  {
   "cell_type": "markdown",
   "metadata": {},
   "source": [
    "### Compile and fit the Model\n",
    "`compile()` lets TensorFlow create a *computation graph* a model representation that is platform-independent. \n",
    "This makes it possible to deploy a model on CPUs, GPUs, embedded systems, phones and web browsers."
   ]
  },
  {
   "cell_type": "code",
   "execution_count": 26,
   "metadata": {},
   "outputs": [],
   "source": [
    "model.compile(optimizer='adam', loss='categorical_crossentropy', metrics=['accuracy'])"
   ]
  },
  {
   "cell_type": "code",
   "execution_count": 27,
   "metadata": {},
   "outputs": [],
   "source": [
    "from tensorflow.keras.callbacks import EarlyStopping\n",
    "\n",
    "callback = EarlyStopping(monitor='val_loss', patience=3)"
   ]
  },
  {
   "cell_type": "code",
   "execution_count": 28,
   "metadata": {},
   "outputs": [
    {
     "name": "stdout",
     "output_type": "stream",
     "text": [
      "Epoch 1/10\n",
      "2/2 [==============================] - 1s 289ms/step - loss: 2.3632 - accuracy: 0.0957 - val_loss: 2.7135 - val_accuracy: 0.0800\n",
      "Epoch 2/10\n",
      "2/2 [==============================] - 0s 54ms/step - loss: 2.0547 - accuracy: 0.3920 - val_loss: 2.6944 - val_accuracy: 0.0800\n",
      "Epoch 3/10\n",
      "2/2 [==============================] - 0s 58ms/step - loss: 1.7930 - accuracy: 0.5195 - val_loss: 2.6784 - val_accuracy: 0.0800\n",
      "Epoch 4/10\n",
      "2/2 [==============================] - 0s 63ms/step - loss: 1.5890 - accuracy: 0.5375 - val_loss: 2.6639 - val_accuracy: 0.0800\n",
      "Epoch 5/10\n",
      "2/2 [==============================] - 0s 55ms/step - loss: 1.3951 - accuracy: 0.5955 - val_loss: 2.6499 - val_accuracy: 0.0800\n",
      "Epoch 6/10\n",
      "2/2 [==============================] - 0s 66ms/step - loss: 1.2415 - accuracy: 0.6280 - val_loss: 2.6351 - val_accuracy: 0.0800\n",
      "Epoch 7/10\n",
      "2/2 [==============================] - 0s 55ms/step - loss: 1.0974 - accuracy: 0.6687 - val_loss: 2.6204 - val_accuracy: 0.0800\n",
      "Epoch 8/10\n",
      "2/2 [==============================] - 0s 58ms/step - loss: 0.9721 - accuracy: 0.7038 - val_loss: 2.6054 - val_accuracy: 0.0800\n",
      "Epoch 9/10\n",
      "2/2 [==============================] - 0s 57ms/step - loss: 0.8524 - accuracy: 0.7520 - val_loss: 2.5899 - val_accuracy: 0.0800\n",
      "Epoch 10/10\n",
      "2/2 [==============================] - 0s 65ms/step - loss: 0.7636 - accuracy: 0.7765 - val_loss: 2.5732 - val_accuracy: 0.0800\n"
     ]
    }
   ],
   "source": [
    "h = model.fit(Xtrain[:1000], ytrain[:1000], epochs=10, batch_size=500, callbacks=[callback], verbose=1, validation_split=0.2)\n",
    "# verbose: Integer. 0, 1, or 2. Verbosity mode. 0 = silent, 1 = progress bar, 2 = one line per epoch."
   ]
  },
  {
   "cell_type": "markdown",
   "metadata": {},
   "source": [
    "### Plot Learning Curve"
   ]
  },
  {
   "cell_type": "code",
   "execution_count": null,
   "metadata": {},
   "outputs": [],
   "source": [
    "h.history.keys()"
   ]
  },
  {
   "cell_type": "code",
   "execution_count": null,
   "metadata": {},
   "outputs": [],
   "source": [
    "# loss should go down over time\n",
    "plt.plot(h.history['loss'])\n",
    "plt.plot(h.history['val_loss'])"
   ]
  },
  {
   "cell_type": "code",
   "execution_count": null,
   "metadata": {},
   "outputs": [],
   "source": [
    "# accuracy should go up over time\n",
    "plt.plot(h.history['accuracy'])\n",
    "plt.plot(h.history['val_accuracy'])"
   ]
  },
  {
   "cell_type": "markdown",
   "metadata": {},
   "source": [
    "### Exercises\n",
    "\n",
    "#### Exercise 1:\n",
    "\n",
    "Add another hidden layer to the model and re-run the training. \n",
    "\n",
    "#### Exercise 3:\n",
    "\n",
    "Change the activation of the hidden layers to `relu`\n",
    "\n",
    "#### Exercise 3:\n",
    "\n",
    "Add a Batch Normalization layer (a regularization technique) after the activation of the hidden layers.\n",
    "\n",
    "    BatchNormalization(),\n",
    "    \n",
    "Re-run the training. Do you observe any changes?\n",
    "\n",
    "#### Exercise 4:\n",
    "\n",
    "Tune some of the other hyperparameters (number of neurons, epochs). Try to get an accuracy of 96% or better."
   ]
  },
  {
   "cell_type": "markdown",
   "metadata": {},
   "source": [
    "### Evaluate on test data"
   ]
  },
  {
   "cell_type": "code",
   "execution_count": null,
   "metadata": {},
   "outputs": [],
   "source": [
    "#batch sizes here don't have to be the same size\n",
    "score = model.evaluate(Xtest, ytest, batch_size=500)\n",
    "print(score)"
   ]
  },
  {
   "cell_type": "markdown",
   "metadata": {},
   "source": [
    "some useful features:\n",
    "- model.summary() provides a really good overview of the model after you compile it.\n",
    "- you can save and load models to JSON files using the h5py library (copy from class example)\n",
    "- you can look at the model weights with model.get_weights()\n",
    "    - but this is more interesting to look at within *TensorBoard*"
   ]
  },
  {
   "cell_type": "markdown",
   "metadata": {},
   "source": [
    "### Save the model\n",
    "the JSON file (containing the structure) and a H5 file (containing the parameters)."
   ]
  },
  {
   "cell_type": "code",
   "execution_count": null,
   "metadata": {},
   "outputs": [],
   "source": [
    "# serialize model to JSON\n",
    "with open(\"model.json\", \"w\") as json_file:\n",
    "    json_file.write(model.to_json())\n",
    "\n",
    "# serialize weights to HDF5\n",
    "model.save_weights(\"model.h5\")\n",
    "print(\"Saved model to disk\")"
   ]
  },
  {
   "cell_type": "markdown",
   "metadata": {},
   "source": [
    "### Reading the contents of the h5 file."
   ]
  },
  {
   "cell_type": "code",
   "execution_count": null,
   "metadata": {},
   "outputs": [],
   "source": [
    "import h5py\n",
    "filename = \"model.h5\"\n",
    "h5 = h5py.File(filename,'r')\n",
    "\n",
    "# List all groups\n",
    "print(\"Keys: {}\\n\".format(h5.keys()))\n",
    "group_keys = list(h5.keys())\n",
    "print(group_keys)\n",
    "\n",
    "# Get the data\n",
    "# data = list(h5[a_group_key])"
   ]
  },
  {
   "cell_type": "code",
   "execution_count": null,
   "metadata": {},
   "outputs": [],
   "source": []
  }
 ],
 "metadata": {
  "kernelspec": {
   "display_name": "Python 3",
   "language": "python",
   "name": "python3"
  },
  "language_info": {
   "codemirror_mode": {
    "name": "ipython",
    "version": 3
   },
   "file_extension": ".py",
   "mimetype": "text/x-python",
   "name": "python",
   "nbconvert_exporter": "python",
   "pygments_lexer": "ipython3",
   "version": "3.8.10"
  }
 },
 "nbformat": 4,
 "nbformat_minor": 4
}
