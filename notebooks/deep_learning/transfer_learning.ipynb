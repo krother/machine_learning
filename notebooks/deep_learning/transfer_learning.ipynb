{
 "cells": [
  {
   "cell_type": "markdown",
   "metadata": {},
   "source": [
    "\n",
    "# Transfer Learning\n",
    "\n",
    "### 1. Transfer Learning\n",
    "\n",
    "1. Take layers from a **previously trained model** (https://paperswithcode.com/dataset/imagenet).\n",
    "2. **Freeze them**, so as to avoid destroying any of the information they contain during future training rounds.\n",
    "3. **Add some new, trainable layers** on top of the frozen layers. They will learn to turn the old features into predictions on a new dataset.\n",
    "4. **Train** the new layers on your dataset.\n",
    "\n",
    "### 2. Optional Fine-tuning\n",
    "\n",
    "Unfreeze the entire model (or part of it), and re-train it on the new data with a *very low learning rate*. This can potentially achieve meaningful improvements, by incrementally adapting the pretrained features to the new data."
   ]
  },
  {
   "cell_type": "code",
   "execution_count": null,
   "metadata": {},
   "outputs": [],
   "source": [
    "import os\n",
    "import numpy as np\n",
    "import tensorflow as tf\n",
    "import matplotlib.pyplot as plt\n",
    "from tensorflow.keras.preprocessing.image import load_img\n",
    "from tensorflow.keras.applications import efficientnet"
   ]
  },
  {
   "cell_type": "markdown",
   "metadata": {},
   "source": [
    "for multiclass classification with a Data Generator, it helps to organize data in this fashion:\n",
    "\n",
    "```\n",
    "./data\n",
    "    ├── test\n",
    "    │   ├── class1\n",
    "    │   ├── class2\n",
    "    │   └── class3\n",
    "    └── train\n",
    "        ├── class1\n",
    "        ├── class2\n",
    "        └── class3\n",
    "```"
   ]
  },
  {
   "cell_type": "markdown",
   "metadata": {},
   "source": [
    "### Read in data from local drive and define inputs and targets"
   ]
  },
  {
   "cell_type": "code",
   "execution_count": null,
   "metadata": {},
   "outputs": [],
   "source": [
    "def get_data(base_path, classes):\n",
    "    X = []\n",
    "    y = []   \n",
    "\n",
    "    for i, target in enumerate(classes):\n",
    "        files = os.listdir(base_path+target)\n",
    "        for file in files:\n",
    "            # load the image\n",
    "            img = tf.keras.utils.load_img(base_path + target + '/' + file, \n",
    "                                          target_size=(224, 224))\n",
    "            # convert it to an array\n",
    "            img_array = np.array(img)\n",
    "            # append the array to X\n",
    "            X.append(img_array)\n",
    "            # append the numeric target to y\n",
    "            y.append(i)\n",
    "\n",
    "    X = np.array(X)\n",
    "    y = np.array(y)\n",
    "\n",
    "    # shuffle the data\n",
    "    shuffler = np.random.permutation(len(X))\n",
    "    X = X[shuffler]\n",
    "    y = y[shuffler]\n",
    "    return X, y"
   ]
  },
  {
   "cell_type": "code",
   "execution_count": null,
   "metadata": {},
   "outputs": [],
   "source": [
    "classes = ['class1', 'class2', 'class3']  # replace by your own names\n",
    "\n",
    "\n",
    "X, y = get_data('../data/train/', classes)\n",
    "X.shape, y.shape"
   ]
  },
  {
   "cell_type": "markdown",
   "metadata": {},
   "source": [
    "## Preprocess the images and targets\n",
    "\n",
    "We need to apply the same preprocessing that was also applied to the images during training of the pre-trained model!"
   ]
  },
  {
   "cell_type": "code",
   "execution_count": null,
   "metadata": {},
   "outputs": [],
   "source": [
    "for i, image in enumerate(X):\n",
    "    X[i] = efficientnet.preprocess_input(image)\n",
    "X.shape"
   ]
  },
  {
   "cell_type": "code",
   "execution_count": null,
   "metadata": {},
   "outputs": [],
   "source": [
    "y"
   ]
  },
  {
   "cell_type": "code",
   "execution_count": null,
   "metadata": {},
   "outputs": [],
   "source": [
    "# convert y into a one-hot-encoded matrix\n",
    "y = tf.keras.utils.to_categorical(y)\n",
    "y.shape"
   ]
  },
  {
   "cell_type": "markdown",
   "metadata": {},
   "source": [
    "## Take layers from a previously trained model: EfficientNet\n",
    "\n",
    "another lightweight model.\n",
    "\n",
    "- Paper: https://arxiv.org/abs/1905.11946\n",
    "- Other pre-trained models: https://keras.io/api/applications/"
   ]
  },
  {
   "cell_type": "code",
   "execution_count": null,
   "metadata": {},
   "outputs": [],
   "source": [
    "base_model = efficientnet.EfficientNetB0(\n",
    "        weights='imagenet',         # use imagnet weights\n",
    "        pooling='avg',              # final flattening after convolutional layers\n",
    "        include_top=False,          # we only want the base of the model\n",
    "        input_shape=(224, 224, 3),  # this is the default for pre-trained models\n",
    ")"
   ]
  },
  {
   "cell_type": "code",
   "execution_count": null,
   "metadata": {},
   "outputs": [],
   "source": [
    "base_model.summary()"
   ]
  },
  {
   "cell_type": "code",
   "execution_count": null,
   "metadata": {},
   "outputs": [],
   "source": [
    "base_model.predict(X)"
   ]
  },
  {
   "cell_type": "markdown",
   "metadata": {},
   "source": [
    "#### Freeze the layers of the base model"
   ]
  },
  {
   "cell_type": "code",
   "execution_count": null,
   "metadata": {},
   "outputs": [],
   "source": [
    "for layer in base_model.layers:\n",
    "    layer.trainable=False"
   ]
  },
  {
   "cell_type": "markdown",
   "metadata": {},
   "source": [
    "#### Add new trainable layers on top of the frozen layers"
   ]
  },
  {
   "cell_type": "code",
   "execution_count": null,
   "metadata": {},
   "outputs": [],
   "source": [
    "model=tf.keras.Sequential()\n",
    "model.add(base_model)\n",
    "model.add(tf.keras.layers.Dense(3, activation=tf.keras.activations.softmax))\n",
    "model.summary()"
   ]
  },
  {
   "cell_type": "markdown",
   "metadata": {},
   "source": [
    "#### Start the training"
   ]
  },
  {
   "cell_type": "code",
   "execution_count": null,
   "metadata": {},
   "outputs": [],
   "source": [
    "model.compile(\n",
    "    loss=tf.keras.losses.categorical_crossentropy,\n",
    "    metrics=[tf.keras.metrics.categorical_accuracy]\n",
    ")"
   ]
  },
  {
   "cell_type": "code",
   "execution_count": null,
   "metadata": {},
   "outputs": [],
   "source": [
    "# early stopping to avoid overfitting\n",
    "callback = tf.keras.callbacks.EarlyStopping(\n",
    "    monitor='val_loss',\n",
    "    patience=3,\n",
    "    restore_best_weights=True\n",
    ")"
   ]
  },
  {
   "cell_type": "code",
   "execution_count": null,
   "metadata": {},
   "outputs": [],
   "source": [
    "results = model.fit(X, y, epochs=10, batch_size=64, callbacks=[callback], validation_split=0.3)"
   ]
  },
  {
   "cell_type": "code",
   "execution_count": null,
   "metadata": {
    "scrolled": true
   },
   "outputs": [],
   "source": [
    "plt.plot(results.history['val_loss'], label='validation loss')\n",
    "plt.plot(results.history['loss'], label='training loss')\n",
    "plt.legend()"
   ]
  },
  {
   "cell_type": "markdown",
   "metadata": {},
   "source": [
    "#### Save the model for deployment"
   ]
  },
  {
   "cell_type": "code",
   "execution_count": null,
   "metadata": {},
   "outputs": [],
   "source": [
    "model.save('model.h5')"
   ]
  },
  {
   "cell_type": "markdown",
   "metadata": {},
   "source": [
    "#### Run some test evaluation"
   ]
  },
  {
   "cell_type": "code",
   "execution_count": null,
   "metadata": {},
   "outputs": [],
   "source": [
    "# load in model for use\n",
    "model = tf.keras.models.load_model('model.h5')\n",
    "model.summary()"
   ]
  },
  {
   "cell_type": "code",
   "execution_count": null,
   "metadata": {},
   "outputs": [],
   "source": [
    "Xtest, ytest = get_data('../data/test/', classes)\n",
    "Xtest.shape, ytest.shape"
   ]
  },
  {
   "cell_type": "code",
   "execution_count": null,
   "metadata": {},
   "outputs": [],
   "source": [
    "# preprocess the test data\n",
    "for i, image in enumerate(Xtest):\n",
    "    Xtest[i] = efficientnet.preprocess_input(image)\n",
    "Xtest.shape"
   ]
  },
  {
   "cell_type": "code",
   "execution_count": null,
   "metadata": {},
   "outputs": [],
   "source": [
    "ytest_pred = model.predict(Xtest)\n",
    "ytest_pred.shape"
   ]
  },
  {
   "cell_type": "code",
   "execution_count": null,
   "metadata": {},
   "outputs": [],
   "source": [
    "model.evaluate(Xtest, tf.keras.utils.to_categorical(ytest))"
   ]
  },
  {
   "cell_type": "code",
   "execution_count": null,
   "metadata": {},
   "outputs": [],
   "source": [
    "np.round(ytest_pred, 2)"
   ]
  },
  {
   "cell_type": "code",
   "execution_count": null,
   "metadata": {},
   "outputs": [],
   "source": [
    "# convert the class probablities into discrete categories\n",
    "ytest_pred = np.argmax(ytest_pred, axis=1)\n",
    "ytest_pred"
   ]
  },
  {
   "cell_type": "code",
   "execution_count": null,
   "metadata": {},
   "outputs": [],
   "source": [
    "np.array(classes)[ytest_pred]"
   ]
  },
  {
   "cell_type": "markdown",
   "metadata": {},
   "source": [
    "### Advanced Tutorial with Image Augmentation and Fine-Tuning\n",
    "\n",
    "Read about and try out image augmentation: https://keras.io/guides/transfer_learning"
   ]
  },
  {
   "cell_type": "code",
   "execution_count": null,
   "metadata": {},
   "outputs": [],
   "source": []
  }
 ],
 "metadata": {
  "kernelspec": {
   "display_name": "Python 3",
   "language": "python",
   "name": "python3"
  },
  "language_info": {
   "codemirror_mode": {
    "name": "ipython",
    "version": 3
   },
   "file_extension": ".py",
   "mimetype": "text/x-python",
   "name": "python",
   "nbconvert_exporter": "python",
   "pygments_lexer": "ipython3",
   "version": "3.8.10"
  }
 },
 "nbformat": 4,
 "nbformat_minor": 2
}
