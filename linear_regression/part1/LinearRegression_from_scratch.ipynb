{
 "cells": [
  {
   "cell_type": "code",
   "execution_count": 1,
   "id": "e8d202b7",
   "metadata": {},
   "outputs": [],
   "source": [
    "import pandas as pd"
   ]
  },
  {
   "cell_type": "code",
   "execution_count": 32,
   "id": "4823b20d",
   "metadata": {},
   "outputs": [
    {
     "name": "stdout",
     "output_type": "stream",
     "text": [
      "['x1', 'y']\n",
      "(21, 2)\n"
     ]
    }
   ],
   "source": [
    "df = pd.read_csv(\"linear01.csv\")\n",
    "print(list(df.columns)) # names of columns\n",
    "print(df.shape)         # rows, columns"
   ]
  },
  {
   "cell_type": "code",
   "execution_count": 33,
   "id": "8dea5f0e",
   "metadata": {},
   "outputs": [
    {
     "data": {
      "text/plain": [
       "<AxesSubplot: xlabel='x1', ylabel='y'>"
      ]
     },
     "execution_count": 33,
     "metadata": {},
     "output_type": "execute_result"
    },
    {
     "data": {
      "image/png": "[encoded data removed]",
      "text/plain": [
       "<Figure size 640x480 with 1 Axes>"
      ]
     },
     "metadata": {},
     "output_type": "display_data"
    }
   ],
   "source": [
    "df.plot.scatter(x=\"x1\", y=\"y\")"
   ]
  },
  {
   "cell_type": "markdown",
   "id": "f604cae9",
   "metadata": {},
   "source": [
    "### Example 1: simple direct linear relationship\n",
    "\n",
    "* x1 - independent variable (assume it depends on nothing)\n",
    "* y - dependent variable (depends on x1)\n",
    "* m - slope (steepness of a straight line) -> a model parameter\n",
    "\n",
    "$y = mx$"
   ]
  },
  {
   "cell_type": "markdown",
   "id": "ed64480d",
   "metadata": {},
   "source": [
    "#### Calculate the slope from two data points\n",
    "\n",
    "$$\\frac{y2-y1}{x2-x1}$$"
   ]
  },
  {
   "cell_type": "code",
   "execution_count": 34,
   "id": "a932b881",
   "metadata": {},
   "outputs": [
    {
     "data": {
      "text/plain": [
       "(5.0, 15.0, 80.0, 240.0)"
      ]
     },
     "execution_count": 34,
     "metadata": {},
     "output_type": "execute_result"
    }
   ],
   "source": [
    "x1 = df.iloc[1][\"x1\"]\n",
    "x2 = df.iloc[16][\"x1\"]\n",
    "y1 = df.iloc[1][\"y\"]\n",
    "y2 = df.iloc[16][\"y\"]\n",
    "\n",
    "x1, y1, x2, y2"
   ]
  },
  {
   "cell_type": "code",
   "execution_count": 35,
   "id": "6c75f14e",
   "metadata": {},
   "outputs": [
    {
     "data": {
      "text/plain": [
       "3.0"
      ]
     },
     "execution_count": 35,
     "metadata": {},
     "output_type": "execute_result"
    }
   ],
   "source": [
    "m = (y2 - y1) / (x2 - x1)\n",
    "m"
   ]
  },
  {
   "cell_type": "code",
   "execution_count": 36,
   "id": "b2a1e020",
   "metadata": {},
   "outputs": [
    {
     "data": {
      "text/plain": [
       "597.0"
      ]
     },
     "execution_count": 36,
     "metadata": {},
     "output_type": "execute_result"
    }
   ],
   "source": [
    "# the slope translates x1 into y. Example: x1 are square meters, y is the flat price in 1000€ \n",
    "# we want to know the flat price for a place with 199 square meters\n",
    "\n",
    "# prediction for y for a new datapoint at x1==199.0:\n",
    "m * 199"
   ]
  },
  {
   "cell_type": "code",
   "execution_count": 24,
   "id": "912824d9",
   "metadata": {},
   "outputs": [],
   "source": [
    "# pandas can do multiple arithmetic ops at a time\n",
    "# df[\"y1\"] / df[\"x\"]"
   ]
  },
  {
   "cell_type": "markdown",
   "id": "7d8462aa",
   "metadata": {},
   "source": [
    "### Example 2: Linear relationship with an intercept"
   ]
  },
  {
   "cell_type": "code",
   "execution_count": 40,
   "id": "47608e86",
   "metadata": {},
   "outputs": [
    {
     "name": "stdout",
     "output_type": "stream",
     "text": [
      "['x1', 'y']\n",
      "(21, 2)\n"
     ]
    }
   ],
   "source": [
    "df = pd.read_csv(\"linear02.csv\")\n",
    "print(list(df.columns)) # names of columns\n",
    "print(df.shape)         # rows, columns"
   ]
  },
  {
   "cell_type": "code",
   "execution_count": 41,
   "id": "2c6b44b8",
   "metadata": {},
   "outputs": [
    {
     "data": {
      "text/plain": [
       "<AxesSubplot: xlabel='x1', ylabel='y'>"
      ]
     },
     "execution_count": 41,
     "metadata": {},
     "output_type": "execute_result"
    },
    {
     "data": {
      "image/png": "[encoded data removed]",
      "text/plain": [
       "<Figure size 640x480 with 1 Axes>"
      ]
     },
     "metadata": {},
     "output_type": "display_data"
    }
   ],
   "source": [
    "df.plot.scatter(x=\"x1\", y=\"y\")"
   ]
  },
  {
   "cell_type": "markdown",
   "id": "647c0f54",
   "metadata": {},
   "source": [
    "* a - slope (a model parameter)\n",
    "* b - intercept (a model parameter)\n",
    "\n",
    "$y = ax + b$"
   ]
  },
  {
   "cell_type": "code",
   "execution_count": 44,
   "id": "b9c353f7",
   "metadata": {},
   "outputs": [
    {
     "data": {
      "text/plain": [
       "(32.5, 76.0, 60.0, 131.0)"
      ]
     },
     "execution_count": 44,
     "metadata": {},
     "output_type": "execute_result"
    }
   ],
   "source": [
    "# get values for two data points\n",
    "x1 = df.iloc[5][\"x1\"]\n",
    "x2 = df.iloc[16][\"x1\"]\n",
    "y1 = df.iloc[5][\"y\"]\n",
    "y2 = df.iloc[16][\"y\"]\n",
    "\n",
    "x1, y1, x2, y2"
   ]
  },
  {
   "cell_type": "code",
   "execution_count": 45,
   "id": "ca75be1f",
   "metadata": {},
   "outputs": [
    {
     "data": {
      "text/plain": [
       "2.0"
      ]
     },
     "execution_count": 45,
     "metadata": {},
     "output_type": "execute_result"
    }
   ],
   "source": [
    "a = (y2 - y1) / (x2 - x1)\n",
    "a"
   ]
  },
  {
   "cell_type": "markdown",
   "id": "2fb1f543",
   "metadata": {},
   "source": [
    "#### find the intercept b:\n",
    "\n",
    "idea: solve the equation y = ax + b\n",
    "\n",
    "algebra: b = y - ax\n",
    "\n",
    "use any data point: b = y1 - a*x1"
   ]
  },
  {
   "cell_type": "code",
   "execution_count": 47,
   "id": "dc9f926a",
   "metadata": {},
   "outputs": [
    {
     "data": {
      "text/plain": [
       "11.0"
      ]
     },
     "execution_count": 47,
     "metadata": {},
     "output_type": "execute_result"
    }
   ],
   "source": [
    "b = y2 - a * x2\n",
    "b"
   ]
  },
  {
   "cell_type": "markdown",
   "id": "7656537b",
   "metadata": {},
   "source": [
    "#### Solution:\n",
    "\n",
    "$$y = 2x + 11$$\n",
    "\n",
    "logic: base price for a bathroom + price dependent on the size of the flat"
   ]
  },
  {
   "cell_type": "code",
   "execution_count": null,
   "id": "28522d55",
   "metadata": {},
   "outputs": [],
   "source": []
  }
 ],
 "metadata": {
  "kernelspec": {
   "display_name": "Python 3",
   "language": "python",
   "name": "python3"
  },
  "language_info": {
   "codemirror_mode": {
    "name": "ipython",
    "version": 3
   },
   "file_extension": ".py",
   "mimetype": "text/x-python",
   "name": "python",
   "nbconvert_exporter": "python",
   "pygments_lexer": "ipython3",
   "version": "3.9.12"
  }
 },
 "nbformat": 4,
 "nbformat_minor": 5
}
