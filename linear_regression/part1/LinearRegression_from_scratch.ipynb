{
 "cells": [
  {
   "cell_type": "code",
   "execution_count": 1,
   "id": "15e907a1",
   "metadata": {},
   "outputs": [],
   "source": [
    "import pandas as pd"
   ]
  },
  {
   "cell_type": "code",
   "execution_count": 32,
   "id": "bbd50337",
   "metadata": {},
   "outputs": [
    {
     "name": "stdout",
     "output_type": "stream",
     "text": [
      "['x1', 'y']\n",
      "(21, 2)\n"
     ]
    }
   ],
   "source": [
    "df = pd.read_csv(\"linear01.csv\")\n",
    "print(list(df.columns)) # names of columns\n",
    "print(df.shape)         # rows, columns"
   ]
  },
  {
   "cell_type": "code",
   "execution_count": 33,
   "id": "52e51295",
   "metadata": {},
   "outputs": [
    {
     "data": {
      "text/plain": [
       "<AxesSubplot: xlabel='x1', ylabel='y'>"
      ]
     },
     "execution_count": 33,
     "metadata": {},
     "output_type": "execute_result"
    },
    {
     "data": {
      "image/png": "[encoded data removed]",
      "text/plain": [
       "<Figure size 640x480 with 1 Axes>"
      ]
     },
     "metadata": {},
     "output_type": "display_data"
    }
   ],
   "source": [
    "df.plot.scatter(x=\"x1\", y=\"y\")"
   ]
  },
  {
   "cell_type": "markdown",
   "id": "3cb47983",
   "metadata": {},
   "source": [
    "### Example 1: simple direct linear relationship\n",
    "\n",
    "* x1 - independent variable (assume it depends on nothing)\n",
    "* y - dependent variable (depends on x1)\n",
    "* m - slope (steepness of a straight line) -> a model parameter\n",
    "\n",
    "$y = mx$"
   ]
  },
  {
   "cell_type": "markdown",
   "id": "332c8bc3",
   "metadata": {},
   "source": [
    "#### Calculate the slope from two data points\n",
    "\n",
    "$$\\frac{y2-y1}{x2-x1}$$"
   ]
  },
  {
   "cell_type": "code",
   "execution_count": 34,
   "id": "e89939d0",
   "metadata": {},
   "outputs": [
    {
     "data": {
      "text/plain": [
       "(5.0, 15.0, 80.0, 240.0)"
      ]
     },
     "execution_count": 34,
     "metadata": {},
     "output_type": "execute_result"
    }
   ],
   "source": [
    "x1 = df.iloc[1][\"x1\"]\n",
    "x2 = df.iloc[16][\"x1\"]\n",
    "y1 = df.iloc[1][\"y\"]\n",
    "y2 = df.iloc[16][\"y\"]\n",
    "\n",
    "x1, y1, x2, y2"
   ]
  },
  {
   "cell_type": "code",
   "execution_count": 35,
   "id": "96e53345",
   "metadata": {},
   "outputs": [
    {
     "data": {
      "text/plain": [
       "3.0"
      ]
     },
     "execution_count": 35,
     "metadata": {},
     "output_type": "execute_result"
    }
   ],
   "source": [
    "m = (y2 - y1) / (x2 - x1)\n",
    "m"
   ]
  },
  {
   "cell_type": "code",
   "execution_count": 36,
   "id": "89c7033b",
   "metadata": {},
   "outputs": [
    {
     "data": {
      "text/plain": [
       "597.0"
      ]
     },
     "execution_count": 36,
     "metadata": {},
     "output_type": "execute_result"
    }
   ],
   "source": [
    "# the slope translates x1 into y. Example: x1 are square meters, y is the flat price in 1000€ \n",
    "# we want to know the flat price for a place with 199 square meters\n",
    "\n",
    "# prediction for y for a new datapoint at x1==199.0:\n",
    "m * 199"
   ]
  },
  {
   "cell_type": "code",
   "execution_count": 24,
   "id": "732f8fb8",
   "metadata": {},
   "outputs": [],
   "source": [
    "# pandas can do multiple arithmetic ops at a time\n",
    "# df[\"y1\"] / df[\"x\"]"
   ]
  },
  {
   "cell_type": "markdown",
   "id": "76c62a67",
   "metadata": {},
   "source": [
    "### Example 2: Linear relationship with an intercept"
   ]
  },
  {
   "cell_type": "code",
   "execution_count": 40,
   "id": "fd136622",
   "metadata": {},
   "outputs": [
    {
     "name": "stdout",
     "output_type": "stream",
     "text": [
      "['x1', 'y']\n",
      "(21, 2)\n"
     ]
    }
   ],
   "source": [
    "df = pd.read_csv(\"linear02.csv\")\n",
    "print(list(df.columns)) # names of columns\n",
    "print(df.shape)         # rows, columns"
   ]
  },
  {
   "cell_type": "code",
   "execution_count": 41,
   "id": "5c451532",
   "metadata": {},
   "outputs": [
    {
     "data": {
      "text/plain": [
       "<AxesSubplot: xlabel='x1', ylabel='y'>"
      ]
     },
     "execution_count": 41,
     "metadata": {},
     "output_type": "execute_result"
    },
    {
     "data": {
      "image/png": "[encoded data removed]",
      "text/plain": [
       "<Figure size 640x480 with 1 Axes>"
      ]
     },
     "metadata": {},
     "output_type": "display_data"
    }
   ],
   "source": [
    "df.plot.scatter(x=\"x1\", y=\"y\")"
   ]
  },
  {
   "cell_type": "markdown",
   "id": "8ad4fbb2",
   "metadata": {},
   "source": [
    "* a - slope (a model parameter)\n",
    "* b - intercept (a model parameter)\n",
    "\n",
    "$y = ax + b$"
   ]
  },
  {
   "cell_type": "code",
   "execution_count": 44,
   "id": "831b2452",
   "metadata": {},
   "outputs": [
    {
     "data": {
      "text/plain": [
       "(32.5, 76.0, 60.0, 131.0)"
      ]
     },
     "execution_count": 44,
     "metadata": {},
     "output_type": "execute_result"
    }
   ],
   "source": [
    "# get values for two data points\n",
    "x1 = df.iloc[5][\"x1\"]\n",
    "x2 = df.iloc[16][\"x1\"]\n",
    "y1 = df.iloc[5][\"y\"]\n",
    "y2 = df.iloc[16][\"y\"]\n",
    "\n",
    "x1, y1, x2, y2"
   ]
  },
  {
   "cell_type": "code",
   "execution_count": 45,
   "id": "e4cbd54e",
   "metadata": {},
   "outputs": [
    {
     "data": {
      "text/plain": [
       "2.0"
      ]
     },
     "execution_count": 45,
     "metadata": {},
     "output_type": "execute_result"
    }
   ],
   "source": [
    "a = (y2 - y1) / (x2 - x1)\n",
    "a"
   ]
  },
  {
   "cell_type": "markdown",
   "id": "c85dfd79",
   "metadata": {},
   "source": [
    "#### find the intercept b:\n",
    "\n",
    "idea: solve the equation y = ax + b\n",
    "\n",
    "algebra: b = y - ax\n",
    "\n",
    "use any data point: b = y1 - a*x1"
   ]
  },
  {
   "cell_type": "code",
   "execution_count": 47,
   "id": "60e16a88",
   "metadata": {},
   "outputs": [
    {
     "data": {
      "text/plain": [
       "11.0"
      ]
     },
     "execution_count": 47,
     "metadata": {},
     "output_type": "execute_result"
    }
   ],
   "source": [
    "b = y2 - a * x2\n",
    "b"
   ]
  },
  {
   "cell_type": "markdown",
   "id": "6898a833",
   "metadata": {},
   "source": [
    "#### Solution:\n",
    "\n",
    "$$y = 2x + 11$$\n",
    "\n",
    "logic: base price for a bathroom + price dependent on the size of the flat"
   ]
  },
  {
   "cell_type": "markdown",
   "id": "2f06eacc",
   "metadata": {},
   "source": [
    "### Example 3: Linear Relationship with Noise"
   ]
  },
  {
   "cell_type": "code",
   "execution_count": 50,
   "id": "2d670ce2",
   "metadata": {},
   "outputs": [
    {
     "name": "stdout",
     "output_type": "stream",
     "text": [
      "['x1', 'y']\n",
      "(51, 2)\n"
     ]
    }
   ],
   "source": [
    "df = pd.read_csv(\"linear03.csv\")\n",
    "print(list(df.columns)) # names of columns\n",
    "print(df.shape)         # rows, columns"
   ]
  },
  {
   "cell_type": "code",
   "execution_count": 51,
   "id": "e9f20415",
   "metadata": {},
   "outputs": [
    {
     "data": {
      "text/plain": [
       "<AxesSubplot: xlabel='x1', ylabel='y'>"
      ]
     },
     "execution_count": 51,
     "metadata": {},
     "output_type": "execute_result"
    },
    {
     "data": {
      "image/png": "[encoded data removed]",
      "text/plain": [
       "<Figure size 640x480 with 1 Axes>"
      ]
     },
     "metadata": {},
     "output_type": "display_data"
    }
   ],
   "source": [
    "df.plot.scatter(x=\"x1\", y=\"y\")"
   ]
  },
  {
   "cell_type": "markdown",
   "id": "f39983e1",
   "metadata": {},
   "source": [
    "now the data contains *noise*, a random fluctuation $\\epsilon$ (we assume it is normally distributed):\n",
    "\n",
    "$$y = ax + \\epsilon$$\n",
    "\n",
    "note that the noise is not a model parameter!\n",
    "\n",
    "Our model is going to be this (using $\\hat y$ as an **estimate** of the real y):\n",
    "$$\\hat y = ax$$"
   ]
  },
  {
   "cell_type": "markdown",
   "id": "01c92439",
   "metadata": {},
   "source": [
    "#### How good is an estimate?\n",
    "\n",
    "We use the **mean squared error** as a metric to check how good our model is:\n",
    "\n",
    "$$\\frac{1}{n} \\sum_i (\\hat y_i - y_i) ^2$$\n",
    "\n",
    "where 0 means perfect and high number means very bad. Note that the MSE is always positive."
   ]
  },
  {
   "cell_type": "code",
   "execution_count": 72,
   "id": "1abfdd04",
   "metadata": {},
   "outputs": [],
   "source": [
    "from matplotlib import pyplot as plt\n",
    "from statistics import mean"
   ]
  },
  {
   "cell_type": "code",
   "execution_count": 95,
   "id": "1b140d4a",
   "metadata": {},
   "outputs": [],
   "source": [
    "a = 1  # our first estimate for the slope\n",
    "df[\"ŷ\"] = df[\"x1\"] * a  # we calculate the estimate for y (our predictions)"
   ]
  },
  {
   "cell_type": "markdown",
   "id": "3a64d382",
   "metadata": {},
   "source": [
    "#### Optimize the value for a"
   ]
  },
  {
   "cell_type": "code",
   "execution_count": 110,
   "id": "cee5c638",
   "metadata": {},
   "outputs": [
    {
     "data": {
      "text/plain": [
       "(31.91683219219755, 0.49)"
      ]
     },
     "execution_count": 110,
     "metadata": {},
     "output_type": "execute_result"
    }
   ],
   "source": [
    "# first optimization: try out many different values for a:\n",
    "results = []\n",
    "\n",
    "for i in range(100):\n",
    "    a = i / 100\n",
    "    df[\"ŷ\"] = df[\"x1\"] * a  # estimate for y\n",
    "    mse = mean((df[\"ŷ\"] - df[\"y\"]) ** 2)\n",
    "    results.append((mse, a))\n",
    "    # print(f\"{a:5.2f}    {mse:8.2f}\")\n",
    "    \n",
    "min(results)"
   ]
  },
  {
   "cell_type": "code",
   "execution_count": 96,
   "id": "20ead0dc",
   "metadata": {},
   "outputs": [
    {
     "data": {
      "text/plain": [
       "257.31"
      ]
     },
     "execution_count": 96,
     "metadata": {},
     "output_type": "execute_result"
    }
   ],
   "source": [
    "mse = mean((df[\"ŷ\"] - df[\"y\"]) ** 2)  # mean squared error\n",
    "round(mse, 2)"
   ]
  },
  {
   "cell_type": "code",
   "execution_count": 111,
   "id": "59ffbd4d",
   "metadata": {},
   "outputs": [],
   "source": [
    "df[\"ŷ\"] = df[\"x1\"] * 0.49  # estimate for y using the best a value we could find"
   ]
  },
  {
   "cell_type": "code",
   "execution_count": 112,
   "id": "8ee84fb4",
   "metadata": {},
   "outputs": [
    {
     "data": {
      "text/plain": [
       "[<matplotlib.lines.Line2D at 0x7f7da59ce940>]"
      ]
     },
     "execution_count": 112,
     "metadata": {},
     "output_type": "execute_result"
    },
    {
     "data": {
      "image/png": "[encoded data removed]",
      "text/plain": [
       "<Figure size 640x480 with 1 Axes>"
      ]
     },
     "metadata": {},
     "output_type": "display_data"
    }
   ],
   "source": [
    "plt.plot(df[\"x1\"], df[\"y\"], \"bo\")\n",
    "plt.plot(df[\"x1\"], df[\"ŷ\"], \"r--\")"
   ]
  },
  {
   "cell_type": "code",
   "execution_count": null,
   "id": "2c30b70a",
   "metadata": {},
   "outputs": [],
   "source": []
  }
 ],
 "metadata": {
  "kernelspec": {
   "display_name": "Python 3",
   "language": "python",
   "name": "python3"
  },
  "language_info": {
   "codemirror_mode": {
    "name": "ipython",
    "version": 3
   },
   "file_extension": ".py",
   "mimetype": "text/x-python",
   "name": "python",
   "nbconvert_exporter": "python",
   "pygments_lexer": "ipython3",
   "version": "3.9.12"
  }
 },
 "nbformat": 4,
 "nbformat_minor": 5
}
