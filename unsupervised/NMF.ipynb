{
 "cells": [
  {
   "cell_type": "code",
   "execution_count": 1,
   "metadata": {},
   "outputs": [],
   "source": [
    "import numpy as np\n",
    "from sklearn.decomposition import NMF\n",
    "import pandas as pd"
   ]
  },
  {
   "cell_type": "code",
   "execution_count": 2,
   "metadata": {},
   "outputs": [],
   "source": [
    "# movie, ratings by users\n",
    "data = [[5,3,0,1],[4,2,0,1],[1,1,0,5],[1,0,0,4],[0,1,5,4], [3,3,3,3]]\n",
    "\n",
    "#movies\n",
    "index = ['Titanic', 'Tiffany', 'Terminator', 'Star Trek', 'Star Wars', 'Shrek']\n",
    "\n",
    "#users\n",
    "columns = ['u1', 'u2', 'u3', 'u4']"
   ]
  },
  {
   "cell_type": "markdown",
   "metadata": {},
   "source": [
    "### Creating a DataFrame"
   ]
  },
  {
   "cell_type": "code",
   "execution_count": 3,
   "metadata": {},
   "outputs": [],
   "source": [
    "ratings = pd.DataFrame(data, index=index, columns=columns)"
   ]
  },
  {
   "cell_type": "code",
   "execution_count": 18,
   "metadata": {},
   "outputs": [
    {
     "data": {
      "text/html": [
       "<div>\n",
       "<style scoped>\n",
       "    .dataframe tbody tr th:only-of-type {\n",
       "        vertical-align: middle;\n",
       "    }\n",
       "\n",
       "    .dataframe tbody tr th {\n",
       "        vertical-align: top;\n",
       "    }\n",
       "\n",
       "    .dataframe thead th {\n",
       "        text-align: right;\n",
       "    }\n",
       "</style>\n",
       "<table border=\"1\" class=\"dataframe\">\n",
       "  <thead>\n",
       "    <tr style=\"text-align: right;\">\n",
       "      <th></th>\n",
       "      <th>u1</th>\n",
       "      <th>u2</th>\n",
       "      <th>u3</th>\n",
       "      <th>u4</th>\n",
       "    </tr>\n",
       "  </thead>\n",
       "  <tbody>\n",
       "    <tr>\n",
       "      <th>Titanic</th>\n",
       "      <td>5</td>\n",
       "      <td>3</td>\n",
       "      <td>0</td>\n",
       "      <td>1</td>\n",
       "    </tr>\n",
       "    <tr>\n",
       "      <th>Tiffany</th>\n",
       "      <td>4</td>\n",
       "      <td>2</td>\n",
       "      <td>0</td>\n",
       "      <td>1</td>\n",
       "    </tr>\n",
       "    <tr>\n",
       "      <th>Terminator</th>\n",
       "      <td>1</td>\n",
       "      <td>1</td>\n",
       "      <td>0</td>\n",
       "      <td>5</td>\n",
       "    </tr>\n",
       "    <tr>\n",
       "      <th>Star Trek</th>\n",
       "      <td>1</td>\n",
       "      <td>0</td>\n",
       "      <td>0</td>\n",
       "      <td>4</td>\n",
       "    </tr>\n",
       "    <tr>\n",
       "      <th>Star Wars</th>\n",
       "      <td>0</td>\n",
       "      <td>1</td>\n",
       "      <td>5</td>\n",
       "      <td>4</td>\n",
       "    </tr>\n",
       "    <tr>\n",
       "      <th>Shrek</th>\n",
       "      <td>3</td>\n",
       "      <td>3</td>\n",
       "      <td>3</td>\n",
       "      <td>3</td>\n",
       "    </tr>\n",
       "  </tbody>\n",
       "</table>\n",
       "</div>"
      ],
      "text/plain": [
       "            u1  u2  u3  u4\n",
       "Titanic      5   3   0   1\n",
       "Tiffany      4   2   0   1\n",
       "Terminator   1   1   0   5\n",
       "Star Trek    1   0   0   4\n",
       "Star Wars    0   1   5   4\n",
       "Shrek        3   3   3   3"
      ]
     },
     "execution_count": 18,
     "metadata": {},
     "output_type": "execute_result"
    }
   ],
   "source": [
    "ratings.head(6)"
   ]
  },
  {
   "cell_type": "code",
   "execution_count": 5,
   "metadata": {},
   "outputs": [],
   "source": [
    "X = ratings.values"
   ]
  },
  {
   "cell_type": "code",
   "execution_count": 6,
   "metadata": {},
   "outputs": [
    {
     "data": {
      "text/plain": [
       "array([[5, 3, 0, 1],\n",
       "       [4, 2, 0, 1],\n",
       "       [1, 1, 0, 5],\n",
       "       [1, 0, 0, 4],\n",
       "       [0, 1, 5, 4],\n",
       "       [3, 3, 3, 3]])"
      ]
     },
     "execution_count": 6,
     "metadata": {},
     "output_type": "execute_result"
    }
   ],
   "source": [
    "X"
   ]
  },
  {
   "cell_type": "code",
   "execution_count": 7,
   "metadata": {},
   "outputs": [],
   "source": [
    "# model assumes X ~ PQ'\n",
    "model = NMF(n_components=3, init='random', random_state=10)\n"
   ]
  },
  {
   "cell_type": "code",
   "execution_count": 8,
   "metadata": {},
   "outputs": [
    {
     "data": {
      "text/plain": [
       "NMF(alpha=0.0, beta_loss='frobenius', init='random', l1_ratio=0.0,\n",
       "  max_iter=200, n_components=3, random_state=10, shuffle=False,\n",
       "  solver='cd', tol=0.0001, verbose=0)"
      ]
     },
     "execution_count": 8,
     "metadata": {},
     "output_type": "execute_result"
    }
   ],
   "source": [
    "model"
   ]
  },
  {
   "cell_type": "code",
   "execution_count": 9,
   "metadata": {},
   "outputs": [
    {
     "data": {
      "text/plain": [
       "NMF(alpha=0.0, beta_loss='frobenius', init='random', l1_ratio=0.0,\n",
       "  max_iter=200, n_components=3, random_state=10, shuffle=False,\n",
       "  solver='cd', tol=0.0001, verbose=0)"
      ]
     },
     "execution_count": 9,
     "metadata": {},
     "output_type": "execute_result"
    }
   ],
   "source": [
    "model.fit(X)"
   ]
  },
  {
   "cell_type": "code",
   "execution_count": 10,
   "metadata": {},
   "outputs": [],
   "source": [
    "# H : movie feature\n",
    "P = model.components_"
   ]
  },
  {
   "cell_type": "code",
   "execution_count": 11,
   "metadata": {},
   "outputs": [
    {
     "data": {
      "text/plain": [
       "array([[0.        , 0.30119006, 1.23059224, 0.        ],\n",
       "       [1.14187221, 0.68290275, 0.        , 0.22828247],\n",
       "       [0.        , 0.        , 0.        , 1.08951129]])"
      ]
     },
     "execution_count": 11,
     "metadata": {},
     "output_type": "execute_result"
    }
   ],
   "source": [
    "P #Matrix describes the strenght relation between User and Feature\n",
    "  #4 Users 3 Features for example"
   ]
  },
  {
   "cell_type": "code",
   "execution_count": 12,
   "metadata": {},
   "outputs": [],
   "source": [
    "# W : user feature\n",
    "Q = model.transform(X)      # association strenght between movie and feature\n"
   ]
  },
  {
   "cell_type": "code",
   "execution_count": 13,
   "metadata": {},
   "outputs": [
    {
     "data": {
      "text/plain": [
       "array([[1.37113653e-03, 4.38231312e+00, 0.00000000e+00],\n",
       "       [0.00000000e+00, 3.35171135e+00, 2.15567331e-01],\n",
       "       [5.63885328e-02, 1.02426274e+00, 4.37460246e+00],\n",
       "       [0.00000000e+00, 6.45042660e-01, 3.53621675e+00],\n",
       "       [4.02109588e+00, 0.00000000e+00, 3.67137086e+00],\n",
       "       [2.50401168e+00, 2.80149849e+00, 2.16653743e+00]])"
      ]
     },
     "execution_count": 13,
     "metadata": {},
     "output_type": "execute_result"
    }
   ],
   "source": [
    "Q"
   ]
  },
  {
   "cell_type": "code",
   "execution_count": 14,
   "metadata": {},
   "outputs": [
    {
     "name": "stdout",
     "output_type": "stream",
     "text": [
      "0.8336106077106371\n"
     ]
    }
   ],
   "source": [
    "print(model.reconstruction_err_)"
   ]
  },
  {
   "cell_type": "code",
   "execution_count": 15,
   "metadata": {},
   "outputs": [
    {
     "name": "stdout",
     "output_type": "stream",
     "text": [
      "[[5.00404157e+00 2.99310667e+00 1.68730997e-03 1.00040528e+00]\n",
      " [3.82722604e+00 2.28889291e+00 0.00000000e+00 1.00000000e+00]\n",
      " [1.16957716e+00 7.16455511e-01 6.93912907e-02 5.00000000e+00]\n",
      " [7.36556287e-01 4.40501409e-01 0.00000000e+00 4.00000000e+00]\n",
      " [0.00000000e+00 1.21111413e+00 4.94832937e+00 4.00000000e+00]\n",
      " [3.19895328e+00 2.66733448e+00 3.08141733e+00 3.00000000e+00]]\n"
     ]
    }
   ],
   "source": [
    "nR = np.dot(Q,P)\n",
    "print(nR)"
   ]
  },
  {
   "cell_type": "code",
   "execution_count": 36,
   "metadata": {},
   "outputs": [
    {
     "data": {
      "text/plain": [
       "array([16.77470778, 15.02433103, 48.96538031, 38.58143078, 63.95874122,\n",
       "       49.32379428])"
      ]
     },
     "execution_count": 36,
     "metadata": {},
     "output_type": "execute_result"
    }
   ],
   "source": [
    "# recommendations for new data\n",
    "new = np.array([0, 0, 1, 0, 1, 1])\n",
    "segments = new * Q.T  # get category weights\n",
    "user_cat = segments.sum(axis=1)\n",
    "movie_sums = user_cat * Q\n",
    "movie_sums.sum(axis=1)\n",
    "# now rank the hits and output the first that the user hasnt seen yet"
   ]
  },
  {
   "cell_type": "markdown",
   "metadata": {},
   "source": [
    "## Topic Modelling"
   ]
  },
  {
   "cell_type": "markdown",
   "metadata": {},
   "source": [
    "### Importing Data"
   ]
  },
  {
   "cell_type": "code",
   "execution_count": 44,
   "metadata": {
    "collapsed": true
   },
   "outputs": [],
   "source": [
    "from sklearn.datasets import fetch_20newsgroups\n",
    "\n",
    "dataset = fetch_20newsgroups(shuffle=True, random_state=1, remove=('headers', 'footers', 'quotes'))\n",
    "documents = dataset.data"
   ]
  },
  {
   "cell_type": "markdown",
   "metadata": {},
   "source": [
    "### Preprocessing Data"
   ]
  },
  {
   "cell_type": "code",
   "execution_count": 47,
   "metadata": {
    "collapsed": true
   },
   "outputs": [],
   "source": [
    "from sklearn.feature_extraction.text import TfidfVectorizer, CountVectorizer\n"
   ]
  },
  {
   "cell_type": "code",
   "execution_count": 49,
   "metadata": {
    "collapsed": true
   },
   "outputs": [],
   "source": [
    "no_features = 1000  # Defining K"
   ]
  },
  {
   "cell_type": "code",
   "execution_count": null,
   "metadata": {
    "collapsed": true
   },
   "outputs": [],
   "source": [
    "tfidf_vectorizer = TfidfVectorizer(max_df=0.95, min_df=2, max_features=no_features, stop_words='english')"
   ]
  },
  {
   "cell_type": "code",
   "execution_count": null,
   "metadata": {
    "collapsed": true
   },
   "outputs": [],
   "source": [
    "tfidf = tfidf_vectorizer.fit_transform(documents) "
   ]
  },
  {
   "cell_type": "code",
   "execution_count": 52,
   "metadata": {
    "collapsed": true
   },
   "outputs": [],
   "source": [
    "tfidf_feature_names = tfidf_vectorizer.get_feature_names()"
   ]
  },
  {
   "cell_type": "code",
   "execution_count": 79,
   "metadata": {
    "collapsed": true
   },
   "outputs": [],
   "source": [
    "from sklearn.decomposition import NMF "
   ]
  },
  {
   "cell_type": "markdown",
   "metadata": {},
   "source": [
    "### Applying Matrix Factorization"
   ]
  },
  {
   "cell_type": "code",
   "execution_count": 80,
   "metadata": {},
   "outputs": [],
   "source": [
    "\n",
    "no_topics = 30 #\n",
    "\n",
    "nmf = NMF(n_components=no_topics, random_state=1, alpha=.1, l1_ratio=.5, init='nndsvd').fit(tfidf)\n"
   ]
  },
  {
   "cell_type": "code",
   "execution_count": 81,
   "metadata": {},
   "outputs": [],
   "source": [
    "def display_topics(model, feature_names, no_top_words):\n",
    "    for topic_idx, topic in enumerate(model.components_):\n",
    "        print (\"Topic % d:\" % (topic_idx))\n",
    "        print (\" \".join([feature_names[i] for i in topic.argsort()[:-no_top_words - 1:-1]]))"
   ]
  },
  {
   "cell_type": "code",
   "execution_count": 82,
   "metadata": {
    "collapsed": true
   },
   "outputs": [],
   "source": [
    "no_top_words = 10"
   ]
  },
  {
   "cell_type": "code",
   "execution_count": 83,
   "metadata": {},
   "outputs": [
    {
     "name": "stdout",
     "output_type": "stream",
     "text": [
      "Topic  0:\n",
      "people right government said say make way point believe law\n",
      "Topic  1:\n",
      "problem problems using error apple screen fine work try having\n",
      "Topic  2:\n",
      "god jesus bible christ faith believe christian christians sin lord\n",
      "Topic  3:\n",
      "game team year games season players play hockey win league\n",
      "Topic  4:\n",
      "used software 10 need sale data offer available using mail\n",
      "Topic  5:\n",
      "thanks advance mail hi looking info appreciated help know anybody\n",
      "Topic  6:\n",
      "windows dos ms version running using drivers os run driver\n",
      "Topic  7:\n",
      "edu soon cs university article internet ftp email david pub\n",
      "Topic  8:\n",
      "key chip clipper keys encryption escrow government public algorithm nsa\n",
      "Topic  9:\n",
      "drive scsi drives hard disk ide controller floppy cd tape\n",
      "Topic  10:\n",
      "just ll thought tell work little oh wanted maybe mean\n",
      "Topic  11:\n",
      "does know anybody mean help say work doesn exist program\n",
      "Topic  12:\n",
      "card video monitor drivers cards bus vga driver color mode\n",
      "Topic  13:\n",
      "like sounds looks look things lot sound really thing doesn\n",
      "Topic  14:\n",
      "don know want let need really sure doesn little sorry\n",
      "Topic  15:\n",
      "car cars engine speed driver price bought insurance road drivers\n",
      "Topic  16:\n",
      "think don lot really try bit makes pretty better wasn\n",
      "Topic  17:\n",
      "israel israeli jews jewish peace war land anti state killed\n",
      "Topic  18:\n",
      "use using work used way encryption instead different want uses\n",
      "Topic  19:\n",
      "com list dave article internet sun hp reply ibm away\n",
      "Topic  20:\n",
      "good bad thing pretty better quality year book looking idea\n",
      "Topic  21:\n",
      "ve got seen heard tried recently times try couple maybe\n",
      "Topic  22:\n",
      "window manager application display motif server widget program using screen\n",
      "Topic  23:\n",
      "new york price old gm sale years condition cover 000\n",
      "Topic  24:\n",
      "bike dod engine right turn left road fast insurance street\n",
      "Topic  25:\n",
      "00 sale 50 20 shipping 10 price 30 15 condition\n",
      "Topic  26:\n",
      "time long ago years didn real remember running going really\n",
      "Topic  27:\n",
      "file files ftp program directory format image gif pub available\n",
      "Topic  28:\n",
      "did didn question claim fbi jesus say way evidence took\n",
      "Topic  29:\n",
      "space nasa shuttle launch orbit station earth gov sci satellite\n"
     ]
    }
   ],
   "source": [
    "display_topics(nmf, tfidf_feature_names, no_top_words)"
   ]
  },
  {
   "cell_type": "code",
   "execution_count": null,
   "metadata": {
    "collapsed": true
   },
   "outputs": [],
   "source": []
  }
 ],
 "metadata": {
  "anaconda-cloud": {},
  "kernelspec": {
   "display_name": "Python 3",
   "language": "python",
   "name": "python3"
  },
  "language_info": {
   "codemirror_mode": {
    "name": "ipython",
    "version": 3
   },
   "file_extension": ".py",
   "mimetype": "text/x-python",
   "name": "python",
   "nbconvert_exporter": "python",
   "pygments_lexer": "ipython3",
   "version": "3.6.5"
  }
 },
 "nbformat": 4,
 "nbformat_minor": 1
}
